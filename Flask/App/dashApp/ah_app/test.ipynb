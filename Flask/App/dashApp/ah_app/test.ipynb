{
 "metadata": {
  "language_info": {
   "codemirror_mode": {
    "name": "ipython",
    "version": 3
   },
   "file_extension": ".py",
   "mimetype": "text/x-python",
   "name": "python",
   "nbconvert_exporter": "python",
   "pygments_lexer": "ipython3",
   "version": "3.9.4"
  },
  "orig_nbformat": 2,
  "kernelspec": {
   "name": "python394jvsc74a57bd08ad5a05233cc2e41f262868e19a327d4eaa1dbd0e2e2d312d516e324f3f360b2",
   "display_name": "Python 3.9.4 64-bit"
  }
 },
 "nbformat": 4,
 "nbformat_minor": 2,
 "cells": [
  {
   "cell_type": "code",
   "execution_count": 13,
   "metadata": {},
   "outputs": [
    {
     "output_type": "stream",
     "name": "stderr",
     "text": [
      "<ipython-input-13-e2db79abea4f>:29: SettingWithCopyWarning: \nA value is trying to be set on a copy of a slice from a DataFrame.\nTry using .loc[row_indexer,col_indexer] = value instead\n\nSee the caveats in the documentation: https://pandas.pydata.org/pandas-docs/stable/user_guide/indexing.html#returning-a-view-versus-a-copy\n  d[\"اختلاف ماه سال\"] = d[\"پارامتر\"] - d[\"پارامتر\"].shift(1)\n<ipython-input-13-e2db79abea4f>:29: SettingWithCopyWarning: \nA value is trying to be set on a copy of a slice from a DataFrame.\nTry using .loc[row_indexer,col_indexer] = value instead\n\nSee the caveats in the documentation: https://pandas.pydata.org/pandas-docs/stable/user_guide/indexing.html#returning-a-view-versus-a-copy\n  d[\"اختلاف ماه سال\"] = d[\"پارامتر\"] - d[\"پارامتر\"].shift(1)\n<ipython-input-13-e2db79abea4f>:29: SettingWithCopyWarning: \nA value is trying to be set on a copy of a slice from a DataFrame.\nTry using .loc[row_indexer,col_indexer] = value instead\n\nSee the caveats in the documentation: https://pandas.pydata.org/pandas-docs/stable/user_guide/indexing.html#returning-a-view-versus-a-copy\n  d[\"اختلاف ماه سال\"] = d[\"پارامتر\"] - d[\"پارامتر\"].shift(1)\n<ipython-input-13-e2db79abea4f>:29: SettingWithCopyWarning: \nA value is trying to be set on a copy of a slice from a DataFrame.\nTry using .loc[row_indexer,col_indexer] = value instead\n\nSee the caveats in the documentation: https://pandas.pydata.org/pandas-docs/stable/user_guide/indexing.html#returning-a-view-versus-a-copy\n  d[\"اختلاف ماه سال\"] = d[\"پارامتر\"] - d[\"پارامتر\"].shift(1)\n<ipython-input-13-e2db79abea4f>:29: SettingWithCopyWarning: \nA value is trying to be set on a copy of a slice from a DataFrame.\nTry using .loc[row_indexer,col_indexer] = value instead\n\nSee the caveats in the documentation: https://pandas.pydata.org/pandas-docs/stable/user_guide/indexing.html#returning-a-view-versus-a-copy\n  d[\"اختلاف ماه سال\"] = d[\"پارامتر\"] - d[\"پارامتر\"].shift(1)\n<ipython-input-13-e2db79abea4f>:29: SettingWithCopyWarning: \nA value is trying to be set on a copy of a slice from a DataFrame.\nTry using .loc[row_indexer,col_indexer] = value instead\n\nSee the caveats in the documentation: https://pandas.pydata.org/pandas-docs/stable/user_guide/indexing.html#returning-a-view-versus-a-copy\n  d[\"اختلاف ماه سال\"] = d[\"پارامتر\"] - d[\"پارامتر\"].shift(1)\n<ipython-input-13-e2db79abea4f>:29: SettingWithCopyWarning: \nA value is trying to be set on a copy of a slice from a DataFrame.\nTry using .loc[row_indexer,col_indexer] = value instead\n\nSee the caveats in the documentation: https://pandas.pydata.org/pandas-docs/stable/user_guide/indexing.html#returning-a-view-versus-a-copy\n  d[\"اختلاف ماه سال\"] = d[\"پارامتر\"] - d[\"پارامتر\"].shift(1)\n<ipython-input-13-e2db79abea4f>:29: SettingWithCopyWarning: \nA value is trying to be set on a copy of a slice from a DataFrame.\nTry using .loc[row_indexer,col_indexer] = value instead\n\nSee the caveats in the documentation: https://pandas.pydata.org/pandas-docs/stable/user_guide/indexing.html#returning-a-view-versus-a-copy\n  d[\"اختلاف ماه سال\"] = d[\"پارامتر\"] - d[\"پارامتر\"].shift(1)\n<ipython-input-13-e2db79abea4f>:29: SettingWithCopyWarning: \nA value is trying to be set on a copy of a slice from a DataFrame.\nTry using .loc[row_indexer,col_indexer] = value instead\n\nSee the caveats in the documentation: https://pandas.pydata.org/pandas-docs/stable/user_guide/indexing.html#returning-a-view-versus-a-copy\n  d[\"اختلاف ماه سال\"] = d[\"پارامتر\"] - d[\"پارامتر\"].shift(1)\n<ipython-input-13-e2db79abea4f>:29: SettingWithCopyWarning: \nA value is trying to be set on a copy of a slice from a DataFrame.\nTry using .loc[row_indexer,col_indexer] = value instead\n\nSee the caveats in the documentation: https://pandas.pydata.org/pandas-docs/stable/user_guide/indexing.html#returning-a-view-versus-a-copy\n  d[\"اختلاف ماه سال\"] = d[\"پارامتر\"] - d[\"پارامتر\"].shift(1)\n<ipython-input-13-e2db79abea4f>:29: SettingWithCopyWarning: \nA value is trying to be set on a copy of a slice from a DataFrame.\nTry using .loc[row_indexer,col_indexer] = value instead\n\nSee the caveats in the documentation: https://pandas.pydata.org/pandas-docs/stable/user_guide/indexing.html#returning-a-view-versus-a-copy\n  d[\"اختلاف ماه سال\"] = d[\"پارامتر\"] - d[\"پارامتر\"].shift(1)\n<ipython-input-13-e2db79abea4f>:29: SettingWithCopyWarning: \nA value is trying to be set on a copy of a slice from a DataFrame.\nTry using .loc[row_indexer,col_indexer] = value instead\n\nSee the caveats in the documentation: https://pandas.pydata.org/pandas-docs/stable/user_guide/indexing.html#returning-a-view-versus-a-copy\n  d[\"اختلاف ماه سال\"] = d[\"پارامتر\"] - d[\"پارامتر\"].shift(1)\n"
     ]
    }
   ],
   "source": [
    "import pandas as pd\n",
    "df = pd.read_csv(\"df.csv\")\n",
    "df.columns = [\"سال\", \"ماه\", \"پارامتر\"]\n",
    "\n",
    "def waterYear(df):\n",
    "    if df[\"ماه\"] >= 7 and df[\"ماه\"] <= 12:\n",
    "        WY = str(int(df[\"سال\"])) + \"-\" + str(int(df[\"سال\"]) + 1)[2:4]\n",
    "        WM = int(df[\"ماه\"]) - 6\n",
    "    elif df[\"ماه\"] >= 1 and df[\"ماه\"] <= 6:\n",
    "        WY = str(int(df[\"سال\"]) - 1) + \"-\" + str(int(df[\"سال\"]))[2:4]\n",
    "        WM = int(df[\"ماه\"]) + 6\n",
    "    else:\n",
    "        WY = None\n",
    "        WM = None\n",
    "    return [WY, WM]\n",
    "\n",
    "\n",
    "def resultTable(df):\n",
    "    df[\"پارامتر\"] = df[\"پارامتر\"].round(2)    \n",
    "    df[\"WATER_YEAR\"] = df.apply(waterYear, axis=1)\n",
    "    df[['سال آبی','ماه آبی']] = pd.DataFrame(df.WATER_YEAR.tolist(), index= df.index)\n",
    "    df.drop('WATER_YEAR', inplace=True, axis=1)\n",
    "    df[\"اختلاف ماه\"] = df[\"پارامتر\"] - df[\"پارامتر\"].shift(1)\n",
    "    df[\"اختلاف ماه\"] = df[\"اختلاف ماه\"].round(2)\n",
    "    df = df.sort_values(['ماه', 'سال'])\n",
    "    result = pd.DataFrame()\n",
    "    for m in range(1,13):\n",
    "        d = df[df[\"ماه\"] == m]\n",
    "        d[\"اختلاف ماه سال\"] = d[\"پارامتر\"] - d[\"پارامتر\"].shift(1)\n",
    "        result = pd.concat([result, d])\n",
    "    result = result.sort_values(['سال', 'ماه'])\n",
    "    result[\"اختلاف ماه سال\"] = result[\"اختلاف ماه سال\"].round(2)\n",
    "    \n",
    "    return result\n",
    "\n",
    "df = resultTable(df)"
   ]
  },
  {
   "cell_type": "code",
   "execution_count": 15,
   "metadata": {},
   "outputs": [
    {
     "output_type": "execute_result",
     "data": {
      "text/plain": [
       "ماه آبی  سال آبی     1     2     3     4     5     6     7     8     9    10  \\\n",
       "0        1379-80   NaN   NaN   NaN   NaN   NaN   NaN   NaN -0.02 -0.03 -0.03   \n",
       "1        1380-81 -0.02  0.01 -0.02 -0.02  0.04  0.22  0.04 -0.06 -0.03 -0.06   \n",
       "2        1381-82 -0.08 -0.06  0.00 -0.04 -0.08 -0.09 -0.03 -0.02 -0.01 -0.02   \n",
       "3        1382-83  0.02 -0.01 -0.02  0.02  0.02 -0.06 -0.02 -0.01  0.01 -0.06   \n",
       "4        1383-84 -0.04 -0.05  0.02  0.02 -0.02 -0.01  0.00 -0.02 -0.06   NaN   \n",
       "5        1384-85   NaN  0.03  0.02  0.02  0.01  0.01 -0.01  0.00  0.00 -0.02   \n",
       "6        1385-86  0.03  0.02 -0.04  0.00 -0.01 -0.03  0.01  0.01  0.00 -0.01   \n",
       "7        1386-87 -0.02 -0.03  0.00 -0.01 -0.01  0.00  0.01  0.00 -0.01 -0.01   \n",
       "8        1387-88 -0.01 -0.01 -0.02  0.00 -0.02  0.00 -0.01 -0.02 -0.01  0.01   \n",
       "9        1388-89 -0.01 -0.01 -0.01 -0.03 -0.01  0.00 -0.01 -0.02 -0.02  0.00   \n",
       "10       1389-90 -0.01 -0.03 -0.01 -0.01  0.00  0.01 -0.02 -0.02 -0.02 -0.02   \n",
       "11       1390-91 -0.04 -0.03 -0.04 -0.49  0.10  0.33  0.01 -0.06  0.04  0.02   \n",
       "12       1391-92  0.02  0.02  0.01  0.00  0.00  0.01  0.03 -0.10 -0.04  0.02   \n",
       "13       1392-93  0.03 -0.01 -0.07 -0.06  0.05  0.09   NaN   NaN   NaN   NaN   \n",
       "\n",
       "ماه آبی    11    12  مقدار حداقل  مقدار میانگین سال  مقدار حداکثر  \\\n",
       "0       -0.03 -0.02        -0.03              -0.03         -0.02   \n",
       "1        0.02  0.00        -0.06               0.00          0.22   \n",
       "2       -0.01 -0.03        -0.09              -0.04          0.00   \n",
       "3       -0.07 -0.01        -0.07              -0.02          0.02   \n",
       "4         NaN   NaN        -0.06              -0.02          0.02   \n",
       "5       -0.02  0.00        -0.02               0.00          0.03   \n",
       "6        0.01  0.01        -0.04              -0.00          0.03   \n",
       "7        0.00 -0.01        -0.03              -0.01          0.01   \n",
       "8        0.00 -0.02        -0.02              -0.01          0.01   \n",
       "9        0.00 -0.01        -0.03              -0.01          0.00   \n",
       "10      -0.03 -0.03        -0.03              -0.02          0.01   \n",
       "11       0.00  0.07        -0.49              -0.04          0.33   \n",
       "12       0.11 -0.08        -0.10              -0.01          0.11   \n",
       "13        NaN   NaN        -0.07              -0.01          0.09   \n",
       "\n",
       "ماه آبی  مقدار مجموع سال  مقدار تجمعی مجموع سال  \n",
       "0                  -0.02                  -0.02  \n",
       "1                   0.22                   0.20  \n",
       "2                   0.00                   0.20  \n",
       "3                   0.02                   0.22  \n",
       "4                   0.02                   0.24  \n",
       "5                   0.03                   0.27  \n",
       "6                   0.03                   0.30  \n",
       "7                   0.01                   0.31  \n",
       "8                   0.01                   0.32  \n",
       "9                   0.00                   0.32  \n",
       "10                  0.01                   0.33  \n",
       "11                  0.33                   0.66  \n",
       "12                  0.11                   0.77  \n",
       "13                  0.09                   0.86  "
      ],
      "text/html": "<div>\n<style scoped>\n    .dataframe tbody tr th:only-of-type {\n        vertical-align: middle;\n    }\n\n    .dataframe tbody tr th {\n        vertical-align: top;\n    }\n\n    .dataframe thead th {\n        text-align: right;\n    }\n</style>\n<table border=\"1\" class=\"dataframe\">\n  <thead>\n    <tr style=\"text-align: right;\">\n      <th>ماه آبی</th>\n      <th>سال آبی</th>\n      <th>1</th>\n      <th>2</th>\n      <th>3</th>\n      <th>4</th>\n      <th>5</th>\n      <th>6</th>\n      <th>7</th>\n      <th>8</th>\n      <th>9</th>\n      <th>10</th>\n      <th>11</th>\n      <th>12</th>\n      <th>مقدار حداقل</th>\n      <th>مقدار میانگین سال</th>\n      <th>مقدار حداکثر</th>\n      <th>مقدار مجموع سال</th>\n      <th>مقدار تجمعی مجموع سال</th>\n    </tr>\n  </thead>\n  <tbody>\n    <tr>\n      <th>0</th>\n      <td>1379-80</td>\n      <td>NaN</td>\n      <td>NaN</td>\n      <td>NaN</td>\n      <td>NaN</td>\n      <td>NaN</td>\n      <td>NaN</td>\n      <td>NaN</td>\n      <td>-0.02</td>\n      <td>-0.03</td>\n      <td>-0.03</td>\n      <td>-0.03</td>\n      <td>-0.02</td>\n      <td>-0.03</td>\n      <td>-0.03</td>\n      <td>-0.02</td>\n      <td>-0.02</td>\n      <td>-0.02</td>\n    </tr>\n    <tr>\n      <th>1</th>\n      <td>1380-81</td>\n      <td>-0.02</td>\n      <td>0.01</td>\n      <td>-0.02</td>\n      <td>-0.02</td>\n      <td>0.04</td>\n      <td>0.22</td>\n      <td>0.04</td>\n      <td>-0.06</td>\n      <td>-0.03</td>\n      <td>-0.06</td>\n      <td>0.02</td>\n      <td>0.00</td>\n      <td>-0.06</td>\n      <td>0.00</td>\n      <td>0.22</td>\n      <td>0.22</td>\n      <td>0.20</td>\n    </tr>\n    <tr>\n      <th>2</th>\n      <td>1381-82</td>\n      <td>-0.08</td>\n      <td>-0.06</td>\n      <td>0.00</td>\n      <td>-0.04</td>\n      <td>-0.08</td>\n      <td>-0.09</td>\n      <td>-0.03</td>\n      <td>-0.02</td>\n      <td>-0.01</td>\n      <td>-0.02</td>\n      <td>-0.01</td>\n      <td>-0.03</td>\n      <td>-0.09</td>\n      <td>-0.04</td>\n      <td>0.00</td>\n      <td>0.00</td>\n      <td>0.20</td>\n    </tr>\n    <tr>\n      <th>3</th>\n      <td>1382-83</td>\n      <td>0.02</td>\n      <td>-0.01</td>\n      <td>-0.02</td>\n      <td>0.02</td>\n      <td>0.02</td>\n      <td>-0.06</td>\n      <td>-0.02</td>\n      <td>-0.01</td>\n      <td>0.01</td>\n      <td>-0.06</td>\n      <td>-0.07</td>\n      <td>-0.01</td>\n      <td>-0.07</td>\n      <td>-0.02</td>\n      <td>0.02</td>\n      <td>0.02</td>\n      <td>0.22</td>\n    </tr>\n    <tr>\n      <th>4</th>\n      <td>1383-84</td>\n      <td>-0.04</td>\n      <td>-0.05</td>\n      <td>0.02</td>\n      <td>0.02</td>\n      <td>-0.02</td>\n      <td>-0.01</td>\n      <td>0.00</td>\n      <td>-0.02</td>\n      <td>-0.06</td>\n      <td>NaN</td>\n      <td>NaN</td>\n      <td>NaN</td>\n      <td>-0.06</td>\n      <td>-0.02</td>\n      <td>0.02</td>\n      <td>0.02</td>\n      <td>0.24</td>\n    </tr>\n    <tr>\n      <th>5</th>\n      <td>1384-85</td>\n      <td>NaN</td>\n      <td>0.03</td>\n      <td>0.02</td>\n      <td>0.02</td>\n      <td>0.01</td>\n      <td>0.01</td>\n      <td>-0.01</td>\n      <td>0.00</td>\n      <td>0.00</td>\n      <td>-0.02</td>\n      <td>-0.02</td>\n      <td>0.00</td>\n      <td>-0.02</td>\n      <td>0.00</td>\n      <td>0.03</td>\n      <td>0.03</td>\n      <td>0.27</td>\n    </tr>\n    <tr>\n      <th>6</th>\n      <td>1385-86</td>\n      <td>0.03</td>\n      <td>0.02</td>\n      <td>-0.04</td>\n      <td>0.00</td>\n      <td>-0.01</td>\n      <td>-0.03</td>\n      <td>0.01</td>\n      <td>0.01</td>\n      <td>0.00</td>\n      <td>-0.01</td>\n      <td>0.01</td>\n      <td>0.01</td>\n      <td>-0.04</td>\n      <td>-0.00</td>\n      <td>0.03</td>\n      <td>0.03</td>\n      <td>0.30</td>\n    </tr>\n    <tr>\n      <th>7</th>\n      <td>1386-87</td>\n      <td>-0.02</td>\n      <td>-0.03</td>\n      <td>0.00</td>\n      <td>-0.01</td>\n      <td>-0.01</td>\n      <td>0.00</td>\n      <td>0.01</td>\n      <td>0.00</td>\n      <td>-0.01</td>\n      <td>-0.01</td>\n      <td>0.00</td>\n      <td>-0.01</td>\n      <td>-0.03</td>\n      <td>-0.01</td>\n      <td>0.01</td>\n      <td>0.01</td>\n      <td>0.31</td>\n    </tr>\n    <tr>\n      <th>8</th>\n      <td>1387-88</td>\n      <td>-0.01</td>\n      <td>-0.01</td>\n      <td>-0.02</td>\n      <td>0.00</td>\n      <td>-0.02</td>\n      <td>0.00</td>\n      <td>-0.01</td>\n      <td>-0.02</td>\n      <td>-0.01</td>\n      <td>0.01</td>\n      <td>0.00</td>\n      <td>-0.02</td>\n      <td>-0.02</td>\n      <td>-0.01</td>\n      <td>0.01</td>\n      <td>0.01</td>\n      <td>0.32</td>\n    </tr>\n    <tr>\n      <th>9</th>\n      <td>1388-89</td>\n      <td>-0.01</td>\n      <td>-0.01</td>\n      <td>-0.01</td>\n      <td>-0.03</td>\n      <td>-0.01</td>\n      <td>0.00</td>\n      <td>-0.01</td>\n      <td>-0.02</td>\n      <td>-0.02</td>\n      <td>0.00</td>\n      <td>0.00</td>\n      <td>-0.01</td>\n      <td>-0.03</td>\n      <td>-0.01</td>\n      <td>0.00</td>\n      <td>0.00</td>\n      <td>0.32</td>\n    </tr>\n    <tr>\n      <th>10</th>\n      <td>1389-90</td>\n      <td>-0.01</td>\n      <td>-0.03</td>\n      <td>-0.01</td>\n      <td>-0.01</td>\n      <td>0.00</td>\n      <td>0.01</td>\n      <td>-0.02</td>\n      <td>-0.02</td>\n      <td>-0.02</td>\n      <td>-0.02</td>\n      <td>-0.03</td>\n      <td>-0.03</td>\n      <td>-0.03</td>\n      <td>-0.02</td>\n      <td>0.01</td>\n      <td>0.01</td>\n      <td>0.33</td>\n    </tr>\n    <tr>\n      <th>11</th>\n      <td>1390-91</td>\n      <td>-0.04</td>\n      <td>-0.03</td>\n      <td>-0.04</td>\n      <td>-0.49</td>\n      <td>0.10</td>\n      <td>0.33</td>\n      <td>0.01</td>\n      <td>-0.06</td>\n      <td>0.04</td>\n      <td>0.02</td>\n      <td>0.00</td>\n      <td>0.07</td>\n      <td>-0.49</td>\n      <td>-0.04</td>\n      <td>0.33</td>\n      <td>0.33</td>\n      <td>0.66</td>\n    </tr>\n    <tr>\n      <th>12</th>\n      <td>1391-92</td>\n      <td>0.02</td>\n      <td>0.02</td>\n      <td>0.01</td>\n      <td>0.00</td>\n      <td>0.00</td>\n      <td>0.01</td>\n      <td>0.03</td>\n      <td>-0.10</td>\n      <td>-0.04</td>\n      <td>0.02</td>\n      <td>0.11</td>\n      <td>-0.08</td>\n      <td>-0.10</td>\n      <td>-0.01</td>\n      <td>0.11</td>\n      <td>0.11</td>\n      <td>0.77</td>\n    </tr>\n    <tr>\n      <th>13</th>\n      <td>1392-93</td>\n      <td>0.03</td>\n      <td>-0.01</td>\n      <td>-0.07</td>\n      <td>-0.06</td>\n      <td>0.05</td>\n      <td>0.09</td>\n      <td>NaN</td>\n      <td>NaN</td>\n      <td>NaN</td>\n      <td>NaN</td>\n      <td>NaN</td>\n      <td>NaN</td>\n      <td>-0.07</td>\n      <td>-0.01</td>\n      <td>0.09</td>\n      <td>0.09</td>\n      <td>0.86</td>\n    </tr>\n  </tbody>\n</table>\n</div>"
     },
     "metadata": {},
     "execution_count": 15
    }
   ],
   "source": [
    "dz = df.pivot_table(values=\"اختلاف ماه\", index=\"سال آبی\", columns=\"ماه آبی\").reset_index()\n",
    "\n",
    "dz[\"مقدار حداقل\"] = dz.iloc[:,1:].min(axis=1).round(2)\n",
    "dz[\"مقدار میانگین سال\"] = dz.iloc[:,1:].mean(axis=1).round(2)\n",
    "dz[\"مقدار حداکثر\"] = dz.iloc[:,1:].max(axis=1).round(2)\n",
    "dz[\"مقدار مجموع سال\"] = dz.iloc[:,1:].max(axis=1).round(2)\n",
    "dz[\"مقدار تجمعی مجموع سال\"] = dz[\"مقدار مجموع سال\"].cumsum(skipna=True).round(2)\n",
    "\n",
    "\n",
    "dz"
   ]
  },
  {
   "cell_type": "code",
   "execution_count": 10,
   "metadata": {},
   "outputs": [
    {
     "output_type": "execute_result",
     "data": {
      "text/plain": [
       "ماه آبی\n",
       "1     0.03\n",
       "2     0.03\n",
       "3     0.02\n",
       "4     0.02\n",
       "5     0.10\n",
       "6     0.33\n",
       "7     0.04\n",
       "8     0.01\n",
       "9     0.04\n",
       "10    0.02\n",
       "11    0.11\n",
       "12    0.07\n",
       "dtype: float64"
      ]
     },
     "metadata": {},
     "execution_count": 10
    }
   ],
   "source": [
    "dz.iloc[:,1:].max(axis=0)"
   ]
  },
  {
   "cell_type": "code",
   "execution_count": null,
   "metadata": {},
   "outputs": [],
   "source": []
  }
 ]
}