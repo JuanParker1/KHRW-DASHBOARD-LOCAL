{
 "metadata": {
  "language_info": {
   "codemirror_mode": {
    "name": "ipython",
    "version": 3
   },
   "file_extension": ".py",
   "mimetype": "text/x-python",
   "name": "python",
   "nbconvert_exporter": "python",
   "pygments_lexer": "ipython3",
   "version": "3.9.4"
  },
  "orig_nbformat": 2,
  "kernelspec": {
   "name": "python394jvsc74a57bd08ad5a05233cc2e41f262868e19a327d4eaa1dbd0e2e2d312d516e324f3f360b2",
   "display_name": "Python 3.9.4 64-bit"
  }
 },
 "nbformat": 4,
 "nbformat_minor": 2,
 "cells": [
  {
   "cell_type": "code",
   "execution_count": 1,
   "metadata": {},
   "outputs": [
    {
     "output_type": "stream",
     "name": "stderr",
     "text": [
      "<ipython-input-1-a2be94d67acb>:29: SettingWithCopyWarning: \nA value is trying to be set on a copy of a slice from a DataFrame.\nTry using .loc[row_indexer,col_indexer] = value instead\n\nSee the caveats in the documentation: https://pandas.pydata.org/pandas-docs/stable/user_guide/indexing.html#returning-a-view-versus-a-copy\n  d[\"اختلاف ماه سال\"] = d[\"پارامتر\"] - d[\"پارامتر\"].shift(1)\n<ipython-input-1-a2be94d67acb>:29: SettingWithCopyWarning: \nA value is trying to be set on a copy of a slice from a DataFrame.\nTry using .loc[row_indexer,col_indexer] = value instead\n\nSee the caveats in the documentation: https://pandas.pydata.org/pandas-docs/stable/user_guide/indexing.html#returning-a-view-versus-a-copy\n  d[\"اختلاف ماه سال\"] = d[\"پارامتر\"] - d[\"پارامتر\"].shift(1)\n<ipython-input-1-a2be94d67acb>:29: SettingWithCopyWarning: \nA value is trying to be set on a copy of a slice from a DataFrame.\nTry using .loc[row_indexer,col_indexer] = value instead\n\nSee the caveats in the documentation: https://pandas.pydata.org/pandas-docs/stable/user_guide/indexing.html#returning-a-view-versus-a-copy\n  d[\"اختلاف ماه سال\"] = d[\"پارامتر\"] - d[\"پارامتر\"].shift(1)\n<ipython-input-1-a2be94d67acb>:29: SettingWithCopyWarning: \nA value is trying to be set on a copy of a slice from a DataFrame.\nTry using .loc[row_indexer,col_indexer] = value instead\n\nSee the caveats in the documentation: https://pandas.pydata.org/pandas-docs/stable/user_guide/indexing.html#returning-a-view-versus-a-copy\n  d[\"اختلاف ماه سال\"] = d[\"پارامتر\"] - d[\"پارامتر\"].shift(1)\n<ipython-input-1-a2be94d67acb>:29: SettingWithCopyWarning: \nA value is trying to be set on a copy of a slice from a DataFrame.\nTry using .loc[row_indexer,col_indexer] = value instead\n\nSee the caveats in the documentation: https://pandas.pydata.org/pandas-docs/stable/user_guide/indexing.html#returning-a-view-versus-a-copy\n  d[\"اختلاف ماه سال\"] = d[\"پارامتر\"] - d[\"پارامتر\"].shift(1)\n<ipython-input-1-a2be94d67acb>:29: SettingWithCopyWarning: \nA value is trying to be set on a copy of a slice from a DataFrame.\nTry using .loc[row_indexer,col_indexer] = value instead\n\nSee the caveats in the documentation: https://pandas.pydata.org/pandas-docs/stable/user_guide/indexing.html#returning-a-view-versus-a-copy\n  d[\"اختلاف ماه سال\"] = d[\"پارامتر\"] - d[\"پارامتر\"].shift(1)\n<ipython-input-1-a2be94d67acb>:29: SettingWithCopyWarning: \nA value is trying to be set on a copy of a slice from a DataFrame.\nTry using .loc[row_indexer,col_indexer] = value instead\n\nSee the caveats in the documentation: https://pandas.pydata.org/pandas-docs/stable/user_guide/indexing.html#returning-a-view-versus-a-copy\n  d[\"اختلاف ماه سال\"] = d[\"پارامتر\"] - d[\"پارامتر\"].shift(1)\n<ipython-input-1-a2be94d67acb>:29: SettingWithCopyWarning: \nA value is trying to be set on a copy of a slice from a DataFrame.\nTry using .loc[row_indexer,col_indexer] = value instead\n\nSee the caveats in the documentation: https://pandas.pydata.org/pandas-docs/stable/user_guide/indexing.html#returning-a-view-versus-a-copy\n  d[\"اختلاف ماه سال\"] = d[\"پارامتر\"] - d[\"پارامتر\"].shift(1)\n<ipython-input-1-a2be94d67acb>:29: SettingWithCopyWarning: \nA value is trying to be set on a copy of a slice from a DataFrame.\nTry using .loc[row_indexer,col_indexer] = value instead\n\nSee the caveats in the documentation: https://pandas.pydata.org/pandas-docs/stable/user_guide/indexing.html#returning-a-view-versus-a-copy\n  d[\"اختلاف ماه سال\"] = d[\"پارامتر\"] - d[\"پارامتر\"].shift(1)\n<ipython-input-1-a2be94d67acb>:29: SettingWithCopyWarning: \nA value is trying to be set on a copy of a slice from a DataFrame.\nTry using .loc[row_indexer,col_indexer] = value instead\n\nSee the caveats in the documentation: https://pandas.pydata.org/pandas-docs/stable/user_guide/indexing.html#returning-a-view-versus-a-copy\n  d[\"اختلاف ماه سال\"] = d[\"پارامتر\"] - d[\"پارامتر\"].shift(1)\n<ipython-input-1-a2be94d67acb>:29: SettingWithCopyWarning: \nA value is trying to be set on a copy of a slice from a DataFrame.\nTry using .loc[row_indexer,col_indexer] = value instead\n\nSee the caveats in the documentation: https://pandas.pydata.org/pandas-docs/stable/user_guide/indexing.html#returning-a-view-versus-a-copy\n  d[\"اختلاف ماه سال\"] = d[\"پارامتر\"] - d[\"پارامتر\"].shift(1)\n<ipython-input-1-a2be94d67acb>:29: SettingWithCopyWarning: \nA value is trying to be set on a copy of a slice from a DataFrame.\nTry using .loc[row_indexer,col_indexer] = value instead\n\nSee the caveats in the documentation: https://pandas.pydata.org/pandas-docs/stable/user_guide/indexing.html#returning-a-view-versus-a-copy\n  d[\"اختلاف ماه سال\"] = d[\"پارامتر\"] - d[\"پارامتر\"].shift(1)\n"
     ]
    },
    {
     "output_type": "execute_result",
     "data": {
      "text/plain": [
       "      سال  ماه  پارامتر  سال آبی  ماه آبی  اختلاف ماه  اختلاف ماه سال\n",
       "0    1380    1  1272.57  1379-80        7         NaN             NaN\n",
       "1    1380    2  1272.55  1379-80        8       -0.02             NaN\n",
       "2    1380    3  1272.52  1379-80        9       -0.03             NaN\n",
       "3    1380    4  1272.49  1379-80       10       -0.03             NaN\n",
       "4    1380    5  1272.46  1379-80       11       -0.03             NaN\n",
       "..    ...  ...      ...      ...      ...         ...             ...\n",
       "151  1392    8  1271.16  1392-93        2       -0.01           -0.02\n",
       "152  1392    9  1271.09  1392-93        3       -0.07           -0.10\n",
       "153  1392   10  1271.03  1392-93        4       -0.06           -0.16\n",
       "154  1392   11  1271.08  1392-93        5        0.05           -0.11\n",
       "155  1392   12  1271.17  1392-93        6        0.09           -0.03\n",
       "\n",
       "[156 rows x 7 columns]"
      ],
      "text/html": "<div>\n<style scoped>\n    .dataframe tbody tr th:only-of-type {\n        vertical-align: middle;\n    }\n\n    .dataframe tbody tr th {\n        vertical-align: top;\n    }\n\n    .dataframe thead th {\n        text-align: right;\n    }\n</style>\n<table border=\"1\" class=\"dataframe\">\n  <thead>\n    <tr style=\"text-align: right;\">\n      <th></th>\n      <th>سال</th>\n      <th>ماه</th>\n      <th>پارامتر</th>\n      <th>سال آبی</th>\n      <th>ماه آبی</th>\n      <th>اختلاف ماه</th>\n      <th>اختلاف ماه سال</th>\n    </tr>\n  </thead>\n  <tbody>\n    <tr>\n      <th>0</th>\n      <td>1380</td>\n      <td>1</td>\n      <td>1272.57</td>\n      <td>1379-80</td>\n      <td>7</td>\n      <td>NaN</td>\n      <td>NaN</td>\n    </tr>\n    <tr>\n      <th>1</th>\n      <td>1380</td>\n      <td>2</td>\n      <td>1272.55</td>\n      <td>1379-80</td>\n      <td>8</td>\n      <td>-0.02</td>\n      <td>NaN</td>\n    </tr>\n    <tr>\n      <th>2</th>\n      <td>1380</td>\n      <td>3</td>\n      <td>1272.52</td>\n      <td>1379-80</td>\n      <td>9</td>\n      <td>-0.03</td>\n      <td>NaN</td>\n    </tr>\n    <tr>\n      <th>3</th>\n      <td>1380</td>\n      <td>4</td>\n      <td>1272.49</td>\n      <td>1379-80</td>\n      <td>10</td>\n      <td>-0.03</td>\n      <td>NaN</td>\n    </tr>\n    <tr>\n      <th>4</th>\n      <td>1380</td>\n      <td>5</td>\n      <td>1272.46</td>\n      <td>1379-80</td>\n      <td>11</td>\n      <td>-0.03</td>\n      <td>NaN</td>\n    </tr>\n    <tr>\n      <th>...</th>\n      <td>...</td>\n      <td>...</td>\n      <td>...</td>\n      <td>...</td>\n      <td>...</td>\n      <td>...</td>\n      <td>...</td>\n    </tr>\n    <tr>\n      <th>151</th>\n      <td>1392</td>\n      <td>8</td>\n      <td>1271.16</td>\n      <td>1392-93</td>\n      <td>2</td>\n      <td>-0.01</td>\n      <td>-0.02</td>\n    </tr>\n    <tr>\n      <th>152</th>\n      <td>1392</td>\n      <td>9</td>\n      <td>1271.09</td>\n      <td>1392-93</td>\n      <td>3</td>\n      <td>-0.07</td>\n      <td>-0.10</td>\n    </tr>\n    <tr>\n      <th>153</th>\n      <td>1392</td>\n      <td>10</td>\n      <td>1271.03</td>\n      <td>1392-93</td>\n      <td>4</td>\n      <td>-0.06</td>\n      <td>-0.16</td>\n    </tr>\n    <tr>\n      <th>154</th>\n      <td>1392</td>\n      <td>11</td>\n      <td>1271.08</td>\n      <td>1392-93</td>\n      <td>5</td>\n      <td>0.05</td>\n      <td>-0.11</td>\n    </tr>\n    <tr>\n      <th>155</th>\n      <td>1392</td>\n      <td>12</td>\n      <td>1271.17</td>\n      <td>1392-93</td>\n      <td>6</td>\n      <td>0.09</td>\n      <td>-0.03</td>\n    </tr>\n  </tbody>\n</table>\n<p>156 rows × 7 columns</p>\n</div>"
     },
     "metadata": {},
     "execution_count": 1
    }
   ],
   "source": [
    "import pandas as pd\n",
    "df = pd.read_csv(\"df.csv\")\n",
    "df.columns = [\"سال\", \"ماه\", \"پارامتر\"]\n",
    "\n",
    "def waterYear(df):\n",
    "    if df[\"ماه\"] >= 7 and df[\"ماه\"] <= 12:\n",
    "        WY = str(int(df[\"سال\"])) + \"-\" + str(int(df[\"سال\"]) + 1)[2:4]\n",
    "        WM = int(df[\"ماه\"]) - 6\n",
    "    elif df[\"ماه\"] >= 1 and df[\"ماه\"] <= 6:\n",
    "        WY = str(int(df[\"سال\"]) - 1) + \"-\" + str(int(df[\"سال\"]))[2:4]\n",
    "        WM = int(df[\"ماه\"]) + 6\n",
    "    else:\n",
    "        WY = None\n",
    "        WM = None\n",
    "    return [WY, WM]\n",
    "\n",
    "\n",
    "def resultTable(df):\n",
    "    df[\"پارامتر\"] = df[\"پارامتر\"].round(2)    \n",
    "    df[\"WATER_YEAR\"] = df.apply(waterYear, axis=1)\n",
    "    df[['سال آبی','ماه آبی']] = pd.DataFrame(df.WATER_YEAR.tolist(), index= df.index)\n",
    "    df.drop('WATER_YEAR', inplace=True, axis=1)\n",
    "    df[\"اختلاف ماه\"] = df[\"پارامتر\"] - df[\"پارامتر\"].shift(1)\n",
    "    df[\"اختلاف ماه\"] = df[\"اختلاف ماه\"].round(2)\n",
    "    df = df.sort_values(['ماه', 'سال'])\n",
    "    result = pd.DataFrame()\n",
    "    for m in range(1,13):\n",
    "        d = df[df[\"ماه\"] == m]\n",
    "        d[\"اختلاف ماه سال\"] = d[\"پارامتر\"] - d[\"پارامتر\"].shift(1)\n",
    "        result = pd.concat([result, d])\n",
    "    result = result.sort_values(['سال', 'ماه'])\n",
    "    result[\"اختلاف ماه سال\"] = result[\"اختلاف ماه سال\"].round(2)\n",
    "    \n",
    "    return result\n",
    "\n",
    "df = resultTable(df)\n",
    "df"
   ]
  },
  {
   "cell_type": "code",
   "execution_count": null,
   "metadata": {},
   "outputs": [],
   "source": [
    "dz = df.sort_values(['ماه', 'سال'])\n",
    "\n",
    "result = pd.DataFrame()\n",
    "\n",
    "for m in range(1,13):\n",
    "    d = dz[dz[\"ماه\"] == m]\n",
    "    d[\"اختلاف ماه سال\"] = d[\"پارامتر\"] - d[\"پارامتر\"].shift(1)\n",
    "    result = pd.concat([result, d])\n",
    "result = result.sort_values(['سال', 'ماه'])"
   ]
  },
  {
   "cell_type": "code",
   "execution_count": null,
   "metadata": {},
   "outputs": [],
   "source": [
    "result"
   ]
  },
  {
   "cell_type": "code",
   "execution_count": null,
   "metadata": {},
   "outputs": [],
   "source": []
  }
 ]
}