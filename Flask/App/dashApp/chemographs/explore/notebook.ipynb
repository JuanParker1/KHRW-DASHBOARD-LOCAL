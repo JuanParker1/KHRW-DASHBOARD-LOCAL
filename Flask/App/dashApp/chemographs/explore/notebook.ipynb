{
 "metadata": {
  "language_info": {
   "codemirror_mode": {
    "name": "ipython",
    "version": 3
   },
   "file_extension": ".py",
   "mimetype": "text/x-python",
   "name": "python",
   "nbconvert_exporter": "python",
   "pygments_lexer": "ipython3",
   "version": "3.9.4"
  },
  "orig_nbformat": 2,
  "kernelspec": {
   "name": "python394jvsc74a57bd0607ea3ad225f1db11c9983bb62cc199f3b470d54e6eaf6abbf6acb7b3c126f18",
   "display_name": "Python 3.9.4 64-bit ('base': conda)"
  }
 },
 "nbformat": 4,
 "nbformat_minor": 2,
 "cells": [
  {
   "cell_type": "code",
   "execution_count": 15,
   "metadata": {},
   "outputs": [],
   "source": [
    "superscript_map = {\n",
    "    \"0\": \"⁰\", \"1\": \"¹\", \"2\": \"²\", \"3\": \"³\", \"4\": \"⁴\", \"5\": \"⁵\", \"6\": \"⁶\",\n",
    "    \"7\": \"⁷\", \"8\": \"⁸\", \"9\": \"⁹\", \"a\": \"ᵃ\", \"b\": \"ᵇ\", \"c\": \"ᶜ\", \"d\": \"ᵈ\",\n",
    "    \"e\": \"ᵉ\", \"f\": \"ᶠ\", \"g\": \"ᵍ\", \"h\": \"ʰ\", \"i\": \"ᶦ\", \"j\": \"ʲ\", \"k\": \"ᵏ\",\n",
    "    \"l\": \"ˡ\", \"m\": \"ᵐ\", \"n\": \"ⁿ\", \"o\": \"ᵒ\", \"p\": \"ᵖ\", \"q\": \"۹\", \"r\": \"ʳ\",\n",
    "    \"s\": \"ˢ\", \"t\": \"ᵗ\", \"u\": \"ᵘ\", \"v\": \"ᵛ\", \"w\": \"ʷ\", \"x\": \"ˣ\", \"y\": \"ʸ\",\n",
    "    \"z\": \"ᶻ\", \"A\": \"ᴬ\", \"B\": \"ᴮ\", \"C\": \"ᶜ\", \"D\": \"ᴰ\", \"E\": \"ᴱ\", \"F\": \"ᶠ\",\n",
    "    \"G\": \"ᴳ\", \"H\": \"ᴴ\", \"I\": \"ᴵ\", \"J\": \"ᴶ\", \"K\": \"ᴷ\", \"L\": \"ᴸ\", \"M\": \"ᴹ\",\n",
    "    \"N\": \"ᴺ\", \"O\": \"ᴼ\", \"P\": \"ᴾ\", \"Q\": \"Q\", \"R\": \"ᴿ\", \"S\": \"ˢ\", \"T\": \"ᵀ\",\n",
    "    \"U\": \"ᵁ\", \"V\": \"ⱽ\", \"W\": \"ᵂ\", \"X\": \"ˣ\", \"Y\": \"ʸ\", \"Z\": \"ᶻ\", \"+\": \"⁺\",\n",
    "    \"-\": \"⁻\", \"=\": \"⁼\", \"(\": \"⁽\", \")\": \"⁾\"}\n",
    "\n",
    "subscript_map = {\n",
    "    \"0\": \"₀\", \"1\": \"₁\", \"2\": \"₂\", \"3\": \"₃\", \"4\": \"₄\", \"5\": \"₅\", \"6\": \"₆\",\n",
    "    \"7\": \"₇\", \"8\": \"₈\", \"9\": \"₉\", \"a\": \"ₐ\", \"b\": \"♭\", \"c\": \"꜀\", \"d\": \"ᑯ\",\n",
    "    \"e\": \"ₑ\", \"f\": \"բ\", \"g\": \"₉\", \"h\": \"ₕ\", \"i\": \"ᵢ\", \"j\": \"ⱼ\", \"k\": \"ₖ\",\n",
    "    \"l\": \"ₗ\", \"m\": \"ₘ\", \"n\": \"ₙ\", \"o\": \"ₒ\", \"p\": \"ₚ\", \"q\": \"૧\", \"r\": \"ᵣ\",\n",
    "    \"s\": \"ₛ\", \"t\": \"ₜ\", \"u\": \"ᵤ\", \"v\": \"ᵥ\", \"w\": \"w\", \"x\": \"ₓ\", \"y\": \"ᵧ\",\n",
    "    \"z\": \"₂\", \"A\": \"ₐ\", \"B\": \"₈\", \"C\": \"C\", \"D\": \"D\", \"E\": \"ₑ\", \"F\": \"բ\",\n",
    "    \"G\": \"G\", \"H\": \"ₕ\", \"I\": \"ᵢ\", \"J\": \"ⱼ\", \"K\": \"ₖ\", \"L\": \"ₗ\", \"M\": \"ₘ\",\n",
    "    \"N\": \"ₙ\", \"O\": \"ₒ\", \"P\": \"ₚ\", \"Q\": \"Q\", \"R\": \"ᵣ\", \"S\": \"ₛ\", \"T\": \"ₜ\",\n",
    "    \"U\": \"ᵤ\", \"V\": \"ᵥ\", \"W\": \"w\", \"X\": \"ₓ\", \"Y\": \"ᵧ\", \"Z\": \"Z\", \"+\": \"₊\",\n",
    "    \"-\": \"₋\", \"=\": \"₌\", \"(\": \"₍\", \")\": \"₎\"}\n",
    "\n",
    "TABLE_HEADER_NAME = {    \n",
    "    \"mahdoodeh_name\" : \"نام محدوده\",\n",
    "    \"mahdoodeh_code\" : \"کد محدوده\",\n",
    "    \"mahdoodeh_area\" : \"مساحت محدوده\",\n",
    "    \"mahal\" : \"محل\",\n",
    "    \"mahal_area\" : \"مساحت محل\",\n",
    "    \n",
    "    \"utm_easting\" : \"طول جغرافیایی - UTM\",\n",
    "    \"utm_northing\" : \"عرض جغرافیایی - UTM\",\n",
    "    \"decimal_degrees_long\" : \"طول جغرافیایی\",\n",
    "    \"decimal_degrees_lat\" : \"عرض جغرافیایی\",\n",
    "    \n",
    "    \"year\" : \"سال\",\n",
    "    \"month\" : \"ماه\",\n",
    "    \"day\" : \"روز\",\n",
    "    \n",
    "    \"ca\" : \"Ca{}{} (Calcium)\".format(superscript_map[\"+\"], superscript_map[\"2\"]),\n",
    "    \"mg\" : \"Mg{}{} (Magnesium)\".format(superscript_map[\"+\"], superscript_map[\"2\"]),\n",
    "    \"na\" : \"Na{} (Sodium)\".format(superscript_map[\"+\"]),\n",
    "    \"k\" : \"\tK{} (Potassium)\".format(superscript_map[\"+\"]),\n",
    "    \"cl\" : \"Cl{} (Chloride)\".format(superscript_map[\"-\"]),\n",
    "    \"so4\" : \"SO{}{}{} (Sulfate)\".format(subscript_map[\"4\"], superscript_map[\"2\"], superscript_map[\"-\"]),\n",
    "    \"co3\" : \"CO{}{}{} (Carbonate)\".format(subscript_map[\"3\"], superscript_map[\"2\"], superscript_map[\"-\"]),\n",
    "    \"hco3\" : \"HCO{}{} (Bicarbonate)\".format(subscript_map[\"3\"], superscript_map[\"-\"]),\n",
    "    \"no3\" : \"NO{}{} (Nitrate)\".format(subscript_map[\"3\"], superscript_map[\"-\"]),\n",
    "    \"ec\" : \"EC (Electrical Conductivity)\", \n",
    "    \"ph\" : \"pH (Potential of Hydrogen)\", \n",
    "}"
   ]
  },
  {
   "cell_type": "code",
   "execution_count": 18,
   "metadata": {},
   "outputs": [
    {
     "output_type": "execute_result",
     "data": {
      "text/plain": [
       "'CO₃²⁻ (Carbonate)'"
      ]
     },
     "metadata": {},
     "execution_count": 18
    }
   ],
   "source": [
    "TABLE_HEADER_NAME[\"co3\"]"
   ]
  },
  {
   "cell_type": "code",
   "execution_count": null,
   "metadata": {},
   "outputs": [],
   "source": []
  }
 ]
}