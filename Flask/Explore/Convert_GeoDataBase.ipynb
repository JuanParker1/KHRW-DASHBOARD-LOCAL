{
 "cells": [
  {
   "cell_type": "markdown",
   "source": [
    "# Polygon"
   ],
   "metadata": {}
  },
  {
   "cell_type": "markdown",
   "source": [
    "## Import Library"
   ],
   "metadata": {}
  },
  {
   "cell_type": "code",
   "execution_count": 1,
   "source": [
    "import geopandas as gpd"
   ],
   "outputs": [
    {
     "output_type": "stream",
     "name": "stderr",
     "text": [
      "/home/pooya/w/KHRW-DASHBOARD-LOCAL/Flask/.venv/lib/python3.9/site-packages/geopandas/_compat.py:106: UserWarning: The Shapely GEOS version (3.9.1dev-CAPI-1.14.1) is incompatible with the GEOS version PyGEOS was compiled with (3.9.1-CAPI-1.14.2). Conversions between both will be slow.\n",
      "  warnings.warn(\n"
     ]
    }
   ],
   "metadata": {}
  },
  {
   "cell_type": "markdown",
   "source": [
    "## Load Data"
   ],
   "metadata": {}
  },
  {
   "cell_type": "code",
   "execution_count": 2,
   "source": [
    "gdb_path = \"Data/GDB/4741_yengejeh.gdb\"\n",
    "data = gpd.read_file(gdb_path)\n",
    "data.set_crs(4326, allow_override=True)\n",
    "\n",
    "data"
   ],
   "outputs": [
    {
     "output_type": "execute_result",
     "data": {
      "text/plain": [
       "               LAYER  OBJECTID_1    Shape_Leng       Area          name  \\\n",
       "0  Unknown Area Type         1.0  45420.978245  98.574907  آبخوان ینگجه   \n",
       "\n",
       "   Shape_Length    Shape_Area  \\\n",
       "0      0.462748  9.857491e+07   \n",
       "\n",
       "                                            geometry  \n",
       "0  MULTIPOLYGON (((58.48390 36.79533, 58.48405 36...  "
      ],
      "text/html": [
       "<div>\n",
       "<style scoped>\n",
       "    .dataframe tbody tr th:only-of-type {\n",
       "        vertical-align: middle;\n",
       "    }\n",
       "\n",
       "    .dataframe tbody tr th {\n",
       "        vertical-align: top;\n",
       "    }\n",
       "\n",
       "    .dataframe thead th {\n",
       "        text-align: right;\n",
       "    }\n",
       "</style>\n",
       "<table border=\"1\" class=\"dataframe\">\n",
       "  <thead>\n",
       "    <tr style=\"text-align: right;\">\n",
       "      <th></th>\n",
       "      <th>LAYER</th>\n",
       "      <th>OBJECTID_1</th>\n",
       "      <th>Shape_Leng</th>\n",
       "      <th>Area</th>\n",
       "      <th>name</th>\n",
       "      <th>Shape_Length</th>\n",
       "      <th>Shape_Area</th>\n",
       "      <th>geometry</th>\n",
       "    </tr>\n",
       "  </thead>\n",
       "  <tbody>\n",
       "    <tr>\n",
       "      <th>0</th>\n",
       "      <td>Unknown Area Type</td>\n",
       "      <td>1.0</td>\n",
       "      <td>45420.978245</td>\n",
       "      <td>98.574907</td>\n",
       "      <td>آبخوان ینگجه</td>\n",
       "      <td>0.462748</td>\n",
       "      <td>9.857491e+07</td>\n",
       "      <td>MULTIPOLYGON (((58.48390 36.79533, 58.48405 36...</td>\n",
       "    </tr>\n",
       "  </tbody>\n",
       "</table>\n",
       "</div>"
      ]
     },
     "metadata": {},
     "execution_count": 2
    }
   ],
   "metadata": {}
  },
  {
   "cell_type": "markdown",
   "source": [
    "## Modified Data"
   ],
   "metadata": {}
  },
  {
   "cell_type": "code",
   "execution_count": 3,
   "source": [
    "MAHDOUDE_NAME = \"ینگجه\"\n",
    "MAHDOUDE_NAME_EN = \"Yengejeh\"\n",
    "MAHDOUDE_CODE = 4741\n",
    "AQUIFER_NAME = \"ینگجه\"\n",
    "\n",
    "data[\"MAHDOUDE_NAME\"] = MAHDOUDE_NAME\n",
    "data[\"MAHDOUDE_CODE\"] = MAHDOUDE_CODE\n",
    "data[\"AQUIFER_NAME\"] = AQUIFER_NAME\n",
    "data[\"AREA\"] = data.geometry.area * 10000\n",
    "data = data[[\"MAHDOUDE_NAME\", \"MAHDOUDE_CODE\", \"AQUIFER_NAME\", \"AREA\", \"geometry\"]]\n",
    "\n",
    "data"
   ],
   "outputs": [
    {
     "output_type": "stream",
     "name": "stderr",
     "text": [
      "<ipython-input-3-ef09f8d4c19a>:9: UserWarning: Geometry is in a geographic CRS. Results from 'area' are likely incorrect. Use 'GeoSeries.to_crs()' to re-project geometries to a projected CRS before this operation.\n",
      "\n",
      "  data[\"AREA\"] = data.geometry.area * 10000\n"
     ]
    },
    {
     "output_type": "execute_result",
     "data": {
      "text/plain": [
       "  MAHDOUDE_NAME  MAHDOUDE_CODE AQUIFER_NAME      AREA  \\\n",
       "0         ینگجه           4741        ینگجه  99.49758   \n",
       "\n",
       "                                            geometry  \n",
       "0  MULTIPOLYGON (((58.48390 36.79533, 58.48405 36...  "
      ],
      "text/html": [
       "<div>\n",
       "<style scoped>\n",
       "    .dataframe tbody tr th:only-of-type {\n",
       "        vertical-align: middle;\n",
       "    }\n",
       "\n",
       "    .dataframe tbody tr th {\n",
       "        vertical-align: top;\n",
       "    }\n",
       "\n",
       "    .dataframe thead th {\n",
       "        text-align: right;\n",
       "    }\n",
       "</style>\n",
       "<table border=\"1\" class=\"dataframe\">\n",
       "  <thead>\n",
       "    <tr style=\"text-align: right;\">\n",
       "      <th></th>\n",
       "      <th>MAHDOUDE_NAME</th>\n",
       "      <th>MAHDOUDE_CODE</th>\n",
       "      <th>AQUIFER_NAME</th>\n",
       "      <th>AREA</th>\n",
       "      <th>geometry</th>\n",
       "    </tr>\n",
       "  </thead>\n",
       "  <tbody>\n",
       "    <tr>\n",
       "      <th>0</th>\n",
       "      <td>ینگجه</td>\n",
       "      <td>4741</td>\n",
       "      <td>ینگجه</td>\n",
       "      <td>99.49758</td>\n",
       "      <td>MULTIPOLYGON (((58.48390 36.79533, 58.48405 36...</td>\n",
       "    </tr>\n",
       "  </tbody>\n",
       "</table>\n",
       "</div>"
      ]
     },
     "metadata": {},
     "execution_count": 3
    }
   ],
   "metadata": {}
  },
  {
   "cell_type": "markdown",
   "source": [
    "## Save Data"
   ],
   "metadata": {}
  },
  {
   "cell_type": "code",
   "execution_count": 4,
   "source": [
    "# Shapefile\n",
    "data.to_file(\"Data/Shapefile/\" + str(MAHDOUDE_CODE) + \"_\" + MAHDOUDE_NAME_EN + \".shp\")\n",
    "\n",
    "# GeoJSON\n",
    "data.to_file(\"Data/GeoJson/\" + str(MAHDOUDE_CODE) + \"_\" + MAHDOUDE_NAME_EN + \".geojson\", driver='GeoJSON')\n",
    "\n",
    "# GeoPackage\n",
    "data.to_file(\"Data/GeoPackage/\" + str(MAHDOUDE_CODE) + \"_\" + MAHDOUDE_NAME_EN + \".gpkg\", driver='GPKG')"
   ],
   "outputs": [
    {
     "output_type": "stream",
     "name": "stderr",
     "text": [
      "<ipython-input-4-7d9f628e2fff>:2: UserWarning: Column names longer than 10 characters will be truncated when saved to ESRI Shapefile.\n",
      "  data.to_file(\"Data/Shapefile/\" + str(MAHDOUDE_CODE) + \"_\" + MAHDOUDE_NAME_EN + \".shp\")\n"
     ]
    }
   ],
   "metadata": {}
  },
  {
   "cell_type": "markdown",
   "source": [
    "# Convert Location.csv To Shapefile, GeoJson, GeoPackage"
   ],
   "metadata": {}
  },
  {
   "cell_type": "code",
   "execution_count": 8,
   "source": [
    "# Import Library\n",
    "import pandas as pd\n",
    "import geopandas as gpd\n",
    "from shapely.geometry import Point\n",
    "import json\n",
    "\n",
    "# Define Function\n",
    "def df_to_gdf(df):\n",
    "    \"\"\"\n",
    "    Convert A Dataframe With Longitude And Latitude Columns To A Geodataframe.\n",
    "    \"\"\"\n",
    "    geometry = [Point(xy) for xy in zip(df.X, df.Y)]\n",
    "    return gpd.GeoDataFrame(df, crs=4326, geometry=geometry)\n",
    "\n",
    "# Load Data\n",
    "csv_path = \"Data/CSV/Locations.csv\"\n",
    "data = pd.read_csv(csv_path)\n",
    "data = df_to_gdf(data)\n",
    "\n",
    "# Save Data\n",
    "    # Shapefile\n",
    "data.to_file(\"Data/Shapefile/Locations.shp\")\n",
    "\n",
    "    # GeoJSON\n",
    "data.to_file(\"Data/GeoJson/Locations.geojson\", driver='GeoJSON')\n",
    "\n",
    "    # GeoPackage\n",
    "data.to_file(\"Data/GeoPackage/Locations.gpkg\", driver='GPKG')"
   ],
   "outputs": [],
   "metadata": {}
  }
 ],
 "metadata": {
  "orig_nbformat": 4,
  "language_info": {
   "name": "python"
  }
 },
 "nbformat": 4,
 "nbformat_minor": 2
}