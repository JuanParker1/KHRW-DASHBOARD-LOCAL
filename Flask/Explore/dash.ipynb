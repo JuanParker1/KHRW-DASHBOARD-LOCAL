{
 "cells": [
  {
   "cell_type": "code",
   "execution_count": 25,
   "source": [
    "import dash\n",
    "from jupyter_dash import JupyterDash\n",
    "import dash_core_components as dcc\n",
    "import dash_html_components as html\n",
    "from dash.dependencies import Input, Output\n",
    "\n",
    "import json\n",
    "import ast\n",
    "\n",
    "external_stylesheets = ['https://codepen.io/chriddyp/pen/bWLwgP.css']\n",
    "app = JupyterDash(__name__, external_stylesheets=external_stylesheets)\n",
    "\n",
    "app.layout = html.Div([\n",
    "    html.H1(\"Output Is:\"),\n",
    "    html.H1(id=\"Output-ID\"),\n",
    "    html.P(children=\"{'NAME': 'POOYA', 'ABB': 'POPI'}\", id=\"Pooya-ID\"),\n",
    "    html.P(children=\"{'NAME': 'MARYAM', 'ABB': 'MARI'}\", id=\"Maryam-ID\"),\n",
    "    html.P(children=\"{'NAME': 'AROUSHA', 'ABB': 'ROSHA'}\", id=\"Arousha-ID\")\n",
    "])\n",
    "\n",
    "names = [\"Pooya\", \"Maryam\", \"Arousha\"]\n",
    "\n",
    "@app.callback(\n",
    "    Output(component_id='Output-ID', component_property='children'),\n",
    "    [Input(component_id=f\"{name}-ID\", component_property='children') for name in names]\n",
    ")\n",
    "def test(*args):\n",
    "    for i in args:\n",
    "        global Dict\n",
    "        Dict = ast.literal_eval(i)\n",
    "\n",
    "    return \"type(args)\"\n",
    "\n",
    "\n",
    "if __name__ == '__main__':\n",
    "    app.run_server(mode='external')"
   ],
   "outputs": [
    {
     "output_type": "stream",
     "name": "stdout",
     "text": [
      "Dash app running on http://127.0.0.1:8050/\n"
     ]
    },
    {
     "output_type": "stream",
     "name": "stderr",
     "text": [
      "/home/pooya/w/KHRW-DASHBOARD-LOCAL/Flask/.venv/lib/python3.9/site-packages/jupyter_dash/jupyter_app.py:139: UserWarning: The 'environ['werkzeug.server.shutdown']' function is deprecated and will be removed in Werkzeug 2.1.\n",
      "  func()\n"
     ]
    }
   ],
   "metadata": {}
  },
  {
   "cell_type": "code",
   "execution_count": null,
   "source": [],
   "outputs": [],
   "metadata": {}
  }
 ],
 "metadata": {
  "orig_nbformat": 4,
  "language_info": {
   "name": "python",
   "version": "3.9.5",
   "mimetype": "text/x-python",
   "codemirror_mode": {
    "name": "ipython",
    "version": 3
   },
   "pygments_lexer": "ipython3",
   "nbconvert_exporter": "python",
   "file_extension": ".py"
  },
  "kernelspec": {
   "name": "python3",
   "display_name": "Python 3.9.5 64-bit ('.venv': venv)"
  },
  "interpreter": {
   "hash": "8ad5a05233cc2e41f262868e19a327d4eaa1dbd0e2e2d312d516e324f3f360b2"
  }
 },
 "nbformat": 4,
 "nbformat_minor": 2
}