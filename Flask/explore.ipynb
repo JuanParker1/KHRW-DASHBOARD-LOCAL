{
 "metadata": {
  "language_info": {
   "codemirror_mode": {
    "name": "ipython",
    "version": 3
   },
   "file_extension": ".py",
   "mimetype": "text/x-python",
   "name": "python",
   "nbconvert_exporter": "python",
   "pygments_lexer": "ipython3",
   "version": "3.9.4"
  },
  "orig_nbformat": 2,
  "kernelspec": {
   "name": "python394jvsc74a57bd0eb1d614377ac1202e1992301045f44684d327dec4ef3fd3ccd326e7e24918a2f",
   "display_name": "Python 3.9.4 64-bit ('.venv': venv)"
  }
 },
 "nbformat": 4,
 "nbformat_minor": 2,
 "cells": [
  {
   "cell_type": "code",
   "execution_count": null,
   "metadata": {},
   "outputs": [],
   "source": [
    "import pandas as pd\n",
    "\n",
    "data = pd.read_csv(\"/mnt/c/Users/POOYA/Desktop/data.csv\")\n",
    "\n",
    "data"
   ]
  },
  {
   "cell_type": "code",
   "execution_count": null,
   "metadata": {},
   "outputs": [],
   "source": [
    "\n",
    "def convertAB(Year_AB_1, Year_AB_2, Month_AB, Day_AB, Houre, Minute, Second):\n",
    "    if Month_AB <=6 and Month_AB >=1:\n",
    "        Year = Year_AB_2 + 1300\n",
    "        Month = Month_AB\n",
    "        Day = Day_AB\n",
    "    elif Month_AB <=12 and Month_AB >=7:\n",
    "        Year = Year_AB_1\n",
    "        Month = Month_AB\n",
    "        Day = Day_AB\n",
    "    else:\n",
    "        Year = None\n",
    "        Month = None\n",
    "        Day = None\n",
    "    return [int(Year), int(Month), int(Day), int(Houre), int(Minute), int(Second)]\n",
    "\n",
    "\n",
    "\n",
    "b6 = data[['stationCode', 'Year_AB_1', 'Year_AB_2', 'Month_AB', 'Day_AB', 'BARAN_6', 'BARF_6', 'AB_BARF_6']]\n",
    "b6['Houre'] = 6\n",
    "b6['Minute'] = 30\n",
    "b6['Second'] = 0\n",
    "b6['JAM_BARAN'] = b6['BARAN_6'] + b6['AB_BARF_6']\n",
    "\n",
    "b6[['Date']] = b6.apply(\n",
    "    lambda row : convertAB(row[\"Year_AB_1\"], row[\"Year_AB_2\"], row[\"Month_AB\"], row[\"Day_AB\"], row[\"Houre\"], row[\"Minute\"], row[\"Second\"]),\n",
    "     axis=1\n",
    "    )\n",
    "\n",
    "b6 = b6[['stationCode', 'Date', 'BARAN_6', 'BARF_6', 'AB_BARF_6', 'JAM_BARAN']]\n",
    "b6.columns = ['stationCode', 'DATE', 'BARAN', 'BARF', 'AB_BARF', 'JAM_BARAN']\n",
    "\n",
    "\n",
    "\n",
    "b18 = data[['stationCode', 'Year_AB_1', 'Year_AB_2', 'Month_AB', 'Day_AB', 'BARAN_18', 'BARF_18', 'AB_BARF_18']]\n",
    "b18['Houre'] = 18\n",
    "b18['Minute'] = 30\n",
    "b18['Second'] = 0\n",
    "b18['JAM_BARAN'] = b18['BARAN_18'] + b18['AB_BARF_18']\n",
    "\n",
    "b18[['Date']] = b18.apply(\n",
    "    lambda row : convertAB(row[\"Year_AB_1\"], row[\"Year_AB_2\"], row[\"Month_AB\"], row[\"Day_AB\"], row[\"Houre\"], row[\"Minute\"], row[\"Second\"]),\n",
    "     axis=1\n",
    "    )\n",
    "\n",
    "b18 = b18[['stationCode', 'Date', 'BARAN_18', 'BARF_18', 'AB_BARF_18', 'JAM_BARAN']]\n",
    "b18.columns = ['stationCode', 'DATE', 'BARAN', 'BARF', 'AB_BARF', 'JAM_BARAN']\n",
    "\n",
    "\n",
    "\n",
    "\n",
    "data = pd.concat([b6, b18])\n",
    "data[['YEAR', 'MONTH', 'DAY', 'HOURE', 'MINUTE', 'SECOND']] = pd.DataFrame(data.DATE.tolist(), index= data.index)\n",
    "data['DATE'] = data['YEAR'].astype(str) + \"-\" + data['MONTH'].astype(str).str.zfill(2) + \"-\" + data['DAY'].astype(str).str.zfill(2) + \" \" + data['HOURE'].astype(str).str.zfill(2) + \":\" + data['MINUTE'].astype(str).str.zfill(2) + \":\" + data['SECOND'].astype(str).str.zfill(2) \n",
    "\n",
    "\n",
    "\n",
    "\n",
    "\n",
    "data = data[['stationCode', 'DATE', 'YEAR', 'MONTH', 'DAY', 'HOURE', 'MINUTE', 'SECOND', 'BARAN', 'BARF', 'AB_BARF', 'JAM_BARAN']]\n",
    "\n",
    "\n",
    "data.sort_values(by=['stationCode', 'YEAR', 'MONTH', 'DAY', 'HOURE', 'MINUTE', 'SECOND'], inplace=True)\n",
    "\n"
   ]
  },
  {
   "cell_type": "code",
   "execution_count": null,
   "metadata": {},
   "outputs": [],
   "source": [
    "data"
   ]
  },
  {
   "cell_type": "code",
   "execution_count": null,
   "metadata": {},
   "outputs": [],
   "source": [
    "data.to_csv(\"data.csv\", index=False)"
   ]
  },
  {
   "cell_type": "code",
   "execution_count": null,
   "metadata": {},
   "outputs": [],
   "source": []
  },
  {
   "cell_type": "code",
   "execution_count": null,
   "metadata": {},
   "outputs": [],
   "source": []
  },
  {
   "cell_type": "code",
   "execution_count": null,
   "metadata": {},
   "outputs": [],
   "source": []
  },
  {
   "cell_type": "code",
   "execution_count": null,
   "metadata": {},
   "outputs": [],
   "source": []
  },
  {
   "cell_type": "code",
   "execution_count": null,
   "metadata": {},
   "outputs": [],
   "source": []
  },
  {
   "cell_type": "code",
   "execution_count": 22,
   "metadata": {},
   "outputs": [],
   "source": [
    "import pandas as pd\n",
    "import sqlite3\n",
    "db_path_precipitation = 'App/dashApp/precipitation/precipitation.sqlite'\n",
    "db_precipitation = sqlite3.connect(db_path_precipitation, check_same_thread=False)\n",
    "\n",
    "\n",
    "\n",
    "\n",
    "\n",
    "date = \"1398/3/1\"\n",
    "time = \"18:30:00\"\n",
    "data = [\n",
    "    {'stationName': 'فریمان', 'baran': 0, 'barf': 0, 'ab_barf': 0}, \n",
    "    {'stationName': 'امور آب سبزوار', 'baran': 0, 'barf': 0, 'ab_barf': 0}, \n",
    "    {'stationName': 'چناران', 'baran': 0, 'barf': 0, 'ab_barf': 0},\n",
    "]"
   ]
  },
  {
   "cell_type": "code",
   "execution_count": 34,
   "metadata": {},
   "outputs": [],
   "source": [
    "        exist_precipitation_data = pd.read_sql_query(sql=\"SELECT * FROM precipitation\", con=db_precipitation)\n",
    "        exist_precipitation_data_columns = list(exist_precipitation_data.columns)\n",
    "        exist_precipitation_data['DATE'] = exist_precipitation_data['YEAR'].astype(str) + \"-\" + exist_precipitation_data['MONTH'].astype(str).str.zfill(2) + \"-\" + exist_precipitation_data['DAY'].astype(str).str.zfill(2) + \" \" + exist_precipitation_data['HOURE'].astype(str).str.zfill(2) + \":\" + exist_precipitation_data['MINUTE'].astype(str).str.zfill(2) + \":\" + exist_precipitation_data['SECOND'].astype(str).str.zfill(2)\n",
    "        exist_precipitation_data[\"uniqueCode\"] = exist_precipitation_data[\"stationCode\"].astype(str) + \"-\" + exist_precipitation_data[\"DATE\"]"
   ]
  },
  {
   "cell_type": "code",
   "execution_count": 24,
   "metadata": {},
   "outputs": [],
   "source": [
    "exist_station = pd.read_sql_query(sql=\"SELECT * FROM station\", con=db_precipitation)"
   ]
  },
  {
   "cell_type": "code",
   "execution_count": 25,
   "metadata": {},
   "outputs": [
    {
     "output_type": "execute_result",
     "data": {
      "text/plain": [
       "      stationName  stationCode stationOldCode drainageArea6 drainageArea30  \\\n",
       "0  امور آب سبزوار    110147060         47-060    فلات مرکزی     کویر مرکزی   \n",
       "1          فریمان    110162090         62-090       قره قوم        قره قوم   \n",
       "2          چناران    110164056         64-056       قره قوم        قره قوم   \n",
       "\n",
       "      areaStudyName      omor  county startYear  longDecimalDegrees  \\\n",
       "0            سبزوار    سبزوار  سبزوار      1360           57.685000   \n",
       "1  فریمان ـتربت جام  تربت جام  فریمان      1367           59.846111   \n",
       "2              مشهد      مشهد  چناران      1364           59.126389   \n",
       "\n",
       "   latDecimalDegrees  elevation  \n",
       "0          36.216389      977.0  \n",
       "1          35.695000     1415.0  \n",
       "2          36.647778     1170.0  "
      ],
      "text/html": "<div>\n<style scoped>\n    .dataframe tbody tr th:only-of-type {\n        vertical-align: middle;\n    }\n\n    .dataframe tbody tr th {\n        vertical-align: top;\n    }\n\n    .dataframe thead th {\n        text-align: right;\n    }\n</style>\n<table border=\"1\" class=\"dataframe\">\n  <thead>\n    <tr style=\"text-align: right;\">\n      <th></th>\n      <th>stationName</th>\n      <th>stationCode</th>\n      <th>stationOldCode</th>\n      <th>drainageArea6</th>\n      <th>drainageArea30</th>\n      <th>areaStudyName</th>\n      <th>omor</th>\n      <th>county</th>\n      <th>startYear</th>\n      <th>longDecimalDegrees</th>\n      <th>latDecimalDegrees</th>\n      <th>elevation</th>\n    </tr>\n  </thead>\n  <tbody>\n    <tr>\n      <th>0</th>\n      <td>امور آب سبزوار</td>\n      <td>110147060</td>\n      <td>47-060</td>\n      <td>فلات مرکزی</td>\n      <td>کویر مرکزی</td>\n      <td>سبزوار</td>\n      <td>سبزوار</td>\n      <td>سبزوار</td>\n      <td>1360</td>\n      <td>57.685000</td>\n      <td>36.216389</td>\n      <td>977.0</td>\n    </tr>\n    <tr>\n      <th>1</th>\n      <td>فریمان</td>\n      <td>110162090</td>\n      <td>62-090</td>\n      <td>قره قوم</td>\n      <td>قره قوم</td>\n      <td>فریمان ـتربت جام</td>\n      <td>تربت جام</td>\n      <td>فریمان</td>\n      <td>1367</td>\n      <td>59.846111</td>\n      <td>35.695000</td>\n      <td>1415.0</td>\n    </tr>\n    <tr>\n      <th>2</th>\n      <td>چناران</td>\n      <td>110164056</td>\n      <td>64-056</td>\n      <td>قره قوم</td>\n      <td>قره قوم</td>\n      <td>مشهد</td>\n      <td>مشهد</td>\n      <td>چناران</td>\n      <td>1364</td>\n      <td>59.126389</td>\n      <td>36.647778</td>\n      <td>1170.0</td>\n    </tr>\n  </tbody>\n</table>\n</div>"
     },
     "metadata": {},
     "execution_count": 25
    }
   ],
   "source": [
    "exist_station"
   ]
  },
  {
   "cell_type": "code",
   "execution_count": 26,
   "metadata": {},
   "outputs": [],
   "source": [
    "df = pd.DataFrame(columns=exist_precipitation_data_columns[1:] + [\"stationName\"])\n",
    "\n",
    "date = date.split(\"/\")\n",
    "time = time.split(\":\")\n",
    "\n",
    "for i in range(len(data)):\n",
    "    df.loc[i,\"stationCode\"] = exist_station[exist_station['stationName'] == data[i][\"stationName\"]].iloc[0,1]\n",
    "    df.loc[i,\"YEAR\"] = date[0]\n",
    "    df.loc[i,\"MONTH\"] = date[1].zfill(2)\n",
    "    df.loc[i,\"DAY\"] = date[2].zfill(2)\n",
    "    df.loc[i,\"HOURE\"] = time[0].zfill(2)\n",
    "    df.loc[i,\"MINUTE\"] = time[1].zfill(2)\n",
    "    df.loc[i,\"SECOND\"] = time[2].zfill(2)\n",
    "    df.loc[i,\"BARAN\"] = data[i][\"baran\"]\n",
    "    df.loc[i,\"BARF\"] = data[i][\"barf\"]\n",
    "    df.loc[i,\"AB_BARF\"] = data[i][\"ab_barf\"]\n",
    "    df.loc[i,\"JAM_BARAN\"] = data[i][\"baran\"] + data[i][\"ab_barf\"]\n",
    "    df.loc[i,\"stationName\"] = data[i][\"stationName\"]\n",
    "\n",
    "df['DATE'] = df['YEAR'].astype(str) + \"-\" + df['MONTH'].astype(str) + \"-\" + df['DAY'].astype(str) + \" \" + df['HOURE'].astype(str) + \":\" + df['MINUTE'].astype(str) + \":\" + df['SECOND'].astype(str)\n",
    "\n",
    "df[\"uniqueCode\"] = df[\"stationCode\"].astype(str) + \"-\" + df[\"DATE\"]\n"
   ]
  },
  {
   "cell_type": "code",
   "execution_count": 27,
   "metadata": {},
   "outputs": [
    {
     "output_type": "execute_result",
     "data": {
      "text/plain": [
       "  stationCode  YEAR MONTH DAY HOURE MINUTE SECOND BARAN BARF AB_BARF  \\\n",
       "0   110162090  1398    03  01    18     30     00     0    0       0   \n",
       "1   110147060  1398    03  01    18     30     00     0    0       0   \n",
       "2   110164056  1398    03  01    18     30     00     0    0       0   \n",
       "\n",
       "  JAM_BARAN     stationName                 DATE  \\\n",
       "0         0          فریمان  1398-03-01 18:30:00   \n",
       "1         0  امور آب سبزوار  1398-03-01 18:30:00   \n",
       "2         0          چناران  1398-03-01 18:30:00   \n",
       "\n",
       "                      uniqueCode  \n",
       "0  110162090-1398-03-01 18:30:00  \n",
       "1  110147060-1398-03-01 18:30:00  \n",
       "2  110164056-1398-03-01 18:30:00  "
      ],
      "text/html": "<div>\n<style scoped>\n    .dataframe tbody tr th:only-of-type {\n        vertical-align: middle;\n    }\n\n    .dataframe tbody tr th {\n        vertical-align: top;\n    }\n\n    .dataframe thead th {\n        text-align: right;\n    }\n</style>\n<table border=\"1\" class=\"dataframe\">\n  <thead>\n    <tr style=\"text-align: right;\">\n      <th></th>\n      <th>stationCode</th>\n      <th>YEAR</th>\n      <th>MONTH</th>\n      <th>DAY</th>\n      <th>HOURE</th>\n      <th>MINUTE</th>\n      <th>SECOND</th>\n      <th>BARAN</th>\n      <th>BARF</th>\n      <th>AB_BARF</th>\n      <th>JAM_BARAN</th>\n      <th>stationName</th>\n      <th>DATE</th>\n      <th>uniqueCode</th>\n    </tr>\n  </thead>\n  <tbody>\n    <tr>\n      <th>0</th>\n      <td>110162090</td>\n      <td>1398</td>\n      <td>03</td>\n      <td>01</td>\n      <td>18</td>\n      <td>30</td>\n      <td>00</td>\n      <td>0</td>\n      <td>0</td>\n      <td>0</td>\n      <td>0</td>\n      <td>فریمان</td>\n      <td>1398-03-01 18:30:00</td>\n      <td>110162090-1398-03-01 18:30:00</td>\n    </tr>\n    <tr>\n      <th>1</th>\n      <td>110147060</td>\n      <td>1398</td>\n      <td>03</td>\n      <td>01</td>\n      <td>18</td>\n      <td>30</td>\n      <td>00</td>\n      <td>0</td>\n      <td>0</td>\n      <td>0</td>\n      <td>0</td>\n      <td>امور آب سبزوار</td>\n      <td>1398-03-01 18:30:00</td>\n      <td>110147060-1398-03-01 18:30:00</td>\n    </tr>\n    <tr>\n      <th>2</th>\n      <td>110164056</td>\n      <td>1398</td>\n      <td>03</td>\n      <td>01</td>\n      <td>18</td>\n      <td>30</td>\n      <td>00</td>\n      <td>0</td>\n      <td>0</td>\n      <td>0</td>\n      <td>0</td>\n      <td>چناران</td>\n      <td>1398-03-01 18:30:00</td>\n      <td>110164056-1398-03-01 18:30:00</td>\n    </tr>\n  </tbody>\n</table>\n</div>"
     },
     "metadata": {},
     "execution_count": 27
    }
   ],
   "source": [
    "df"
   ]
  },
  {
   "cell_type": "code",
   "execution_count": 28,
   "metadata": {},
   "outputs": [
    {
     "output_type": "execute_result",
     "data": {
      "text/plain": [
       "[]"
      ]
     },
     "metadata": {},
     "execution_count": 28
    }
   ],
   "source": [
    "df.loc[df.duplicated(subset=[\"stationName\"]),:][\"stationName\"].unique().tolist()"
   ]
  },
  {
   "cell_type": "code",
   "execution_count": 29,
   "metadata": {},
   "outputs": [
    {
     "output_type": "execute_result",
     "data": {
      "text/plain": [
       "True"
      ]
     },
     "metadata": {},
     "execution_count": 29
    }
   ],
   "source": [
    "df[\"uniqueCode\"].isin(exist_precipitation_data[\"uniqueCode\"]).any()"
   ]
  },
  {
   "cell_type": "code",
   "execution_count": 30,
   "metadata": {},
   "outputs": [
    {
     "output_type": "execute_result",
     "data": {
      "text/plain": [
       "  stationCode  YEAR MONTH DAY HOURE MINUTE SECOND BARAN BARF AB_BARF  \\\n",
       "0   110162090  1398    03  01    18     30     00     0    0       0   \n",
       "1   110147060  1398    03  01    18     30     00     0    0       0   \n",
       "2   110164056  1398    03  01    18     30     00     0    0       0   \n",
       "\n",
       "  JAM_BARAN     stationName                 DATE  \\\n",
       "0         0          فریمان  1398-03-01 18:30:00   \n",
       "1         0  امور آب سبزوار  1398-03-01 18:30:00   \n",
       "2         0          چناران  1398-03-01 18:30:00   \n",
       "\n",
       "                      uniqueCode  \n",
       "0  110162090-1398-03-01 18:30:00  \n",
       "1  110147060-1398-03-01 18:30:00  \n",
       "2  110164056-1398-03-01 18:30:00  "
      ],
      "text/html": "<div>\n<style scoped>\n    .dataframe tbody tr th:only-of-type {\n        vertical-align: middle;\n    }\n\n    .dataframe tbody tr th {\n        vertical-align: top;\n    }\n\n    .dataframe thead th {\n        text-align: right;\n    }\n</style>\n<table border=\"1\" class=\"dataframe\">\n  <thead>\n    <tr style=\"text-align: right;\">\n      <th></th>\n      <th>stationCode</th>\n      <th>YEAR</th>\n      <th>MONTH</th>\n      <th>DAY</th>\n      <th>HOURE</th>\n      <th>MINUTE</th>\n      <th>SECOND</th>\n      <th>BARAN</th>\n      <th>BARF</th>\n      <th>AB_BARF</th>\n      <th>JAM_BARAN</th>\n      <th>stationName</th>\n      <th>DATE</th>\n      <th>uniqueCode</th>\n    </tr>\n  </thead>\n  <tbody>\n    <tr>\n      <th>0</th>\n      <td>110162090</td>\n      <td>1398</td>\n      <td>03</td>\n      <td>01</td>\n      <td>18</td>\n      <td>30</td>\n      <td>00</td>\n      <td>0</td>\n      <td>0</td>\n      <td>0</td>\n      <td>0</td>\n      <td>فریمان</td>\n      <td>1398-03-01 18:30:00</td>\n      <td>110162090-1398-03-01 18:30:00</td>\n    </tr>\n    <tr>\n      <th>1</th>\n      <td>110147060</td>\n      <td>1398</td>\n      <td>03</td>\n      <td>01</td>\n      <td>18</td>\n      <td>30</td>\n      <td>00</td>\n      <td>0</td>\n      <td>0</td>\n      <td>0</td>\n      <td>0</td>\n      <td>امور آب سبزوار</td>\n      <td>1398-03-01 18:30:00</td>\n      <td>110147060-1398-03-01 18:30:00</td>\n    </tr>\n    <tr>\n      <th>2</th>\n      <td>110164056</td>\n      <td>1398</td>\n      <td>03</td>\n      <td>01</td>\n      <td>18</td>\n      <td>30</td>\n      <td>00</td>\n      <td>0</td>\n      <td>0</td>\n      <td>0</td>\n      <td>0</td>\n      <td>چناران</td>\n      <td>1398-03-01 18:30:00</td>\n      <td>110164056-1398-03-01 18:30:00</td>\n    </tr>\n  </tbody>\n</table>\n</div>"
     },
     "metadata": {},
     "execution_count": 30
    }
   ],
   "source": [
    "df.loc[df[\"uniqueCode\"].isin(exist_precipitation_data[\"uniqueCode\"]), :]"
   ]
  },
  {
   "cell_type": "code",
   "execution_count": null,
   "metadata": {},
   "outputs": [],
   "source": [
    "from collections import Counter\n",
    "a = list((Counter(df[\"uniqueCode\"]) - Counter(exist_precipitation_data[\"uniqueCode\"])).elements())\n",
    "a"
   ]
  },
  {
   "cell_type": "code",
   "execution_count": null,
   "metadata": {},
   "outputs": [],
   "source": [
    "list(set(list(df[\"uniqueCode\"])) - set(a))"
   ]
  },
  {
   "cell_type": "code",
   "execution_count": null,
   "metadata": {},
   "outputs": [],
   "source": [
    "a"
   ]
  },
  {
   "cell_type": "code",
   "execution_count": null,
   "metadata": {},
   "outputs": [],
   "source": [
    "list(df[\"uniqueCode\"])"
   ]
  },
  {
   "cell_type": "code",
   "execution_count": 31,
   "metadata": {},
   "outputs": [
    {
     "output_type": "execute_result",
     "data": {
      "text/plain": [
       "  stationCode  YEAR MONTH DAY HOURE MINUTE SECOND BARAN BARF AB_BARF  \\\n",
       "0   110162090  1398    03  01    18     30     00     0    0       0   \n",
       "1   110147060  1398    03  01    18     30     00     0    0       0   \n",
       "2   110164056  1398    03  01    18     30     00     0    0       0   \n",
       "\n",
       "  JAM_BARAN     stationName                 DATE  \\\n",
       "0         0          فریمان  1398-03-01 18:30:00   \n",
       "1         0  امور آب سبزوار  1398-03-01 18:30:00   \n",
       "2         0          چناران  1398-03-01 18:30:00   \n",
       "\n",
       "                      uniqueCode  \n",
       "0  110162090-1398-03-01 18:30:00  \n",
       "1  110147060-1398-03-01 18:30:00  \n",
       "2  110164056-1398-03-01 18:30:00  "
      ],
      "text/html": "<div>\n<style scoped>\n    .dataframe tbody tr th:only-of-type {\n        vertical-align: middle;\n    }\n\n    .dataframe tbody tr th {\n        vertical-align: top;\n    }\n\n    .dataframe thead th {\n        text-align: right;\n    }\n</style>\n<table border=\"1\" class=\"dataframe\">\n  <thead>\n    <tr style=\"text-align: right;\">\n      <th></th>\n      <th>stationCode</th>\n      <th>YEAR</th>\n      <th>MONTH</th>\n      <th>DAY</th>\n      <th>HOURE</th>\n      <th>MINUTE</th>\n      <th>SECOND</th>\n      <th>BARAN</th>\n      <th>BARF</th>\n      <th>AB_BARF</th>\n      <th>JAM_BARAN</th>\n      <th>stationName</th>\n      <th>DATE</th>\n      <th>uniqueCode</th>\n    </tr>\n  </thead>\n  <tbody>\n    <tr>\n      <th>0</th>\n      <td>110162090</td>\n      <td>1398</td>\n      <td>03</td>\n      <td>01</td>\n      <td>18</td>\n      <td>30</td>\n      <td>00</td>\n      <td>0</td>\n      <td>0</td>\n      <td>0</td>\n      <td>0</td>\n      <td>فریمان</td>\n      <td>1398-03-01 18:30:00</td>\n      <td>110162090-1398-03-01 18:30:00</td>\n    </tr>\n    <tr>\n      <th>1</th>\n      <td>110147060</td>\n      <td>1398</td>\n      <td>03</td>\n      <td>01</td>\n      <td>18</td>\n      <td>30</td>\n      <td>00</td>\n      <td>0</td>\n      <td>0</td>\n      <td>0</td>\n      <td>0</td>\n      <td>امور آب سبزوار</td>\n      <td>1398-03-01 18:30:00</td>\n      <td>110147060-1398-03-01 18:30:00</td>\n    </tr>\n    <tr>\n      <th>2</th>\n      <td>110164056</td>\n      <td>1398</td>\n      <td>03</td>\n      <td>01</td>\n      <td>18</td>\n      <td>30</td>\n      <td>00</td>\n      <td>0</td>\n      <td>0</td>\n      <td>0</td>\n      <td>0</td>\n      <td>چناران</td>\n      <td>1398-03-01 18:30:00</td>\n      <td>110164056-1398-03-01 18:30:00</td>\n    </tr>\n  </tbody>\n</table>\n</div>"
     },
     "metadata": {},
     "execution_count": 31
    }
   ],
   "source": [
    "df"
   ]
  },
  {
   "cell_type": "code",
   "execution_count": 32,
   "metadata": {},
   "outputs": [
    {
     "output_type": "execute_result",
     "data": {
      "text/plain": [
       "  stationCode  YEAR MONTH DAY HOURE MINUTE SECOND BARAN BARF AB_BARF JAM_BARAN\n",
       "0   110162090  1398    03  01    18     30     00     0    0       0         0\n",
       "1   110147060  1398    03  01    18     30     00     0    0       0         0\n",
       "2   110164056  1398    03  01    18     30     00     0    0       0         0"
      ],
      "text/html": "<div>\n<style scoped>\n    .dataframe tbody tr th:only-of-type {\n        vertical-align: middle;\n    }\n\n    .dataframe tbody tr th {\n        vertical-align: top;\n    }\n\n    .dataframe thead th {\n        text-align: right;\n    }\n</style>\n<table border=\"1\" class=\"dataframe\">\n  <thead>\n    <tr style=\"text-align: right;\">\n      <th></th>\n      <th>stationCode</th>\n      <th>YEAR</th>\n      <th>MONTH</th>\n      <th>DAY</th>\n      <th>HOURE</th>\n      <th>MINUTE</th>\n      <th>SECOND</th>\n      <th>BARAN</th>\n      <th>BARF</th>\n      <th>AB_BARF</th>\n      <th>JAM_BARAN</th>\n    </tr>\n  </thead>\n  <tbody>\n    <tr>\n      <th>0</th>\n      <td>110162090</td>\n      <td>1398</td>\n      <td>03</td>\n      <td>01</td>\n      <td>18</td>\n      <td>30</td>\n      <td>00</td>\n      <td>0</td>\n      <td>0</td>\n      <td>0</td>\n      <td>0</td>\n    </tr>\n    <tr>\n      <th>1</th>\n      <td>110147060</td>\n      <td>1398</td>\n      <td>03</td>\n      <td>01</td>\n      <td>18</td>\n      <td>30</td>\n      <td>00</td>\n      <td>0</td>\n      <td>0</td>\n      <td>0</td>\n      <td>0</td>\n    </tr>\n    <tr>\n      <th>2</th>\n      <td>110164056</td>\n      <td>1398</td>\n      <td>03</td>\n      <td>01</td>\n      <td>18</td>\n      <td>30</td>\n      <td>00</td>\n      <td>0</td>\n      <td>0</td>\n      <td>0</td>\n      <td>0</td>\n    </tr>\n  </tbody>\n</table>\n</div>"
     },
     "metadata": {},
     "execution_count": 32
    }
   ],
   "source": [
    "df.drop(['uniqueCode', 'DATE', 'stationName'], axis=1)"
   ]
  },
  {
   "cell_type": "code",
   "execution_count": 35,
   "metadata": {},
   "outputs": [
    {
     "output_type": "execute_result",
     "data": {
      "text/plain": [
       "        id                          stationCode  YEAR  MONTH  DAY  HOURE  \\\n",
       "0        1                            110147060  1360      9   10      6   \n",
       "1        2                            110147060  1360      9   10     18   \n",
       "2        3                            110147060  1360     10   10      6   \n",
       "3        4                            110147060  1360     10   10     18   \n",
       "4        5                            110147060  1360     11   17      6   \n",
       "...    ...                                  ...   ...    ...  ...    ...   \n",
       "6891  6892  b'\\xaa\\xf0\\x90\\x06\\x00\\x00\\x00\\x00'  1400      3    1      6   \n",
       "6892  6893     b'X\\xf8\\x90\\x06\\x00\\x00\\x00\\x00'  1400      3    1      6   \n",
       "6893  6894  b'\\xf4\\xb5\\x90\\x06\\x00\\x00\\x00\\x00'  1400      3    1     18   \n",
       "6894  6895  b'\\xaa\\xf0\\x90\\x06\\x00\\x00\\x00\\x00'  1400      3    1     18   \n",
       "6895  6896     b'X\\xf8\\x90\\x06\\x00\\x00\\x00\\x00'  1400      3    1     18   \n",
       "\n",
       "      MINUTE  SECOND  BARAN  BARF  AB_BARF  JAM_BARAN                 DATE  \\\n",
       "0         30       0    0.0   0.0      0.0        0.0  1360-09-10 06:30:00   \n",
       "1         30       0   99.9   0.0      0.0       99.9  1360-09-10 18:30:00   \n",
       "2         30       0    0.0   0.0      0.0        0.0  1360-10-10 06:30:00   \n",
       "3         30       0    0.9   0.0      0.0        0.9  1360-10-10 18:30:00   \n",
       "4         30       0    0.0   0.0      0.0        0.0  1360-11-17 06:30:00   \n",
       "...      ...     ...    ...   ...      ...        ...                  ...   \n",
       "6891      30       0    5.0   0.0      0.0        5.0  1400-03-01 06:30:00   \n",
       "6892      30       0    4.0   0.0      0.0        4.0  1400-03-01 06:30:00   \n",
       "6893      30       0    0.0   0.0      0.0        0.0  1400-03-01 18:30:00   \n",
       "6894      30       0    0.0   0.0      0.0        0.0  1400-03-01 18:30:00   \n",
       "6895      30       0   20.0   0.0      0.0       20.0  1400-03-01 18:30:00   \n",
       "\n",
       "                                             uniqueCode  \n",
       "0                         110147060-1360-09-10 06:30:00  \n",
       "1                         110147060-1360-09-10 18:30:00  \n",
       "2                         110147060-1360-10-10 06:30:00  \n",
       "3                         110147060-1360-10-10 18:30:00  \n",
       "4                         110147060-1360-11-17 06:30:00  \n",
       "...                                                 ...  \n",
       "6891  b'\\xaa\\xf0\\x90\\x06\\x00\\x00\\x00\\x00'-1400-03-01...  \n",
       "6892  b'X\\xf8\\x90\\x06\\x00\\x00\\x00\\x00'-1400-03-01 06...  \n",
       "6893  b'\\xf4\\xb5\\x90\\x06\\x00\\x00\\x00\\x00'-1400-03-01...  \n",
       "6894  b'\\xaa\\xf0\\x90\\x06\\x00\\x00\\x00\\x00'-1400-03-01...  \n",
       "6895  b'X\\xf8\\x90\\x06\\x00\\x00\\x00\\x00'-1400-03-01 18...  \n",
       "\n",
       "[6896 rows x 14 columns]"
      ],
      "text/html": "<div>\n<style scoped>\n    .dataframe tbody tr th:only-of-type {\n        vertical-align: middle;\n    }\n\n    .dataframe tbody tr th {\n        vertical-align: top;\n    }\n\n    .dataframe thead th {\n        text-align: right;\n    }\n</style>\n<table border=\"1\" class=\"dataframe\">\n  <thead>\n    <tr style=\"text-align: right;\">\n      <th></th>\n      <th>id</th>\n      <th>stationCode</th>\n      <th>YEAR</th>\n      <th>MONTH</th>\n      <th>DAY</th>\n      <th>HOURE</th>\n      <th>MINUTE</th>\n      <th>SECOND</th>\n      <th>BARAN</th>\n      <th>BARF</th>\n      <th>AB_BARF</th>\n      <th>JAM_BARAN</th>\n      <th>DATE</th>\n      <th>uniqueCode</th>\n    </tr>\n  </thead>\n  <tbody>\n    <tr>\n      <th>0</th>\n      <td>1</td>\n      <td>110147060</td>\n      <td>1360</td>\n      <td>9</td>\n      <td>10</td>\n      <td>6</td>\n      <td>30</td>\n      <td>0</td>\n      <td>0.0</td>\n      <td>0.0</td>\n      <td>0.0</td>\n      <td>0.0</td>\n      <td>1360-09-10 06:30:00</td>\n      <td>110147060-1360-09-10 06:30:00</td>\n    </tr>\n    <tr>\n      <th>1</th>\n      <td>2</td>\n      <td>110147060</td>\n      <td>1360</td>\n      <td>9</td>\n      <td>10</td>\n      <td>18</td>\n      <td>30</td>\n      <td>0</td>\n      <td>99.9</td>\n      <td>0.0</td>\n      <td>0.0</td>\n      <td>99.9</td>\n      <td>1360-09-10 18:30:00</td>\n      <td>110147060-1360-09-10 18:30:00</td>\n    </tr>\n    <tr>\n      <th>2</th>\n      <td>3</td>\n      <td>110147060</td>\n      <td>1360</td>\n      <td>10</td>\n      <td>10</td>\n      <td>6</td>\n      <td>30</td>\n      <td>0</td>\n      <td>0.0</td>\n      <td>0.0</td>\n      <td>0.0</td>\n      <td>0.0</td>\n      <td>1360-10-10 06:30:00</td>\n      <td>110147060-1360-10-10 06:30:00</td>\n    </tr>\n    <tr>\n      <th>3</th>\n      <td>4</td>\n      <td>110147060</td>\n      <td>1360</td>\n      <td>10</td>\n      <td>10</td>\n      <td>18</td>\n      <td>30</td>\n      <td>0</td>\n      <td>0.9</td>\n      <td>0.0</td>\n      <td>0.0</td>\n      <td>0.9</td>\n      <td>1360-10-10 18:30:00</td>\n      <td>110147060-1360-10-10 18:30:00</td>\n    </tr>\n    <tr>\n      <th>4</th>\n      <td>5</td>\n      <td>110147060</td>\n      <td>1360</td>\n      <td>11</td>\n      <td>17</td>\n      <td>6</td>\n      <td>30</td>\n      <td>0</td>\n      <td>0.0</td>\n      <td>0.0</td>\n      <td>0.0</td>\n      <td>0.0</td>\n      <td>1360-11-17 06:30:00</td>\n      <td>110147060-1360-11-17 06:30:00</td>\n    </tr>\n    <tr>\n      <th>...</th>\n      <td>...</td>\n      <td>...</td>\n      <td>...</td>\n      <td>...</td>\n      <td>...</td>\n      <td>...</td>\n      <td>...</td>\n      <td>...</td>\n      <td>...</td>\n      <td>...</td>\n      <td>...</td>\n      <td>...</td>\n      <td>...</td>\n      <td>...</td>\n    </tr>\n    <tr>\n      <th>6891</th>\n      <td>6892</td>\n      <td>b'\\xaa\\xf0\\x90\\x06\\x00\\x00\\x00\\x00'</td>\n      <td>1400</td>\n      <td>3</td>\n      <td>1</td>\n      <td>6</td>\n      <td>30</td>\n      <td>0</td>\n      <td>5.0</td>\n      <td>0.0</td>\n      <td>0.0</td>\n      <td>5.0</td>\n      <td>1400-03-01 06:30:00</td>\n      <td>b'\\xaa\\xf0\\x90\\x06\\x00\\x00\\x00\\x00'-1400-03-01...</td>\n    </tr>\n    <tr>\n      <th>6892</th>\n      <td>6893</td>\n      <td>b'X\\xf8\\x90\\x06\\x00\\x00\\x00\\x00'</td>\n      <td>1400</td>\n      <td>3</td>\n      <td>1</td>\n      <td>6</td>\n      <td>30</td>\n      <td>0</td>\n      <td>4.0</td>\n      <td>0.0</td>\n      <td>0.0</td>\n      <td>4.0</td>\n      <td>1400-03-01 06:30:00</td>\n      <td>b'X\\xf8\\x90\\x06\\x00\\x00\\x00\\x00'-1400-03-01 06...</td>\n    </tr>\n    <tr>\n      <th>6893</th>\n      <td>6894</td>\n      <td>b'\\xf4\\xb5\\x90\\x06\\x00\\x00\\x00\\x00'</td>\n      <td>1400</td>\n      <td>3</td>\n      <td>1</td>\n      <td>18</td>\n      <td>30</td>\n      <td>0</td>\n      <td>0.0</td>\n      <td>0.0</td>\n      <td>0.0</td>\n      <td>0.0</td>\n      <td>1400-03-01 18:30:00</td>\n      <td>b'\\xf4\\xb5\\x90\\x06\\x00\\x00\\x00\\x00'-1400-03-01...</td>\n    </tr>\n    <tr>\n      <th>6894</th>\n      <td>6895</td>\n      <td>b'\\xaa\\xf0\\x90\\x06\\x00\\x00\\x00\\x00'</td>\n      <td>1400</td>\n      <td>3</td>\n      <td>1</td>\n      <td>18</td>\n      <td>30</td>\n      <td>0</td>\n      <td>0.0</td>\n      <td>0.0</td>\n      <td>0.0</td>\n      <td>0.0</td>\n      <td>1400-03-01 18:30:00</td>\n      <td>b'\\xaa\\xf0\\x90\\x06\\x00\\x00\\x00\\x00'-1400-03-01...</td>\n    </tr>\n    <tr>\n      <th>6895</th>\n      <td>6896</td>\n      <td>b'X\\xf8\\x90\\x06\\x00\\x00\\x00\\x00'</td>\n      <td>1400</td>\n      <td>3</td>\n      <td>1</td>\n      <td>18</td>\n      <td>30</td>\n      <td>0</td>\n      <td>20.0</td>\n      <td>0.0</td>\n      <td>0.0</td>\n      <td>20.0</td>\n      <td>1400-03-01 18:30:00</td>\n      <td>b'X\\xf8\\x90\\x06\\x00\\x00\\x00\\x00'-1400-03-01 18...</td>\n    </tr>\n  </tbody>\n</table>\n<p>6896 rows × 14 columns</p>\n</div>"
     },
     "metadata": {},
     "execution_count": 35
    }
   ],
   "source": [
    "exist_precipitation_data"
   ]
  },
  {
   "cell_type": "code",
   "execution_count": null,
   "metadata": {},
   "outputs": [],
   "source": []
  }
 ]
}