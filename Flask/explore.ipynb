{
 "metadata": {
  "language_info": {
   "codemirror_mode": {
    "name": "ipython",
    "version": 3
   },
   "file_extension": ".py",
   "mimetype": "text/x-python",
   "name": "python",
   "nbconvert_exporter": "python",
   "pygments_lexer": "ipython3",
   "version": "3.9.5"
  },
  "orig_nbformat": 2,
  "kernelspec": {
   "name": "python3",
   "display_name": "Python 3.9.5 64-bit ('.venv': venv)"
  },
  "interpreter": {
   "hash": "eb1d614377ac1202e1992301045f44684d327dec4ef3fd3ccd326e7e24918a2f"
  }
 },
 "nbformat": 4,
 "nbformat_minor": 2,
 "cells": [
  {
   "cell_type": "code",
   "execution_count": null,
   "metadata": {},
   "outputs": [],
   "source": [
    "import pandas as pd\n",
    "\n",
    "data = pd.read_csv(\"/mnt/c/Users/POOYA/Desktop/data.csv\")\n",
    "\n",
    "data"
   ]
  },
  {
   "cell_type": "code",
   "execution_count": null,
   "metadata": {},
   "outputs": [],
   "source": [
    "\n",
    "def convertAB(Year_AB_1, Year_AB_2, Month_AB, Day_AB, Houre, Minute, Second):\n",
    "    if Month_AB <=6 and Month_AB >=1:\n",
    "        if Year_AB_2 >= 20:\n",
    "            Year = Year_AB_2 + 1300\n",
    "        else:\n",
    "            Year = Year_AB_2 + 1400\n",
    "\n",
    "        Month = Month_AB\n",
    "        Day = Day_AB\n",
    "    elif Month_AB <=12 and Month_AB >=7:\n",
    "        Year = Year_AB_1\n",
    "        Month = Month_AB\n",
    "        Day = Day_AB\n",
    "    else:\n",
    "        Year = None\n",
    "        Month = None\n",
    "        Day = None\n",
    "    return [int(Year), int(Month), int(Day), int(Houre), int(Minute), int(Second)]\n",
    "\n",
    "\n",
    "\n",
    "b6 = data[['stationCode', 'Year_AB_1', 'Year_AB_2', 'Month_AB', 'Day_AB', 'BARAN_6', 'BARF_6', 'AB_BARF_6']]\n",
    "b6['Houre'] = 6\n",
    "b6['Minute'] = 30\n",
    "b6['Second'] = 0\n",
    "b6['JAM_BARAN'] = b6['BARAN_6'] + b6['AB_BARF_6']\n",
    "\n",
    "b6[['Date']] = b6.apply(\n",
    "    lambda row : convertAB(row[\"Year_AB_1\"], row[\"Year_AB_2\"], row[\"Month_AB\"], row[\"Day_AB\"], row[\"Houre\"], row[\"Minute\"], row[\"Second\"]),\n",
    "     axis=1\n",
    "    )\n",
    "\n",
    "b6 = b6[['stationCode', 'Date', 'BARAN_6', 'BARF_6', 'AB_BARF_6', 'JAM_BARAN']]\n",
    "b6.columns = ['stationCode', 'DATE', 'BARAN', 'BARF', 'AB_BARF', 'JAM_BARAN']\n",
    "\n",
    "\n",
    "\n",
    "b18 = data[['stationCode', 'Year_AB_1', 'Year_AB_2', 'Month_AB', 'Day_AB', 'BARAN_18', 'BARF_18', 'AB_BARF_18']]\n",
    "b18['Houre'] = 18\n",
    "b18['Minute'] = 30\n",
    "b18['Second'] = 0\n",
    "b18['JAM_BARAN'] = b18['BARAN_18'] + b18['AB_BARF_18']\n",
    "\n",
    "b18[['Date']] = b18.apply(\n",
    "    lambda row : convertAB(row[\"Year_AB_1\"], row[\"Year_AB_2\"], row[\"Month_AB\"], row[\"Day_AB\"], row[\"Houre\"], row[\"Minute\"], row[\"Second\"]),\n",
    "     axis=1\n",
    "    )\n",
    "\n",
    "b18 = b18[['stationCode', 'Date', 'BARAN_18', 'BARF_18', 'AB_BARF_18', 'JAM_BARAN']]\n",
    "b18.columns = ['stationCode', 'DATE', 'BARAN', 'BARF', 'AB_BARF', 'JAM_BARAN']\n",
    "\n",
    "\n",
    "\n",
    "\n",
    "data = pd.concat([b6, b18])\n",
    "data[['YEAR', 'MONTH', 'DAY', 'HOURE', 'MINUTE', 'SECOND']] = pd.DataFrame(data.DATE.tolist(), index= data.index)\n",
    "data['DATE'] = data['YEAR'].astype(str) + \"-\" + data['MONTH'].astype(str).str.zfill(2) + \"-\" + data['DAY'].astype(str).str.zfill(2) + \" \" + data['HOURE'].astype(str).str.zfill(2) + \":\" + data['MINUTE'].astype(str).str.zfill(2) + \":\" + data['SECOND'].astype(str).str.zfill(2) \n",
    "\n",
    "\n",
    "\n",
    "\n",
    "\n",
    "data = data[['stationCode', 'DATE', 'YEAR', 'MONTH', 'DAY', 'HOURE', 'MINUTE', 'SECOND', 'BARAN', 'BARF', 'AB_BARF', 'JAM_BARAN']]\n",
    "\n",
    "\n",
    "data.sort_values(by=['stationCode', 'YEAR', 'MONTH', 'DAY', 'HOURE', 'MINUTE', 'SECOND'], inplace=True)\n",
    "\n"
   ]
  },
  {
   "cell_type": "code",
   "execution_count": null,
   "metadata": {},
   "outputs": [],
   "source": [
    "data"
   ]
  },
  {
   "cell_type": "code",
   "execution_count": null,
   "metadata": {},
   "outputs": [],
   "source": [
    "data.to_csv(\"data.csv\", index=False)"
   ]
  },
  {
   "cell_type": "code",
   "execution_count": null,
   "metadata": {},
   "outputs": [],
   "source": []
  },
  {
   "cell_type": "code",
   "execution_count": null,
   "metadata": {},
   "outputs": [],
   "source": []
  },
  {
   "cell_type": "code",
   "execution_count": null,
   "metadata": {},
   "outputs": [],
   "source": []
  },
  {
   "cell_type": "code",
   "execution_count": null,
   "metadata": {},
   "outputs": [],
   "source": []
  },
  {
   "cell_type": "code",
   "execution_count": null,
   "metadata": {},
   "outputs": [],
   "source": []
  },
  {
   "cell_type": "code",
   "execution_count": null,
   "metadata": {},
   "outputs": [],
   "source": [
    "import pandas as pd\n",
    "import sqlite3\n",
    "db_path_precipitation = 'App/dashApp/precipitation/precipitation.sqlite'\n",
    "db_precipitation = sqlite3.connect(db_path_precipitation, check_same_thread=False)\n",
    "\n",
    "\n",
    "\n",
    "\n",
    "\n",
    "date = \"1398/3/1\"\n",
    "time = \"18:30:00\"\n",
    "data = [\n",
    "    {'stationName': 'فریمان', 'baran': 0, 'barf': 0, 'ab_barf': 0}, \n",
    "    {'stationName': 'امور آب سبزوار', 'baran': 0, 'barf': 0, 'ab_barf': 0}, \n",
    "    {'stationName': 'چناران', 'baran': 0, 'barf': 0, 'ab_barf': 0},\n",
    "]"
   ]
  },
  {
   "cell_type": "code",
   "execution_count": null,
   "metadata": {},
   "outputs": [],
   "source": [
    "        exist_precipitation_data = pd.read_sql_query(sql=\"SELECT * FROM precipitation\", con=db_precipitation)\n",
    "        exist_precipitation_data_columns = list(exist_precipitation_data.columns)\n",
    "        exist_precipitation_data['DATE'] = exist_precipitation_data['YEAR'].astype(str) + \"-\" + exist_precipitation_data['MONTH'].astype(str).str.zfill(2) + \"-\" + exist_precipitation_data['DAY'].astype(str).str.zfill(2) + \" \" + exist_precipitation_data['HOURE'].astype(str).str.zfill(2) + \":\" + exist_precipitation_data['MINUTE'].astype(str).str.zfill(2) + \":\" + exist_precipitation_data['SECOND'].astype(str).str.zfill(2)\n",
    "        exist_precipitation_data[\"uniqueCode\"] = exist_precipitation_data[\"stationCode\"].astype(str) + \"-\" + exist_precipitation_data[\"DATE\"]"
   ]
  },
  {
   "cell_type": "code",
   "execution_count": null,
   "metadata": {},
   "outputs": [],
   "source": [
    "exist_station = pd.read_sql_query(sql=\"SELECT * FROM station\", con=db_precipitation)"
   ]
  },
  {
   "cell_type": "code",
   "execution_count": null,
   "metadata": {},
   "outputs": [],
   "source": [
    "exist_station"
   ]
  },
  {
   "cell_type": "code",
   "execution_count": null,
   "metadata": {},
   "outputs": [],
   "source": [
    "df = pd.DataFrame(columns=exist_precipitation_data_columns[1:] + [\"stationName\"])\n",
    "\n",
    "date = date.split(\"/\")\n",
    "time = time.split(\":\")\n",
    "\n",
    "for i in range(len(data)):\n",
    "    df.loc[i,\"stationCode\"] = exist_station[exist_station['stationName'] == data[i][\"stationName\"]].iloc[0,1]\n",
    "    df.loc[i,\"YEAR\"] = date[0]\n",
    "    df.loc[i,\"MONTH\"] = date[1].zfill(2)\n",
    "    df.loc[i,\"DAY\"] = date[2].zfill(2)\n",
    "    df.loc[i,\"HOURE\"] = time[0].zfill(2)\n",
    "    df.loc[i,\"MINUTE\"] = time[1].zfill(2)\n",
    "    df.loc[i,\"SECOND\"] = time[2].zfill(2)\n",
    "    df.loc[i,\"BARAN\"] = data[i][\"baran\"]\n",
    "    df.loc[i,\"BARF\"] = data[i][\"barf\"]\n",
    "    df.loc[i,\"AB_BARF\"] = data[i][\"ab_barf\"]\n",
    "    df.loc[i,\"JAM_BARAN\"] = data[i][\"baran\"] + data[i][\"ab_barf\"]\n",
    "    df.loc[i,\"stationName\"] = data[i][\"stationName\"]\n",
    "\n",
    "df['DATE'] = df['YEAR'].astype(str) + \"-\" + df['MONTH'].astype(str) + \"-\" + df['DAY'].astype(str) + \" \" + df['HOURE'].astype(str) + \":\" + df['MINUTE'].astype(str) + \":\" + df['SECOND'].astype(str)\n",
    "\n",
    "df[\"uniqueCode\"] = df[\"stationCode\"].astype(str) + \"-\" + df[\"DATE\"]\n"
   ]
  },
  {
   "cell_type": "code",
   "execution_count": null,
   "metadata": {},
   "outputs": [],
   "source": [
    "df"
   ]
  },
  {
   "cell_type": "code",
   "execution_count": null,
   "metadata": {},
   "outputs": [],
   "source": [
    "df.loc[df.duplicated(subset=[\"stationName\"]),:][\"stationName\"].unique().tolist()"
   ]
  },
  {
   "cell_type": "code",
   "execution_count": null,
   "metadata": {},
   "outputs": [],
   "source": [
    "df[\"uniqueCode\"].isin(exist_precipitation_data[\"uniqueCode\"]).any()"
   ]
  },
  {
   "cell_type": "code",
   "execution_count": null,
   "metadata": {},
   "outputs": [],
   "source": [
    "df.loc[df[\"uniqueCode\"].isin(exist_precipitation_data[\"uniqueCode\"]), :]"
   ]
  },
  {
   "cell_type": "code",
   "execution_count": null,
   "metadata": {},
   "outputs": [],
   "source": [
    "from collections import Counter\n",
    "a = list((Counter(df[\"uniqueCode\"]) - Counter(exist_precipitation_data[\"uniqueCode\"])).elements())\n",
    "a"
   ]
  },
  {
   "cell_type": "code",
   "execution_count": null,
   "metadata": {},
   "outputs": [],
   "source": [
    "list(set(list(df[\"uniqueCode\"])) - set(a))"
   ]
  },
  {
   "cell_type": "code",
   "execution_count": null,
   "metadata": {},
   "outputs": [],
   "source": [
    "a"
   ]
  },
  {
   "cell_type": "code",
   "execution_count": null,
   "metadata": {},
   "outputs": [],
   "source": [
    "list(df[\"uniqueCode\"])"
   ]
  },
  {
   "cell_type": "code",
   "execution_count": null,
   "metadata": {},
   "outputs": [],
   "source": [
    "df"
   ]
  },
  {
   "cell_type": "code",
   "execution_count": null,
   "metadata": {},
   "outputs": [],
   "source": [
    "df.drop(['uniqueCode', 'DATE', 'stationName'], axis=1)"
   ]
  },
  {
   "cell_type": "code",
   "execution_count": null,
   "metadata": {},
   "outputs": [],
   "source": [
    "exist_precipitation_data"
   ]
  },
  {
   "source": [
    "DAILY DATA"
   ],
   "cell_type": "markdown",
   "metadata": {}
  },
  {
   "cell_type": "code",
   "execution_count": 1,
   "metadata": {},
   "outputs": [
    {
     "output_type": "execute_result",
     "data": {
      "text/plain": [
       "       YEAR  MONTH  DAY  HOURE  MINUTE  SECOND  110162006  110162090  \\\n",
       "0      1369      7    1     18      30       0        0.0        0.0   \n",
       "1      1369      7    2     18      30       0        0.0        0.0   \n",
       "2      1369      7    3     18      30       0        0.0        0.0   \n",
       "3      1369      7    4     18      30       0        0.0        0.0   \n",
       "4      1369      7    5     18      30       0        0.0        0.0   \n",
       "...     ...    ...  ...    ...     ...     ...        ...        ...   \n",
       "11176  1400      2   17     18      30       0        0.0        0.0   \n",
       "11177  1400      2   18     18      30       0        0.0        0.0   \n",
       "11178  1400      2   19     18      30       0        0.0        0.0   \n",
       "11179  1400      2   20     18      30       0        0.0        0.0   \n",
       "11180  1400      2   21     18      30       0        0.0        0.0   \n",
       "\n",
       "       110165013  110168010  ...  110164018  110161006  110111003  110147050  \\\n",
       "0            0.0        0.0  ...   0.536667        0.0        0.0        0.0   \n",
       "1            0.0        0.0  ...   0.536667        0.0        0.0        0.0   \n",
       "2            0.0        0.0  ...   0.536667        0.0        0.0        0.0   \n",
       "3            0.0        0.0  ...   0.536667        0.0        0.0        0.0   \n",
       "4            0.0        0.0  ...   0.536667        0.0        0.0        0.0   \n",
       "...          ...        ...  ...        ...        ...        ...        ...   \n",
       "11176        0.0        7.5  ...   2.800000        0.0        5.5        1.5   \n",
       "11177        0.0        4.0  ...   0.000000        0.0        7.5        0.0   \n",
       "11178        0.0        1.0  ...   0.500000        0.0        2.0        0.0   \n",
       "11179        0.0        0.0  ...   0.000000        0.0        0.5        0.0   \n",
       "11180        0.0        0.0  ...   0.000000        0.0        0.0        0.0   \n",
       "\n",
       "       110147060  110147126  110147128  110147082  110147120  110155016  \n",
       "0       0.084101        0.0        0.0        0.0        0.0   0.037085  \n",
       "1       0.084101        0.0        0.0        0.0        0.0   0.037085  \n",
       "2       0.084101        0.0        0.0        0.0        0.0   0.037085  \n",
       "3       0.084101        0.0        0.0        0.0        0.0   0.037085  \n",
       "4       0.084101        0.0        0.0        0.0        0.0   0.037085  \n",
       "...          ...        ...        ...        ...        ...        ...  \n",
       "11176   2.100000        9.5        5.5        0.0        0.0   0.000000  \n",
       "11177   1.100000        1.0        1.5        0.5        0.0   0.000000  \n",
       "11178   0.000000        2.5        0.0        0.5        0.0   0.000000  \n",
       "11179   0.000000        0.0        0.0        0.0        0.0   0.000000  \n",
       "11180   0.000000        0.0        0.0        0.0        0.0   0.000000  \n",
       "\n",
       "[11181 rows x 21 columns]"
      ],
      "text/html": "<div>\n<style scoped>\n    .dataframe tbody tr th:only-of-type {\n        vertical-align: middle;\n    }\n\n    .dataframe tbody tr th {\n        vertical-align: top;\n    }\n\n    .dataframe thead th {\n        text-align: right;\n    }\n</style>\n<table border=\"1\" class=\"dataframe\">\n  <thead>\n    <tr style=\"text-align: right;\">\n      <th></th>\n      <th>YEAR</th>\n      <th>MONTH</th>\n      <th>DAY</th>\n      <th>HOURE</th>\n      <th>MINUTE</th>\n      <th>SECOND</th>\n      <th>110162006</th>\n      <th>110162090</th>\n      <th>110165013</th>\n      <th>110168010</th>\n      <th>...</th>\n      <th>110164018</th>\n      <th>110161006</th>\n      <th>110111003</th>\n      <th>110147050</th>\n      <th>110147060</th>\n      <th>110147126</th>\n      <th>110147128</th>\n      <th>110147082</th>\n      <th>110147120</th>\n      <th>110155016</th>\n    </tr>\n  </thead>\n  <tbody>\n    <tr>\n      <th>0</th>\n      <td>1369</td>\n      <td>7</td>\n      <td>1</td>\n      <td>18</td>\n      <td>30</td>\n      <td>0</td>\n      <td>0.0</td>\n      <td>0.0</td>\n      <td>0.0</td>\n      <td>0.0</td>\n      <td>...</td>\n      <td>0.536667</td>\n      <td>0.0</td>\n      <td>0.0</td>\n      <td>0.0</td>\n      <td>0.084101</td>\n      <td>0.0</td>\n      <td>0.0</td>\n      <td>0.0</td>\n      <td>0.0</td>\n      <td>0.037085</td>\n    </tr>\n    <tr>\n      <th>1</th>\n      <td>1369</td>\n      <td>7</td>\n      <td>2</td>\n      <td>18</td>\n      <td>30</td>\n      <td>0</td>\n      <td>0.0</td>\n      <td>0.0</td>\n      <td>0.0</td>\n      <td>0.0</td>\n      <td>...</td>\n      <td>0.536667</td>\n      <td>0.0</td>\n      <td>0.0</td>\n      <td>0.0</td>\n      <td>0.084101</td>\n      <td>0.0</td>\n      <td>0.0</td>\n      <td>0.0</td>\n      <td>0.0</td>\n      <td>0.037085</td>\n    </tr>\n    <tr>\n      <th>2</th>\n      <td>1369</td>\n      <td>7</td>\n      <td>3</td>\n      <td>18</td>\n      <td>30</td>\n      <td>0</td>\n      <td>0.0</td>\n      <td>0.0</td>\n      <td>0.0</td>\n      <td>0.0</td>\n      <td>...</td>\n      <td>0.536667</td>\n      <td>0.0</td>\n      <td>0.0</td>\n      <td>0.0</td>\n      <td>0.084101</td>\n      <td>0.0</td>\n      <td>0.0</td>\n      <td>0.0</td>\n      <td>0.0</td>\n      <td>0.037085</td>\n    </tr>\n    <tr>\n      <th>3</th>\n      <td>1369</td>\n      <td>7</td>\n      <td>4</td>\n      <td>18</td>\n      <td>30</td>\n      <td>0</td>\n      <td>0.0</td>\n      <td>0.0</td>\n      <td>0.0</td>\n      <td>0.0</td>\n      <td>...</td>\n      <td>0.536667</td>\n      <td>0.0</td>\n      <td>0.0</td>\n      <td>0.0</td>\n      <td>0.084101</td>\n      <td>0.0</td>\n      <td>0.0</td>\n      <td>0.0</td>\n      <td>0.0</td>\n      <td>0.037085</td>\n    </tr>\n    <tr>\n      <th>4</th>\n      <td>1369</td>\n      <td>7</td>\n      <td>5</td>\n      <td>18</td>\n      <td>30</td>\n      <td>0</td>\n      <td>0.0</td>\n      <td>0.0</td>\n      <td>0.0</td>\n      <td>0.0</td>\n      <td>...</td>\n      <td>0.536667</td>\n      <td>0.0</td>\n      <td>0.0</td>\n      <td>0.0</td>\n      <td>0.084101</td>\n      <td>0.0</td>\n      <td>0.0</td>\n      <td>0.0</td>\n      <td>0.0</td>\n      <td>0.037085</td>\n    </tr>\n    <tr>\n      <th>...</th>\n      <td>...</td>\n      <td>...</td>\n      <td>...</td>\n      <td>...</td>\n      <td>...</td>\n      <td>...</td>\n      <td>...</td>\n      <td>...</td>\n      <td>...</td>\n      <td>...</td>\n      <td>...</td>\n      <td>...</td>\n      <td>...</td>\n      <td>...</td>\n      <td>...</td>\n      <td>...</td>\n      <td>...</td>\n      <td>...</td>\n      <td>...</td>\n      <td>...</td>\n      <td>...</td>\n    </tr>\n    <tr>\n      <th>11176</th>\n      <td>1400</td>\n      <td>2</td>\n      <td>17</td>\n      <td>18</td>\n      <td>30</td>\n      <td>0</td>\n      <td>0.0</td>\n      <td>0.0</td>\n      <td>0.0</td>\n      <td>7.5</td>\n      <td>...</td>\n      <td>2.800000</td>\n      <td>0.0</td>\n      <td>5.5</td>\n      <td>1.5</td>\n      <td>2.100000</td>\n      <td>9.5</td>\n      <td>5.5</td>\n      <td>0.0</td>\n      <td>0.0</td>\n      <td>0.000000</td>\n    </tr>\n    <tr>\n      <th>11177</th>\n      <td>1400</td>\n      <td>2</td>\n      <td>18</td>\n      <td>18</td>\n      <td>30</td>\n      <td>0</td>\n      <td>0.0</td>\n      <td>0.0</td>\n      <td>0.0</td>\n      <td>4.0</td>\n      <td>...</td>\n      <td>0.000000</td>\n      <td>0.0</td>\n      <td>7.5</td>\n      <td>0.0</td>\n      <td>1.100000</td>\n      <td>1.0</td>\n      <td>1.5</td>\n      <td>0.5</td>\n      <td>0.0</td>\n      <td>0.000000</td>\n    </tr>\n    <tr>\n      <th>11178</th>\n      <td>1400</td>\n      <td>2</td>\n      <td>19</td>\n      <td>18</td>\n      <td>30</td>\n      <td>0</td>\n      <td>0.0</td>\n      <td>0.0</td>\n      <td>0.0</td>\n      <td>1.0</td>\n      <td>...</td>\n      <td>0.500000</td>\n      <td>0.0</td>\n      <td>2.0</td>\n      <td>0.0</td>\n      <td>0.000000</td>\n      <td>2.5</td>\n      <td>0.0</td>\n      <td>0.5</td>\n      <td>0.0</td>\n      <td>0.000000</td>\n    </tr>\n    <tr>\n      <th>11179</th>\n      <td>1400</td>\n      <td>2</td>\n      <td>20</td>\n      <td>18</td>\n      <td>30</td>\n      <td>0</td>\n      <td>0.0</td>\n      <td>0.0</td>\n      <td>0.0</td>\n      <td>0.0</td>\n      <td>...</td>\n      <td>0.000000</td>\n      <td>0.0</td>\n      <td>0.5</td>\n      <td>0.0</td>\n      <td>0.000000</td>\n      <td>0.0</td>\n      <td>0.0</td>\n      <td>0.0</td>\n      <td>0.0</td>\n      <td>0.000000</td>\n    </tr>\n    <tr>\n      <th>11180</th>\n      <td>1400</td>\n      <td>2</td>\n      <td>21</td>\n      <td>18</td>\n      <td>30</td>\n      <td>0</td>\n      <td>0.0</td>\n      <td>0.0</td>\n      <td>0.0</td>\n      <td>0.0</td>\n      <td>...</td>\n      <td>0.000000</td>\n      <td>0.0</td>\n      <td>0.0</td>\n      <td>0.0</td>\n      <td>0.000000</td>\n      <td>0.0</td>\n      <td>0.0</td>\n      <td>0.0</td>\n      <td>0.0</td>\n      <td>0.000000</td>\n    </tr>\n  </tbody>\n</table>\n<p>11181 rows × 21 columns</p>\n</div>"
     },
     "metadata": {},
     "execution_count": 1
    }
   ],
   "source": [
    "import pandas as pd\n",
    "\n",
    "data = pd.read_csv(\"data1.csv\")\n",
    "\n",
    "persian_month = {\n",
    "    'فروردین': 1,\n",
    "    'اردیبهشت': 2,\n",
    "    'خرداد': 3,\n",
    "    'تیر': 4,\n",
    "    'مرداد': 5,\n",
    "    'شهریور': 6,\n",
    "    'مهر': 7,\n",
    "    'آبان': 8,\n",
    "    'آذر': 9,\n",
    "    'دی': 10,\n",
    "    'بهمن': 11,\n",
    "    'اسفند': 12,\n",
    "}\n",
    "\n",
    "data[\"MONTH\"] = data[\"MONTH\"].map(persian_month)\n",
    "\n",
    "data"
   ]
  },
  {
   "cell_type": "code",
   "execution_count": 2,
   "metadata": {},
   "outputs": [],
   "source": [
    "data = pd.melt(data, id_vars=[\"YEAR\", \"MONTH\", \"DAY\", \"HOURE\", \"MINUTE\", \"SECOND\"], var_name=\"stationCode\", value_name=\"JAM_BARAN\")\n",
    "data['stationCode'] = data['stationCode'].astype(int)\n",
    "data[\"BARAN\"] = data[\"JAM_BARAN\"]\n",
    "data[\"BARF\"] = 0.0\n",
    "data[\"AB_BARF\"] = 0.0\n",
    "data = data[[\"stationCode\", \"YEAR\", \"MONTH\", \"DAY\", \"HOURE\", \"MINUTE\", \"SECOND\", \"BARAN\", \"BARF\", \"AB_BARF\", \"JAM_BARAN\"]]\n",
    "data\n",
    "\n",
    "data.to_csv('data.csv', index=False)"
   ]
  },
  {
   "cell_type": "code",
   "execution_count": 62,
   "metadata": {},
   "outputs": [
    {
     "output_type": "execute_result",
     "data": {
      "text/plain": [
       "numpy.int64"
      ]
     },
     "metadata": {},
     "execution_count": 62
    }
   ],
   "source": [
    "import pandas as pd\n",
    "data = pd.read_excel(\"data.xlsx\")\n",
    "\n",
    "type(sorted(list(data[YEAR].unique()))[-2])"
   ]
  },
  {
   "cell_type": "code",
   "execution_count": 63,
   "metadata": {},
   "outputs": [
    {
     "output_type": "error",
     "ename": "ValueError",
     "evalue": "\n    Invalid value of type 'numpy.int64' received for the 'name' property of scatter\n        Received value: 1399\n\n    The 'name' property is a string and must be specified as:\n      - A string\n      - A number that will be converted to a string",
     "traceback": [
      "\u001b[0;31m---------------------------------------------------------------------------\u001b[0m",
      "\u001b[0;31mValueError\u001b[0m                                Traceback (most recent call last)",
      "\u001b[0;32m<ipython-input-63-9d67bd20696d>\u001b[0m in \u001b[0;36m<module>\u001b[0;34m\u001b[0m\n\u001b[1;32m     31\u001b[0m \u001b[0;34m\u001b[0m\u001b[0m\n\u001b[1;32m     32\u001b[0m graph1.add_trace(\n\u001b[0;32m---> 33\u001b[0;31m     go.Scatter(\n\u001b[0m\u001b[1;32m     34\u001b[0m         \u001b[0mx\u001b[0m \u001b[0;34m=\u001b[0m \u001b[0mdata\u001b[0m\u001b[0;34m.\u001b[0m\u001b[0mloc\u001b[0m\u001b[0;34m[\u001b[0m\u001b[0mdata\u001b[0m\u001b[0;34m[\u001b[0m\u001b[0mYEAR\u001b[0m\u001b[0;34m]\u001b[0m \u001b[0;34m==\u001b[0m \u001b[0mPREVIOUS_YEAR\u001b[0m\u001b[0;34m,\u001b[0m \u001b[0;34m\"stationName\"\u001b[0m\u001b[0;34m]\u001b[0m\u001b[0;34m,\u001b[0m\u001b[0;34m\u001b[0m\u001b[0;34m\u001b[0m\u001b[0m\n\u001b[1;32m     35\u001b[0m         \u001b[0my\u001b[0m \u001b[0;34m=\u001b[0m \u001b[0mdata\u001b[0m\u001b[0;34m.\u001b[0m\u001b[0mloc\u001b[0m\u001b[0;34m[\u001b[0m\u001b[0mdata\u001b[0m\u001b[0;34m[\u001b[0m\u001b[0mYEAR\u001b[0m\u001b[0;34m]\u001b[0m \u001b[0;34m==\u001b[0m \u001b[0mPREVIOUS_YEAR\u001b[0m\u001b[0;34m,\u001b[0m \u001b[0;34m\"JAM_BARAN\"\u001b[0m\u001b[0;34m]\u001b[0m\u001b[0;34m,\u001b[0m\u001b[0;34m\u001b[0m\u001b[0;34m\u001b[0m\u001b[0m\n",
      "\u001b[0;32m~/w/KHRW-DASHBOARD-LOCAL/Flask/.venv/lib/python3.9/site-packages/plotly/graph_objs/_scatter.py\u001b[0m in \u001b[0;36m__init__\u001b[0;34m(self, arg, cliponaxis, connectgaps, customdata, customdatasrc, dx, dy, error_x, error_y, fill, fillcolor, groupnorm, hoverinfo, hoverinfosrc, hoverlabel, hoveron, hovertemplate, hovertemplatesrc, hovertext, hovertextsrc, ids, idssrc, legendgroup, line, marker, meta, metasrc, mode, name, opacity, orientation, r, rsrc, selected, selectedpoints, showlegend, stackgaps, stackgroup, stream, t, text, textfont, textposition, textpositionsrc, textsrc, texttemplate, texttemplatesrc, tsrc, uid, uirevision, unselected, visible, x, x0, xaxis, xcalendar, xperiod, xperiod0, xperiodalignment, xsrc, y, y0, yaxis, ycalendar, yperiod, yperiod0, yperiodalignment, ysrc, **kwargs)\u001b[0m\n\u001b[1;32m   3024\u001b[0m         \u001b[0m_v\u001b[0m \u001b[0;34m=\u001b[0m \u001b[0mname\u001b[0m \u001b[0;32mif\u001b[0m \u001b[0mname\u001b[0m \u001b[0;32mis\u001b[0m \u001b[0;32mnot\u001b[0m \u001b[0;32mNone\u001b[0m \u001b[0;32melse\u001b[0m \u001b[0m_v\u001b[0m\u001b[0;34m\u001b[0m\u001b[0;34m\u001b[0m\u001b[0m\n\u001b[1;32m   3025\u001b[0m         \u001b[0;32mif\u001b[0m \u001b[0m_v\u001b[0m \u001b[0;32mis\u001b[0m \u001b[0;32mnot\u001b[0m \u001b[0;32mNone\u001b[0m\u001b[0;34m:\u001b[0m\u001b[0;34m\u001b[0m\u001b[0;34m\u001b[0m\u001b[0m\n\u001b[0;32m-> 3026\u001b[0;31m             \u001b[0mself\u001b[0m\u001b[0;34m[\u001b[0m\u001b[0;34m\"name\"\u001b[0m\u001b[0;34m]\u001b[0m \u001b[0;34m=\u001b[0m \u001b[0m_v\u001b[0m\u001b[0;34m\u001b[0m\u001b[0;34m\u001b[0m\u001b[0m\n\u001b[0m\u001b[1;32m   3027\u001b[0m         \u001b[0m_v\u001b[0m \u001b[0;34m=\u001b[0m \u001b[0marg\u001b[0m\u001b[0;34m.\u001b[0m\u001b[0mpop\u001b[0m\u001b[0;34m(\u001b[0m\u001b[0;34m\"opacity\"\u001b[0m\u001b[0;34m,\u001b[0m \u001b[0;32mNone\u001b[0m\u001b[0;34m)\u001b[0m\u001b[0;34m\u001b[0m\u001b[0;34m\u001b[0m\u001b[0m\n\u001b[1;32m   3028\u001b[0m         \u001b[0m_v\u001b[0m \u001b[0;34m=\u001b[0m \u001b[0mopacity\u001b[0m \u001b[0;32mif\u001b[0m \u001b[0mopacity\u001b[0m \u001b[0;32mis\u001b[0m \u001b[0;32mnot\u001b[0m \u001b[0;32mNone\u001b[0m \u001b[0;32melse\u001b[0m \u001b[0m_v\u001b[0m\u001b[0;34m\u001b[0m\u001b[0;34m\u001b[0m\u001b[0m\n",
      "\u001b[0;32m~/w/KHRW-DASHBOARD-LOCAL/Flask/.venv/lib/python3.9/site-packages/plotly/basedatatypes.py\u001b[0m in \u001b[0;36m__setitem__\u001b[0;34m(self, prop, value)\u001b[0m\n\u001b[1;32m   4802\u001b[0m                 \u001b[0;31m# ### Handle simple property ###\u001b[0m\u001b[0;34m\u001b[0m\u001b[0;34m\u001b[0m\u001b[0;34m\u001b[0m\u001b[0m\n\u001b[1;32m   4803\u001b[0m                 \u001b[0;32melse\u001b[0m\u001b[0;34m:\u001b[0m\u001b[0;34m\u001b[0m\u001b[0;34m\u001b[0m\u001b[0m\n\u001b[0;32m-> 4804\u001b[0;31m                     \u001b[0mself\u001b[0m\u001b[0;34m.\u001b[0m\u001b[0m_set_prop\u001b[0m\u001b[0;34m(\u001b[0m\u001b[0mprop\u001b[0m\u001b[0;34m,\u001b[0m \u001b[0mvalue\u001b[0m\u001b[0;34m)\u001b[0m\u001b[0;34m\u001b[0m\u001b[0;34m\u001b[0m\u001b[0m\n\u001b[0m\u001b[1;32m   4805\u001b[0m             \u001b[0;32melse\u001b[0m\u001b[0;34m:\u001b[0m\u001b[0;34m\u001b[0m\u001b[0;34m\u001b[0m\u001b[0m\n\u001b[1;32m   4806\u001b[0m                 \u001b[0;31m# Make sure properties dict is initialized\u001b[0m\u001b[0;34m\u001b[0m\u001b[0;34m\u001b[0m\u001b[0;34m\u001b[0m\u001b[0m\n",
      "\u001b[0;32m~/w/KHRW-DASHBOARD-LOCAL/Flask/.venv/lib/python3.9/site-packages/plotly/basedatatypes.py\u001b[0m in \u001b[0;36m_set_prop\u001b[0;34m(self, prop, val)\u001b[0m\n\u001b[1;32m   5146\u001b[0m                 \u001b[0;32mreturn\u001b[0m\u001b[0;34m\u001b[0m\u001b[0;34m\u001b[0m\u001b[0m\n\u001b[1;32m   5147\u001b[0m             \u001b[0;32melse\u001b[0m\u001b[0;34m:\u001b[0m\u001b[0;34m\u001b[0m\u001b[0;34m\u001b[0m\u001b[0m\n\u001b[0;32m-> 5148\u001b[0;31m                 \u001b[0;32mraise\u001b[0m \u001b[0merr\u001b[0m\u001b[0;34m\u001b[0m\u001b[0;34m\u001b[0m\u001b[0m\n\u001b[0m\u001b[1;32m   5149\u001b[0m \u001b[0;34m\u001b[0m\u001b[0m\n\u001b[1;32m   5150\u001b[0m         \u001b[0;31m# val is None\u001b[0m\u001b[0;34m\u001b[0m\u001b[0;34m\u001b[0m\u001b[0;34m\u001b[0m\u001b[0m\n",
      "\u001b[0;32m~/w/KHRW-DASHBOARD-LOCAL/Flask/.venv/lib/python3.9/site-packages/plotly/basedatatypes.py\u001b[0m in \u001b[0;36m_set_prop\u001b[0;34m(self, prop, val)\u001b[0m\n\u001b[1;32m   5141\u001b[0m \u001b[0;34m\u001b[0m\u001b[0m\n\u001b[1;32m   5142\u001b[0m         \u001b[0;32mtry\u001b[0m\u001b[0;34m:\u001b[0m\u001b[0;34m\u001b[0m\u001b[0;34m\u001b[0m\u001b[0m\n\u001b[0;32m-> 5143\u001b[0;31m             \u001b[0mval\u001b[0m \u001b[0;34m=\u001b[0m \u001b[0mvalidator\u001b[0m\u001b[0;34m.\u001b[0m\u001b[0mvalidate_coerce\u001b[0m\u001b[0;34m(\u001b[0m\u001b[0mval\u001b[0m\u001b[0;34m)\u001b[0m\u001b[0;34m\u001b[0m\u001b[0;34m\u001b[0m\u001b[0m\n\u001b[0m\u001b[1;32m   5144\u001b[0m         \u001b[0;32mexcept\u001b[0m \u001b[0mValueError\u001b[0m \u001b[0;32mas\u001b[0m \u001b[0merr\u001b[0m\u001b[0;34m:\u001b[0m\u001b[0;34m\u001b[0m\u001b[0;34m\u001b[0m\u001b[0m\n\u001b[1;32m   5145\u001b[0m             \u001b[0;32mif\u001b[0m \u001b[0mself\u001b[0m\u001b[0;34m.\u001b[0m\u001b[0m_skip_invalid\u001b[0m\u001b[0;34m:\u001b[0m\u001b[0;34m\u001b[0m\u001b[0;34m\u001b[0m\u001b[0m\n",
      "\u001b[0;32m~/w/KHRW-DASHBOARD-LOCAL/Flask/.venv/lib/python3.9/site-packages/_plotly_utils/basevalidators.py\u001b[0m in \u001b[0;36mvalidate_coerce\u001b[0;34m(self, v)\u001b[0m\n\u001b[1;32m   1084\u001b[0m                     \u001b[0mv\u001b[0m \u001b[0;34m=\u001b[0m \u001b[0mstr\u001b[0m\u001b[0;34m(\u001b[0m\u001b[0mv\u001b[0m\u001b[0;34m)\u001b[0m\u001b[0;34m\u001b[0m\u001b[0;34m\u001b[0m\u001b[0m\n\u001b[1;32m   1085\u001b[0m                 \u001b[0;32melse\u001b[0m\u001b[0;34m:\u001b[0m\u001b[0;34m\u001b[0m\u001b[0;34m\u001b[0m\u001b[0m\n\u001b[0;32m-> 1086\u001b[0;31m                     \u001b[0mself\u001b[0m\u001b[0;34m.\u001b[0m\u001b[0mraise_invalid_val\u001b[0m\u001b[0;34m(\u001b[0m\u001b[0mv\u001b[0m\u001b[0;34m)\u001b[0m\u001b[0;34m\u001b[0m\u001b[0;34m\u001b[0m\u001b[0m\n\u001b[0m\u001b[1;32m   1087\u001b[0m \u001b[0;34m\u001b[0m\u001b[0m\n\u001b[1;32m   1088\u001b[0m             \u001b[0;32mif\u001b[0m \u001b[0mself\u001b[0m\u001b[0;34m.\u001b[0m\u001b[0mno_blank\u001b[0m \u001b[0;32mand\u001b[0m \u001b[0mlen\u001b[0m\u001b[0;34m(\u001b[0m\u001b[0mv\u001b[0m\u001b[0;34m)\u001b[0m \u001b[0;34m==\u001b[0m \u001b[0;36m0\u001b[0m\u001b[0;34m:\u001b[0m\u001b[0;34m\u001b[0m\u001b[0;34m\u001b[0m\u001b[0m\n",
      "\u001b[0;32m~/w/KHRW-DASHBOARD-LOCAL/Flask/.venv/lib/python3.9/site-packages/_plotly_utils/basevalidators.py\u001b[0m in \u001b[0;36mraise_invalid_val\u001b[0;34m(self, v, inds)\u001b[0m\n\u001b[1;32m    275\u001b[0m                 \u001b[0mname\u001b[0m \u001b[0;34m+=\u001b[0m \u001b[0;34m\"[\"\u001b[0m \u001b[0;34m+\u001b[0m \u001b[0mstr\u001b[0m\u001b[0;34m(\u001b[0m\u001b[0mi\u001b[0m\u001b[0;34m)\u001b[0m \u001b[0;34m+\u001b[0m \u001b[0;34m\"]\"\u001b[0m\u001b[0;34m\u001b[0m\u001b[0;34m\u001b[0m\u001b[0m\n\u001b[1;32m    276\u001b[0m \u001b[0;34m\u001b[0m\u001b[0m\n\u001b[0;32m--> 277\u001b[0;31m         raise ValueError(\n\u001b[0m\u001b[1;32m    278\u001b[0m             \"\"\"\n\u001b[1;32m    279\u001b[0m     \u001b[0mInvalid\u001b[0m \u001b[0mvalue\u001b[0m \u001b[0mof\u001b[0m \u001b[0mtype\u001b[0m \u001b[0;34m{\u001b[0m\u001b[0mtyp\u001b[0m\u001b[0;34m}\u001b[0m \u001b[0mreceived\u001b[0m \u001b[0;32mfor\u001b[0m \u001b[0mthe\u001b[0m \u001b[0;34m'{name}'\u001b[0m \u001b[0mproperty\u001b[0m \u001b[0mof\u001b[0m \u001b[0;34m{\u001b[0m\u001b[0mpname\u001b[0m\u001b[0;34m}\u001b[0m\u001b[0;34m\u001b[0m\u001b[0;34m\u001b[0m\u001b[0m\n",
      "\u001b[0;31mValueError\u001b[0m: \n    Invalid value of type 'numpy.int64' received for the 'name' property of scatter\n        Received value: 1399\n\n    The 'name' property is a string and must be specified as:\n      - A string\n      - A number that will be converted to a string"
     ]
    }
   ],
   "source": [
    "import plotly.graph_objects as go\n",
    "import plotly.express as px\n",
    "import pandas as pd\n",
    "\n",
    "YEAR = \"YEAR\"\n",
    "\n",
    "data = pd.read_excel(\"data.xlsx\")\n",
    "\n",
    "START_DURATION = 1370\n",
    "END_DURATION = 1399\n",
    "START_YEAR = 1400\n",
    "PREVIOUS_YEAR = sorted(list(data[YEAR].unique()))[-2]\n",
    "\n",
    "graph1 = go.Figure()\n",
    "\n",
    "for st in data[\"stationCode\"].unique():\n",
    "\n",
    "    df = data[data[\"stationCode\"] == st]\n",
    "\n",
    "    df_duration = df[(df[YEAR] >= START_DURATION) & (df[YEAR] <= END_DURATION)]\n",
    "\n",
    "    graph1.add_trace(\n",
    "        go.Box(\n",
    "            x = df_duration.stationName,\n",
    "            y = df_duration.JAM_BARAN,\n",
    "            showlegend=False,\n",
    "            boxmean=True,\n",
    "        )\n",
    "    )\n",
    "\n",
    "\n",
    "graph1.add_trace(\n",
    "    go.Scatter(\n",
    "        x = data.loc[data[YEAR] == PREVIOUS_YEAR, \"stationName\"],\n",
    "        y = data.loc[data[YEAR] == PREVIOUS_YEAR, \"JAM_BARAN\"],\n",
    "        marker = dict(size=12, color=\"blue\"),\n",
    "        mode='markers',\n",
    "        showlegend=True,\n",
    "        name=PREVIOUS_YEAR\n",
    "    )\n",
    ")\n",
    "\n",
    "graph1.add_trace(\n",
    "    go.Scatter(\n",
    "        x = data.loc[data[YEAR] == START_YEAR, \"stationName\"],\n",
    "        y = data.loc[data[YEAR] == START_YEAR, \"JAM_BARAN\"],\n",
    "        marker = dict(size=12, color=\"red\"),\n",
    "        mode='markers',\n",
    "        showlegend=True,\n",
    "        name=START_YEAR,\n",
    "        hovertemplate=\"%{y}<extra></extra>\",\n",
    "    )\n",
    ")\n",
    "\n",
    "\n",
    "\n",
    "graph1.update_layout(\n",
    "    margin={'l': 0, 'r': 0},\n",
    "    xaxis_title=\"\",\n",
    "    yaxis_title=\"بارندگی - میلیمتر\",\n",
    "    autosize=False,\n",
    "    font=dict(\n",
    "        family=\"Tanha-FD\",\n",
    "        size=12,\n",
    "        color=\"RebeccaPurple\"\n",
    "    ),\n",
    "    legend=dict(\n",
    "        orientation=\"h\",\n",
    "        yanchor=\"bottom\",\n",
    "        y=1.005,\n",
    "        xanchor=\"center\",\n",
    "        x=0.500\n",
    "    ),\n",
    "    title=dict(\n",
    "        text='نمودار جعبه‌ای بارندگی',\n",
    "        yanchor=\"top\",\n",
    "        y=0.95,\n",
    "        xanchor=\"center\",\n",
    "        x=0.500\n",
    "    )\n",
    ")\n",
    "\n",
    "\n",
    "graph1.show()"
   ]
  },
  {
   "cell_type": "code",
   "execution_count": 64,
   "metadata": {},
   "outputs": [
    {
     "output_type": "display_data",
     "data": {
      "application/vnd.plotly.v1+json": {
       "config": {
        "plotlyServerURL": "https://plot.ly"
       },
       "data": [
        {
         "name": "1400",
         "showlegend": true,
         "type": "bar",
         "x": [
          "هی هی قوچان",
          "فدک",
          "باغسنگان تربت جام",
          "فریمان",
          "اداره مرکزی مشهد",
          "چناران",
          "سرخس"
         ],
         "y": [
          62.5,
          21.5,
          15.4,
          16.5,
          16.9,
          26,
          10.5
         ]
        },
        {
         "name": "1399",
         "showlegend": true,
         "type": "bar",
         "x": [
          "هی هی قوچان",
          "فدک",
          "باغسنگان تربت جام",
          "فریمان",
          "اداره مرکزی مشهد",
          "چناران",
          "سرخس"
         ],
         "y": [
          175.5,
          163,
          122.1,
          180.5,
          176.4,
          131.5,
          119
         ]
        },
        {
         "hovertemplate": "%{y} : %{x}<extra></extra>",
         "name": "1370 - 1399",
         "showlegend": true,
         "text": [
          69.5,
          48.5,
          47.3,
          37.1,
          74,
          77.7,
          64.9
         ],
         "textposition": "outside",
         "type": "bar",
         "x": [
          "اداره مرکزی مشهد",
          "باغسنگان تربت جام",
          "سرخس",
          "فدک",
          "فریمان",
          "هی هی قوچان",
          "چناران"
         ],
         "y": [
          69.5,
          48.5,
          47.3,
          37.1,
          74,
          77.7,
          64.9
         ]
        }
       ],
       "layout": {
        "autosize": false,
        "font": {
         "color": "RebeccaPurple",
         "family": "Tanha-FD",
         "size": 12
        },
        "legend": {
         "orientation": "h",
         "x": 0.5,
         "xanchor": "center",
         "y": 1.005,
         "yanchor": "bottom"
        },
        "margin": {
         "l": 0,
         "r": 0
        },
        "template": {
         "data": {
          "bar": [
           {
            "error_x": {
             "color": "#2a3f5f"
            },
            "error_y": {
             "color": "#2a3f5f"
            },
            "marker": {
             "line": {
              "color": "#E5ECF6",
              "width": 0.5
             }
            },
            "type": "bar"
           }
          ],
          "barpolar": [
           {
            "marker": {
             "line": {
              "color": "#E5ECF6",
              "width": 0.5
             }
            },
            "type": "barpolar"
           }
          ],
          "carpet": [
           {
            "aaxis": {
             "endlinecolor": "#2a3f5f",
             "gridcolor": "white",
             "linecolor": "white",
             "minorgridcolor": "white",
             "startlinecolor": "#2a3f5f"
            },
            "baxis": {
             "endlinecolor": "#2a3f5f",
             "gridcolor": "white",
             "linecolor": "white",
             "minorgridcolor": "white",
             "startlinecolor": "#2a3f5f"
            },
            "type": "carpet"
           }
          ],
          "choropleth": [
           {
            "colorbar": {
             "outlinewidth": 0,
             "ticks": ""
            },
            "type": "choropleth"
           }
          ],
          "contour": [
           {
            "colorbar": {
             "outlinewidth": 0,
             "ticks": ""
            },
            "colorscale": [
             [
              0,
              "#0d0887"
             ],
             [
              0.1111111111111111,
              "#46039f"
             ],
             [
              0.2222222222222222,
              "#7201a8"
             ],
             [
              0.3333333333333333,
              "#9c179e"
             ],
             [
              0.4444444444444444,
              "#bd3786"
             ],
             [
              0.5555555555555556,
              "#d8576b"
             ],
             [
              0.6666666666666666,
              "#ed7953"
             ],
             [
              0.7777777777777778,
              "#fb9f3a"
             ],
             [
              0.8888888888888888,
              "#fdca26"
             ],
             [
              1,
              "#f0f921"
             ]
            ],
            "type": "contour"
           }
          ],
          "contourcarpet": [
           {
            "colorbar": {
             "outlinewidth": 0,
             "ticks": ""
            },
            "type": "contourcarpet"
           }
          ],
          "heatmap": [
           {
            "colorbar": {
             "outlinewidth": 0,
             "ticks": ""
            },
            "colorscale": [
             [
              0,
              "#0d0887"
             ],
             [
              0.1111111111111111,
              "#46039f"
             ],
             [
              0.2222222222222222,
              "#7201a8"
             ],
             [
              0.3333333333333333,
              "#9c179e"
             ],
             [
              0.4444444444444444,
              "#bd3786"
             ],
             [
              0.5555555555555556,
              "#d8576b"
             ],
             [
              0.6666666666666666,
              "#ed7953"
             ],
             [
              0.7777777777777778,
              "#fb9f3a"
             ],
             [
              0.8888888888888888,
              "#fdca26"
             ],
             [
              1,
              "#f0f921"
             ]
            ],
            "type": "heatmap"
           }
          ],
          "heatmapgl": [
           {
            "colorbar": {
             "outlinewidth": 0,
             "ticks": ""
            },
            "colorscale": [
             [
              0,
              "#0d0887"
             ],
             [
              0.1111111111111111,
              "#46039f"
             ],
             [
              0.2222222222222222,
              "#7201a8"
             ],
             [
              0.3333333333333333,
              "#9c179e"
             ],
             [
              0.4444444444444444,
              "#bd3786"
             ],
             [
              0.5555555555555556,
              "#d8576b"
             ],
             [
              0.6666666666666666,
              "#ed7953"
             ],
             [
              0.7777777777777778,
              "#fb9f3a"
             ],
             [
              0.8888888888888888,
              "#fdca26"
             ],
             [
              1,
              "#f0f921"
             ]
            ],
            "type": "heatmapgl"
           }
          ],
          "histogram": [
           {
            "marker": {
             "colorbar": {
              "outlinewidth": 0,
              "ticks": ""
             }
            },
            "type": "histogram"
           }
          ],
          "histogram2d": [
           {
            "colorbar": {
             "outlinewidth": 0,
             "ticks": ""
            },
            "colorscale": [
             [
              0,
              "#0d0887"
             ],
             [
              0.1111111111111111,
              "#46039f"
             ],
             [
              0.2222222222222222,
              "#7201a8"
             ],
             [
              0.3333333333333333,
              "#9c179e"
             ],
             [
              0.4444444444444444,
              "#bd3786"
             ],
             [
              0.5555555555555556,
              "#d8576b"
             ],
             [
              0.6666666666666666,
              "#ed7953"
             ],
             [
              0.7777777777777778,
              "#fb9f3a"
             ],
             [
              0.8888888888888888,
              "#fdca26"
             ],
             [
              1,
              "#f0f921"
             ]
            ],
            "type": "histogram2d"
           }
          ],
          "histogram2dcontour": [
           {
            "colorbar": {
             "outlinewidth": 0,
             "ticks": ""
            },
            "colorscale": [
             [
              0,
              "#0d0887"
             ],
             [
              0.1111111111111111,
              "#46039f"
             ],
             [
              0.2222222222222222,
              "#7201a8"
             ],
             [
              0.3333333333333333,
              "#9c179e"
             ],
             [
              0.4444444444444444,
              "#bd3786"
             ],
             [
              0.5555555555555556,
              "#d8576b"
             ],
             [
              0.6666666666666666,
              "#ed7953"
             ],
             [
              0.7777777777777778,
              "#fb9f3a"
             ],
             [
              0.8888888888888888,
              "#fdca26"
             ],
             [
              1,
              "#f0f921"
             ]
            ],
            "type": "histogram2dcontour"
           }
          ],
          "mesh3d": [
           {
            "colorbar": {
             "outlinewidth": 0,
             "ticks": ""
            },
            "type": "mesh3d"
           }
          ],
          "parcoords": [
           {
            "line": {
             "colorbar": {
              "outlinewidth": 0,
              "ticks": ""
             }
            },
            "type": "parcoords"
           }
          ],
          "pie": [
           {
            "automargin": true,
            "type": "pie"
           }
          ],
          "scatter": [
           {
            "marker": {
             "colorbar": {
              "outlinewidth": 0,
              "ticks": ""
             }
            },
            "type": "scatter"
           }
          ],
          "scatter3d": [
           {
            "line": {
             "colorbar": {
              "outlinewidth": 0,
              "ticks": ""
             }
            },
            "marker": {
             "colorbar": {
              "outlinewidth": 0,
              "ticks": ""
             }
            },
            "type": "scatter3d"
           }
          ],
          "scattercarpet": [
           {
            "marker": {
             "colorbar": {
              "outlinewidth": 0,
              "ticks": ""
             }
            },
            "type": "scattercarpet"
           }
          ],
          "scattergeo": [
           {
            "marker": {
             "colorbar": {
              "outlinewidth": 0,
              "ticks": ""
             }
            },
            "type": "scattergeo"
           }
          ],
          "scattergl": [
           {
            "marker": {
             "colorbar": {
              "outlinewidth": 0,
              "ticks": ""
             }
            },
            "type": "scattergl"
           }
          ],
          "scattermapbox": [
           {
            "marker": {
             "colorbar": {
              "outlinewidth": 0,
              "ticks": ""
             }
            },
            "type": "scattermapbox"
           }
          ],
          "scatterpolar": [
           {
            "marker": {
             "colorbar": {
              "outlinewidth": 0,
              "ticks": ""
             }
            },
            "type": "scatterpolar"
           }
          ],
          "scatterpolargl": [
           {
            "marker": {
             "colorbar": {
              "outlinewidth": 0,
              "ticks": ""
             }
            },
            "type": "scatterpolargl"
           }
          ],
          "scatterternary": [
           {
            "marker": {
             "colorbar": {
              "outlinewidth": 0,
              "ticks": ""
             }
            },
            "type": "scatterternary"
           }
          ],
          "surface": [
           {
            "colorbar": {
             "outlinewidth": 0,
             "ticks": ""
            },
            "colorscale": [
             [
              0,
              "#0d0887"
             ],
             [
              0.1111111111111111,
              "#46039f"
             ],
             [
              0.2222222222222222,
              "#7201a8"
             ],
             [
              0.3333333333333333,
              "#9c179e"
             ],
             [
              0.4444444444444444,
              "#bd3786"
             ],
             [
              0.5555555555555556,
              "#d8576b"
             ],
             [
              0.6666666666666666,
              "#ed7953"
             ],
             [
              0.7777777777777778,
              "#fb9f3a"
             ],
             [
              0.8888888888888888,
              "#fdca26"
             ],
             [
              1,
              "#f0f921"
             ]
            ],
            "type": "surface"
           }
          ],
          "table": [
           {
            "cells": {
             "fill": {
              "color": "#EBF0F8"
             },
             "line": {
              "color": "white"
             }
            },
            "header": {
             "fill": {
              "color": "#C8D4E3"
             },
             "line": {
              "color": "white"
             }
            },
            "type": "table"
           }
          ]
         },
         "layout": {
          "annotationdefaults": {
           "arrowcolor": "#2a3f5f",
           "arrowhead": 0,
           "arrowwidth": 1
          },
          "autotypenumbers": "strict",
          "coloraxis": {
           "colorbar": {
            "outlinewidth": 0,
            "ticks": ""
           }
          },
          "colorscale": {
           "diverging": [
            [
             0,
             "#8e0152"
            ],
            [
             0.1,
             "#c51b7d"
            ],
            [
             0.2,
             "#de77ae"
            ],
            [
             0.3,
             "#f1b6da"
            ],
            [
             0.4,
             "#fde0ef"
            ],
            [
             0.5,
             "#f7f7f7"
            ],
            [
             0.6,
             "#e6f5d0"
            ],
            [
             0.7,
             "#b8e186"
            ],
            [
             0.8,
             "#7fbc41"
            ],
            [
             0.9,
             "#4d9221"
            ],
            [
             1,
             "#276419"
            ]
           ],
           "sequential": [
            [
             0,
             "#0d0887"
            ],
            [
             0.1111111111111111,
             "#46039f"
            ],
            [
             0.2222222222222222,
             "#7201a8"
            ],
            [
             0.3333333333333333,
             "#9c179e"
            ],
            [
             0.4444444444444444,
             "#bd3786"
            ],
            [
             0.5555555555555556,
             "#d8576b"
            ],
            [
             0.6666666666666666,
             "#ed7953"
            ],
            [
             0.7777777777777778,
             "#fb9f3a"
            ],
            [
             0.8888888888888888,
             "#fdca26"
            ],
            [
             1,
             "#f0f921"
            ]
           ],
           "sequentialminus": [
            [
             0,
             "#0d0887"
            ],
            [
             0.1111111111111111,
             "#46039f"
            ],
            [
             0.2222222222222222,
             "#7201a8"
            ],
            [
             0.3333333333333333,
             "#9c179e"
            ],
            [
             0.4444444444444444,
             "#bd3786"
            ],
            [
             0.5555555555555556,
             "#d8576b"
            ],
            [
             0.6666666666666666,
             "#ed7953"
            ],
            [
             0.7777777777777778,
             "#fb9f3a"
            ],
            [
             0.8888888888888888,
             "#fdca26"
            ],
            [
             1,
             "#f0f921"
            ]
           ]
          },
          "colorway": [
           "#636efa",
           "#EF553B",
           "#00cc96",
           "#ab63fa",
           "#FFA15A",
           "#19d3f3",
           "#FF6692",
           "#B6E880",
           "#FF97FF",
           "#FECB52"
          ],
          "font": {
           "color": "#2a3f5f"
          },
          "geo": {
           "bgcolor": "white",
           "lakecolor": "white",
           "landcolor": "#E5ECF6",
           "showlakes": true,
           "showland": true,
           "subunitcolor": "white"
          },
          "hoverlabel": {
           "align": "left"
          },
          "hovermode": "closest",
          "mapbox": {
           "style": "light"
          },
          "paper_bgcolor": "white",
          "plot_bgcolor": "#E5ECF6",
          "polar": {
           "angularaxis": {
            "gridcolor": "white",
            "linecolor": "white",
            "ticks": ""
           },
           "bgcolor": "#E5ECF6",
           "radialaxis": {
            "gridcolor": "white",
            "linecolor": "white",
            "ticks": ""
           }
          },
          "scene": {
           "xaxis": {
            "backgroundcolor": "#E5ECF6",
            "gridcolor": "white",
            "gridwidth": 2,
            "linecolor": "white",
            "showbackground": true,
            "ticks": "",
            "zerolinecolor": "white"
           },
           "yaxis": {
            "backgroundcolor": "#E5ECF6",
            "gridcolor": "white",
            "gridwidth": 2,
            "linecolor": "white",
            "showbackground": true,
            "ticks": "",
            "zerolinecolor": "white"
           },
           "zaxis": {
            "backgroundcolor": "#E5ECF6",
            "gridcolor": "white",
            "gridwidth": 2,
            "linecolor": "white",
            "showbackground": true,
            "ticks": "",
            "zerolinecolor": "white"
           }
          },
          "shapedefaults": {
           "line": {
            "color": "#2a3f5f"
           }
          },
          "ternary": {
           "aaxis": {
            "gridcolor": "white",
            "linecolor": "white",
            "ticks": ""
           },
           "baxis": {
            "gridcolor": "white",
            "linecolor": "white",
            "ticks": ""
           },
           "bgcolor": "#E5ECF6",
           "caxis": {
            "gridcolor": "white",
            "linecolor": "white",
            "ticks": ""
           }
          },
          "title": {
           "x": 0.05
          },
          "xaxis": {
           "automargin": true,
           "gridcolor": "white",
           "linecolor": "white",
           "ticks": "",
           "title": {
            "standoff": 15
           },
           "zerolinecolor": "white",
           "zerolinewidth": 2
          },
          "yaxis": {
           "automargin": true,
           "gridcolor": "white",
           "linecolor": "white",
           "ticks": "",
           "title": {
            "standoff": 15
           },
           "zerolinecolor": "white",
           "zerolinewidth": 2
          }
         }
        },
        "title": {
         "text": "نمودار جعبه‌ای بارندگی",
         "x": 0.5,
         "xanchor": "center",
         "y": 0.95,
         "yanchor": "top"
        },
        "xaxis": {
         "title": {
          "text": ""
         }
        },
        "yaxis": {
         "title": {
          "text": "بارندگی - میلیمتر"
         }
        }
       }
      },
      "text/html": "<div>                            <div id=\"4d6866ca-a689-4acf-a236-27a5f9c35559\" class=\"plotly-graph-div\" style=\"height:525px; width:100%;\"></div>            <script type=\"text/javascript\">                require([\"plotly\"], function(Plotly) {                    window.PLOTLYENV=window.PLOTLYENV || {};                                    if (document.getElementById(\"4d6866ca-a689-4acf-a236-27a5f9c35559\")) {                    Plotly.newPlot(                        \"4d6866ca-a689-4acf-a236-27a5f9c35559\",                        [{\"name\": \"1400\", \"showlegend\": true, \"type\": \"bar\", \"x\": [\"\\u0647\\u06cc \\u0647\\u06cc \\u0642\\u0648\\u0686\\u0627\\u0646\", \"\\u0641\\u062f\\u06a9\", \"\\u0628\\u0627\\u063a\\u0633\\u0646\\u06af\\u0627\\u0646 \\u062a\\u0631\\u0628\\u062a \\u062c\\u0627\\u0645\", \"\\u0641\\u0631\\u06cc\\u0645\\u0627\\u0646\", \"\\u0627\\u062f\\u0627\\u0631\\u0647 \\u0645\\u0631\\u06a9\\u0632\\u06cc \\u0645\\u0634\\u0647\\u062f\", \"\\u0686\\u0646\\u0627\\u0631\\u0627\\u0646\", \"\\u0633\\u0631\\u062e\\u0633\"], \"y\": [62.5, 21.5, 15.4, 16.5, 16.9, 26.0, 10.5]}, {\"name\": \"1399\", \"showlegend\": true, \"type\": \"bar\", \"x\": [\"\\u0647\\u06cc \\u0647\\u06cc \\u0642\\u0648\\u0686\\u0627\\u0646\", \"\\u0641\\u062f\\u06a9\", \"\\u0628\\u0627\\u063a\\u0633\\u0646\\u06af\\u0627\\u0646 \\u062a\\u0631\\u0628\\u062a \\u062c\\u0627\\u0645\", \"\\u0641\\u0631\\u06cc\\u0645\\u0627\\u0646\", \"\\u0627\\u062f\\u0627\\u0631\\u0647 \\u0645\\u0631\\u06a9\\u0632\\u06cc \\u0645\\u0634\\u0647\\u062f\", \"\\u0686\\u0646\\u0627\\u0631\\u0627\\u0646\", \"\\u0633\\u0631\\u062e\\u0633\"], \"y\": [175.5, 163.0, 122.1, 180.5, 176.4, 131.5, 119.0]}, {\"hovertemplate\": \"%{y} : %{x}<extra></extra>\", \"name\": \"1370 - 1399\", \"showlegend\": true, \"text\": [69.5, 48.5, 47.3, 37.1, 74.0, 77.7, 64.9], \"textposition\": \"outside\", \"type\": \"bar\", \"x\": [\"\\u0627\\u062f\\u0627\\u0631\\u0647 \\u0645\\u0631\\u06a9\\u0632\\u06cc \\u0645\\u0634\\u0647\\u062f\", \"\\u0628\\u0627\\u063a\\u0633\\u0646\\u06af\\u0627\\u0646 \\u062a\\u0631\\u0628\\u062a \\u062c\\u0627\\u0645\", \"\\u0633\\u0631\\u062e\\u0633\", \"\\u0641\\u062f\\u06a9\", \"\\u0641\\u0631\\u06cc\\u0645\\u0627\\u0646\", \"\\u0647\\u06cc \\u0647\\u06cc \\u0642\\u0648\\u0686\\u0627\\u0646\", \"\\u0686\\u0646\\u0627\\u0631\\u0627\\u0646\"], \"y\": [69.5, 48.5, 47.3, 37.1, 74.0, 77.7, 64.9]}],                        {\"autosize\": false, \"font\": {\"color\": \"RebeccaPurple\", \"family\": \"Tanha-FD\", \"size\": 12}, \"legend\": {\"orientation\": \"h\", \"x\": 0.5, \"xanchor\": \"center\", \"y\": 1.005, \"yanchor\": \"bottom\"}, \"margin\": {\"l\": 0, \"r\": 0}, \"template\": {\"data\": {\"bar\": [{\"error_x\": {\"color\": \"#2a3f5f\"}, \"error_y\": {\"color\": \"#2a3f5f\"}, \"marker\": {\"line\": {\"color\": \"#E5ECF6\", \"width\": 0.5}}, \"type\": \"bar\"}], \"barpolar\": [{\"marker\": {\"line\": {\"color\": \"#E5ECF6\", \"width\": 0.5}}, \"type\": \"barpolar\"}], \"carpet\": [{\"aaxis\": {\"endlinecolor\": \"#2a3f5f\", \"gridcolor\": \"white\", \"linecolor\": \"white\", \"minorgridcolor\": \"white\", \"startlinecolor\": \"#2a3f5f\"}, \"baxis\": {\"endlinecolor\": \"#2a3f5f\", \"gridcolor\": \"white\", \"linecolor\": \"white\", \"minorgridcolor\": \"white\", \"startlinecolor\": \"#2a3f5f\"}, \"type\": \"carpet\"}], \"choropleth\": [{\"colorbar\": {\"outlinewidth\": 0, \"ticks\": \"\"}, \"type\": \"choropleth\"}], \"contour\": [{\"colorbar\": {\"outlinewidth\": 0, \"ticks\": \"\"}, \"colorscale\": [[0.0, \"#0d0887\"], [0.1111111111111111, \"#46039f\"], [0.2222222222222222, \"#7201a8\"], [0.3333333333333333, \"#9c179e\"], [0.4444444444444444, \"#bd3786\"], [0.5555555555555556, \"#d8576b\"], [0.6666666666666666, \"#ed7953\"], [0.7777777777777778, \"#fb9f3a\"], [0.8888888888888888, \"#fdca26\"], [1.0, \"#f0f921\"]], \"type\": \"contour\"}], \"contourcarpet\": [{\"colorbar\": {\"outlinewidth\": 0, \"ticks\": \"\"}, \"type\": \"contourcarpet\"}], \"heatmap\": [{\"colorbar\": {\"outlinewidth\": 0, \"ticks\": \"\"}, \"colorscale\": [[0.0, \"#0d0887\"], [0.1111111111111111, \"#46039f\"], [0.2222222222222222, \"#7201a8\"], [0.3333333333333333, \"#9c179e\"], [0.4444444444444444, \"#bd3786\"], [0.5555555555555556, \"#d8576b\"], [0.6666666666666666, \"#ed7953\"], [0.7777777777777778, \"#fb9f3a\"], [0.8888888888888888, \"#fdca26\"], [1.0, \"#f0f921\"]], \"type\": \"heatmap\"}], \"heatmapgl\": [{\"colorbar\": {\"outlinewidth\": 0, \"ticks\": \"\"}, \"colorscale\": [[0.0, \"#0d0887\"], [0.1111111111111111, \"#46039f\"], [0.2222222222222222, \"#7201a8\"], [0.3333333333333333, \"#9c179e\"], [0.4444444444444444, \"#bd3786\"], [0.5555555555555556, \"#d8576b\"], [0.6666666666666666, \"#ed7953\"], [0.7777777777777778, \"#fb9f3a\"], [0.8888888888888888, \"#fdca26\"], [1.0, \"#f0f921\"]], \"type\": \"heatmapgl\"}], \"histogram\": [{\"marker\": {\"colorbar\": {\"outlinewidth\": 0, \"ticks\": \"\"}}, \"type\": \"histogram\"}], \"histogram2d\": [{\"colorbar\": {\"outlinewidth\": 0, \"ticks\": \"\"}, \"colorscale\": [[0.0, \"#0d0887\"], [0.1111111111111111, \"#46039f\"], [0.2222222222222222, \"#7201a8\"], [0.3333333333333333, \"#9c179e\"], [0.4444444444444444, \"#bd3786\"], [0.5555555555555556, \"#d8576b\"], [0.6666666666666666, \"#ed7953\"], [0.7777777777777778, \"#fb9f3a\"], [0.8888888888888888, \"#fdca26\"], [1.0, \"#f0f921\"]], \"type\": \"histogram2d\"}], \"histogram2dcontour\": [{\"colorbar\": {\"outlinewidth\": 0, \"ticks\": \"\"}, \"colorscale\": [[0.0, \"#0d0887\"], [0.1111111111111111, \"#46039f\"], [0.2222222222222222, \"#7201a8\"], [0.3333333333333333, \"#9c179e\"], [0.4444444444444444, \"#bd3786\"], [0.5555555555555556, \"#d8576b\"], [0.6666666666666666, \"#ed7953\"], [0.7777777777777778, \"#fb9f3a\"], [0.8888888888888888, \"#fdca26\"], [1.0, \"#f0f921\"]], \"type\": \"histogram2dcontour\"}], \"mesh3d\": [{\"colorbar\": {\"outlinewidth\": 0, \"ticks\": \"\"}, \"type\": \"mesh3d\"}], \"parcoords\": [{\"line\": {\"colorbar\": {\"outlinewidth\": 0, \"ticks\": \"\"}}, \"type\": \"parcoords\"}], \"pie\": [{\"automargin\": true, \"type\": \"pie\"}], \"scatter\": [{\"marker\": {\"colorbar\": {\"outlinewidth\": 0, \"ticks\": \"\"}}, \"type\": \"scatter\"}], \"scatter3d\": [{\"line\": {\"colorbar\": {\"outlinewidth\": 0, \"ticks\": \"\"}}, \"marker\": {\"colorbar\": {\"outlinewidth\": 0, \"ticks\": \"\"}}, \"type\": \"scatter3d\"}], \"scattercarpet\": [{\"marker\": {\"colorbar\": {\"outlinewidth\": 0, \"ticks\": \"\"}}, \"type\": \"scattercarpet\"}], \"scattergeo\": [{\"marker\": {\"colorbar\": {\"outlinewidth\": 0, \"ticks\": \"\"}}, \"type\": \"scattergeo\"}], \"scattergl\": [{\"marker\": {\"colorbar\": {\"outlinewidth\": 0, \"ticks\": \"\"}}, \"type\": \"scattergl\"}], \"scattermapbox\": [{\"marker\": {\"colorbar\": {\"outlinewidth\": 0, \"ticks\": \"\"}}, \"type\": \"scattermapbox\"}], \"scatterpolar\": [{\"marker\": {\"colorbar\": {\"outlinewidth\": 0, \"ticks\": \"\"}}, \"type\": \"scatterpolar\"}], \"scatterpolargl\": [{\"marker\": {\"colorbar\": {\"outlinewidth\": 0, \"ticks\": \"\"}}, \"type\": \"scatterpolargl\"}], \"scatterternary\": [{\"marker\": {\"colorbar\": {\"outlinewidth\": 0, \"ticks\": \"\"}}, \"type\": \"scatterternary\"}], \"surface\": [{\"colorbar\": {\"outlinewidth\": 0, \"ticks\": \"\"}, \"colorscale\": [[0.0, \"#0d0887\"], [0.1111111111111111, \"#46039f\"], [0.2222222222222222, \"#7201a8\"], [0.3333333333333333, \"#9c179e\"], [0.4444444444444444, \"#bd3786\"], [0.5555555555555556, \"#d8576b\"], [0.6666666666666666, \"#ed7953\"], [0.7777777777777778, \"#fb9f3a\"], [0.8888888888888888, \"#fdca26\"], [1.0, \"#f0f921\"]], \"type\": \"surface\"}], \"table\": [{\"cells\": {\"fill\": {\"color\": \"#EBF0F8\"}, \"line\": {\"color\": \"white\"}}, \"header\": {\"fill\": {\"color\": \"#C8D4E3\"}, \"line\": {\"color\": \"white\"}}, \"type\": \"table\"}]}, \"layout\": {\"annotationdefaults\": {\"arrowcolor\": \"#2a3f5f\", \"arrowhead\": 0, \"arrowwidth\": 1}, \"autotypenumbers\": \"strict\", \"coloraxis\": {\"colorbar\": {\"outlinewidth\": 0, \"ticks\": \"\"}}, \"colorscale\": {\"diverging\": [[0, \"#8e0152\"], [0.1, \"#c51b7d\"], [0.2, \"#de77ae\"], [0.3, \"#f1b6da\"], [0.4, \"#fde0ef\"], [0.5, \"#f7f7f7\"], [0.6, \"#e6f5d0\"], [0.7, \"#b8e186\"], [0.8, \"#7fbc41\"], [0.9, \"#4d9221\"], [1, \"#276419\"]], \"sequential\": [[0.0, \"#0d0887\"], [0.1111111111111111, \"#46039f\"], [0.2222222222222222, \"#7201a8\"], [0.3333333333333333, \"#9c179e\"], [0.4444444444444444, \"#bd3786\"], [0.5555555555555556, \"#d8576b\"], [0.6666666666666666, \"#ed7953\"], [0.7777777777777778, \"#fb9f3a\"], [0.8888888888888888, \"#fdca26\"], [1.0, \"#f0f921\"]], \"sequentialminus\": [[0.0, \"#0d0887\"], [0.1111111111111111, \"#46039f\"], [0.2222222222222222, \"#7201a8\"], [0.3333333333333333, \"#9c179e\"], [0.4444444444444444, \"#bd3786\"], [0.5555555555555556, \"#d8576b\"], [0.6666666666666666, \"#ed7953\"], [0.7777777777777778, \"#fb9f3a\"], [0.8888888888888888, \"#fdca26\"], [1.0, \"#f0f921\"]]}, \"colorway\": [\"#636efa\", \"#EF553B\", \"#00cc96\", \"#ab63fa\", \"#FFA15A\", \"#19d3f3\", \"#FF6692\", \"#B6E880\", \"#FF97FF\", \"#FECB52\"], \"font\": {\"color\": \"#2a3f5f\"}, \"geo\": {\"bgcolor\": \"white\", \"lakecolor\": \"white\", \"landcolor\": \"#E5ECF6\", \"showlakes\": true, \"showland\": true, \"subunitcolor\": \"white\"}, \"hoverlabel\": {\"align\": \"left\"}, \"hovermode\": \"closest\", \"mapbox\": {\"style\": \"light\"}, \"paper_bgcolor\": \"white\", \"plot_bgcolor\": \"#E5ECF6\", \"polar\": {\"angularaxis\": {\"gridcolor\": \"white\", \"linecolor\": \"white\", \"ticks\": \"\"}, \"bgcolor\": \"#E5ECF6\", \"radialaxis\": {\"gridcolor\": \"white\", \"linecolor\": \"white\", \"ticks\": \"\"}}, \"scene\": {\"xaxis\": {\"backgroundcolor\": \"#E5ECF6\", \"gridcolor\": \"white\", \"gridwidth\": 2, \"linecolor\": \"white\", \"showbackground\": true, \"ticks\": \"\", \"zerolinecolor\": \"white\"}, \"yaxis\": {\"backgroundcolor\": \"#E5ECF6\", \"gridcolor\": \"white\", \"gridwidth\": 2, \"linecolor\": \"white\", \"showbackground\": true, \"ticks\": \"\", \"zerolinecolor\": \"white\"}, \"zaxis\": {\"backgroundcolor\": \"#E5ECF6\", \"gridcolor\": \"white\", \"gridwidth\": 2, \"linecolor\": \"white\", \"showbackground\": true, \"ticks\": \"\", \"zerolinecolor\": \"white\"}}, \"shapedefaults\": {\"line\": {\"color\": \"#2a3f5f\"}}, \"ternary\": {\"aaxis\": {\"gridcolor\": \"white\", \"linecolor\": \"white\", \"ticks\": \"\"}, \"baxis\": {\"gridcolor\": \"white\", \"linecolor\": \"white\", \"ticks\": \"\"}, \"bgcolor\": \"#E5ECF6\", \"caxis\": {\"gridcolor\": \"white\", \"linecolor\": \"white\", \"ticks\": \"\"}}, \"title\": {\"x\": 0.05}, \"xaxis\": {\"automargin\": true, \"gridcolor\": \"white\", \"linecolor\": \"white\", \"ticks\": \"\", \"title\": {\"standoff\": 15}, \"zerolinecolor\": \"white\", \"zerolinewidth\": 2}, \"yaxis\": {\"automargin\": true, \"gridcolor\": \"white\", \"linecolor\": \"white\", \"ticks\": \"\", \"title\": {\"standoff\": 15}, \"zerolinecolor\": \"white\", \"zerolinewidth\": 2}}}, \"title\": {\"text\": \"\\u0646\\u0645\\u0648\\u062f\\u0627\\u0631 \\u062c\\u0639\\u0628\\u0647\\u200c\\u0627\\u06cc \\u0628\\u0627\\u0631\\u0646\\u062f\\u06af\\u06cc\", \"x\": 0.5, \"xanchor\": \"center\", \"y\": 0.95, \"yanchor\": \"top\"}, \"xaxis\": {\"title\": {\"text\": \"\"}}, \"yaxis\": {\"title\": {\"text\": \"\\u0628\\u0627\\u0631\\u0646\\u062f\\u06af\\u06cc - \\u0645\\u06cc\\u0644\\u06cc\\u0645\\u062a\\u0631\"}}},                        {\"responsive\": true}                    ).then(function(){\n                            \nvar gd = document.getElementById('4d6866ca-a689-4acf-a236-27a5f9c35559');\nvar x = new MutationObserver(function (mutations, observer) {{\n        var display = window.getComputedStyle(gd).display;\n        if (!display || display === 'none') {{\n            console.log([gd, 'removed!']);\n            Plotly.purge(gd);\n            observer.disconnect();\n        }}\n}});\n\n// Listen for the removal of the full notebook cells\nvar notebookContainer = gd.closest('#notebook-container');\nif (notebookContainer) {{\n    x.observe(notebookContainer, {childList: true});\n}}\n\n// Listen for the clearing of the current output cell\nvar outputEl = gd.closest('.output');\nif (outputEl) {{\n    x.observe(outputEl, {childList: true});\n}}\n\n                        })                };                });            </script>        </div>"
     },
     "metadata": {}
    }
   ],
   "source": [
    "import plotly.graph_objects as go\n",
    "import plotly.express as px\n",
    "import pandas as pd\n",
    "import numpy as np\n",
    "\n",
    "YEAR = \"YEAR\"\n",
    "\n",
    "data = pd.read_excel(\"data.xlsx\")\n",
    "\n",
    "START_DURATION = 1370\n",
    "END_DURATION = 1399\n",
    "START_YEAR = 1400\n",
    "PREVIOUS_YEAR = sorted(list(data[YEAR].unique()))[-2]\n",
    "\n",
    "df_mean_duration = pd.pivot_table(\n",
    "    data[(data[YEAR] >= START_DURATION) & (data[YEAR] <= END_DURATION)],\n",
    "    values=['JAM_BARAN'],\n",
    "    index=[\"stationName\"],\n",
    "    aggfunc=np.mean\n",
    ").reset_index().round(1)\n",
    "\n",
    "graph2 = go.Figure()\n",
    "\n",
    "graph2.add_trace(\n",
    "    go.Bar(\n",
    "        x = data.loc[data[YEAR] == START_YEAR, \"stationName\"],\n",
    "        y = data.loc[data[YEAR] == START_YEAR, \"JAM_BARAN\"],\n",
    "        showlegend=True,\n",
    "        name=str(START_YEAR),\n",
    "        hoverinfo=None\n",
    "    )\n",
    ")\n",
    "\n",
    "graph2.add_trace(\n",
    "    go.Bar(\n",
    "        x = data.loc[data[YEAR] == PREVIOUS_YEAR, \"stationName\"],\n",
    "        y = data.loc[data[YEAR] == PREVIOUS_YEAR, \"JAM_BARAN\"],\n",
    "        showlegend=True,\n",
    "        name=str(PREVIOUS_YEAR),\n",
    "        hoverinfo=None\n",
    "    )\n",
    ")\n",
    "\n",
    "graph2.add_trace(\n",
    "    go.Bar(\n",
    "        x = df_mean_duration.loc[:, \"stationName\"],\n",
    "        y = df_mean_duration.loc[:, \"JAM_BARAN\"],\n",
    "        showlegend=True,\n",
    "        name=f\"{START_DURATION} - {END_DURATION}\",\n",
    "        text=df_mean_duration.loc[:, \"JAM_BARAN\"],\n",
    "        textposition='outside',\n",
    "        hovertemplate=\"%{y} : %{x}<extra></extra>\",\n",
    "    )\n",
    ")\n",
    "\n",
    "\n",
    "\n",
    "graph2.update_layout(\n",
    "    margin={'l': 0, 'r': 0},\n",
    "    xaxis_title=\"\",\n",
    "    yaxis_title=\"بارندگی - میلیمتر\",\n",
    "    autosize=False,\n",
    "    font=dict(\n",
    "        family=\"Tanha-FD\",\n",
    "        size=12,\n",
    "        color=\"RebeccaPurple\"\n",
    "    ),\n",
    "    legend=dict(\n",
    "        orientation=\"h\",\n",
    "        yanchor=\"bottom\",\n",
    "        y=1.005,\n",
    "        xanchor=\"center\",\n",
    "        x=0.500\n",
    "    ),\n",
    "    title=dict(\n",
    "        text='نمودار جعبه‌ای بارندگی',\n",
    "        yanchor=\"top\",\n",
    "        y=0.95,\n",
    "        xanchor=\"center\",\n",
    "        x=0.500\n",
    "    )\n",
    ")\n",
    "\n",
    "\n",
    "graph2.show()"
   ]
  },
  {
   "cell_type": "code",
   "execution_count": 67,
   "metadata": {},
   "outputs": [],
   "source": [
    "import plotly.graph_objects as go\n",
    "\n",
    "data = pd.read_excel(\"data.xlsx\")\n",
    "\n",
    "data[\"occure_precip\"] = [1 if x >= 2 else 0 for x in data[\"JAM_BARAN\"]]"
   ]
  },
  {
   "cell_type": "code",
   "execution_count": 68,
   "metadata": {},
   "outputs": [
    {
     "output_type": "execute_result",
     "data": {
      "text/plain": [
       "           id  stationCode  YEAR  MONTH  DAY  HOURE  MINUTE  SECOND  BARAN  \\\n",
       "0       67087    110161006  1369      7    1     18      30       0    0.0   \n",
       "1       67088    110161006  1369      7    2     18      30       0    0.0   \n",
       "2       67089    110161006  1369      7    3     18      30       0    0.0   \n",
       "3       67090    110161006  1369      7    4     18      30       0    0.0   \n",
       "4       67091    110161006  1369      7    5     18      30       0    0.0   \n",
       "...       ...          ...   ...    ...  ...    ...     ...     ...    ...   \n",
       "28639  145349    110147082  1400      2   17     18      30       0    0.0   \n",
       "28640  145350    110147082  1400      2   18     18      30       0    0.5   \n",
       "28641  145351    110147082  1400      2   19     18      30       0    0.5   \n",
       "28642  145352    110147082  1400      2   20     18      30       0    0.0   \n",
       "28643  145353    110147082  1400      2   21     18      30       0    0.0   \n",
       "\n",
       "       BARF  AB_BARF  JAM_BARAN WATERYEAR  WATERMONTH  WATREDAY  occure_precip  \n",
       "0         0        0        0.0   1369-70           1         1              0  \n",
       "1         0        0        0.0   1369-70           1         2              0  \n",
       "2         0        0        0.0   1369-70           1         3              0  \n",
       "3         0        0        0.0   1369-70           1         4              0  \n",
       "4         0        0        0.0   1369-70           1         5              0  \n",
       "...     ...      ...        ...       ...         ...       ...            ...  \n",
       "28639     0        0        0.0   1399-00           8       227              0  \n",
       "28640     0        0        0.5   1399-00           8       228              0  \n",
       "28641     0        0        0.5   1399-00           8       229              0  \n",
       "28642     0        0        0.0   1399-00           8       230              0  \n",
       "28643     0        0        0.0   1399-00           8       231              0  \n",
       "\n",
       "[28644 rows x 16 columns]"
      ],
      "text/html": "<div>\n<style scoped>\n    .dataframe tbody tr th:only-of-type {\n        vertical-align: middle;\n    }\n\n    .dataframe tbody tr th {\n        vertical-align: top;\n    }\n\n    .dataframe thead th {\n        text-align: right;\n    }\n</style>\n<table border=\"1\" class=\"dataframe\">\n  <thead>\n    <tr style=\"text-align: right;\">\n      <th></th>\n      <th>id</th>\n      <th>stationCode</th>\n      <th>YEAR</th>\n      <th>MONTH</th>\n      <th>DAY</th>\n      <th>HOURE</th>\n      <th>MINUTE</th>\n      <th>SECOND</th>\n      <th>BARAN</th>\n      <th>BARF</th>\n      <th>AB_BARF</th>\n      <th>JAM_BARAN</th>\n      <th>WATERYEAR</th>\n      <th>WATERMONTH</th>\n      <th>WATREDAY</th>\n      <th>occure_precip</th>\n    </tr>\n  </thead>\n  <tbody>\n    <tr>\n      <th>0</th>\n      <td>67087</td>\n      <td>110161006</td>\n      <td>1369</td>\n      <td>7</td>\n      <td>1</td>\n      <td>18</td>\n      <td>30</td>\n      <td>0</td>\n      <td>0.0</td>\n      <td>0</td>\n      <td>0</td>\n      <td>0.0</td>\n      <td>1369-70</td>\n      <td>1</td>\n      <td>1</td>\n      <td>0</td>\n    </tr>\n    <tr>\n      <th>1</th>\n      <td>67088</td>\n      <td>110161006</td>\n      <td>1369</td>\n      <td>7</td>\n      <td>2</td>\n      <td>18</td>\n      <td>30</td>\n      <td>0</td>\n      <td>0.0</td>\n      <td>0</td>\n      <td>0</td>\n      <td>0.0</td>\n      <td>1369-70</td>\n      <td>1</td>\n      <td>2</td>\n      <td>0</td>\n    </tr>\n    <tr>\n      <th>2</th>\n      <td>67089</td>\n      <td>110161006</td>\n      <td>1369</td>\n      <td>7</td>\n      <td>3</td>\n      <td>18</td>\n      <td>30</td>\n      <td>0</td>\n      <td>0.0</td>\n      <td>0</td>\n      <td>0</td>\n      <td>0.0</td>\n      <td>1369-70</td>\n      <td>1</td>\n      <td>3</td>\n      <td>0</td>\n    </tr>\n    <tr>\n      <th>3</th>\n      <td>67090</td>\n      <td>110161006</td>\n      <td>1369</td>\n      <td>7</td>\n      <td>4</td>\n      <td>18</td>\n      <td>30</td>\n      <td>0</td>\n      <td>0.0</td>\n      <td>0</td>\n      <td>0</td>\n      <td>0.0</td>\n      <td>1369-70</td>\n      <td>1</td>\n      <td>4</td>\n      <td>0</td>\n    </tr>\n    <tr>\n      <th>4</th>\n      <td>67091</td>\n      <td>110161006</td>\n      <td>1369</td>\n      <td>7</td>\n      <td>5</td>\n      <td>18</td>\n      <td>30</td>\n      <td>0</td>\n      <td>0.0</td>\n      <td>0</td>\n      <td>0</td>\n      <td>0.0</td>\n      <td>1369-70</td>\n      <td>1</td>\n      <td>5</td>\n      <td>0</td>\n    </tr>\n    <tr>\n      <th>...</th>\n      <td>...</td>\n      <td>...</td>\n      <td>...</td>\n      <td>...</td>\n      <td>...</td>\n      <td>...</td>\n      <td>...</td>\n      <td>...</td>\n      <td>...</td>\n      <td>...</td>\n      <td>...</td>\n      <td>...</td>\n      <td>...</td>\n      <td>...</td>\n      <td>...</td>\n      <td>...</td>\n    </tr>\n    <tr>\n      <th>28639</th>\n      <td>145349</td>\n      <td>110147082</td>\n      <td>1400</td>\n      <td>2</td>\n      <td>17</td>\n      <td>18</td>\n      <td>30</td>\n      <td>0</td>\n      <td>0.0</td>\n      <td>0</td>\n      <td>0</td>\n      <td>0.0</td>\n      <td>1399-00</td>\n      <td>8</td>\n      <td>227</td>\n      <td>0</td>\n    </tr>\n    <tr>\n      <th>28640</th>\n      <td>145350</td>\n      <td>110147082</td>\n      <td>1400</td>\n      <td>2</td>\n      <td>18</td>\n      <td>18</td>\n      <td>30</td>\n      <td>0</td>\n      <td>0.5</td>\n      <td>0</td>\n      <td>0</td>\n      <td>0.5</td>\n      <td>1399-00</td>\n      <td>8</td>\n      <td>228</td>\n      <td>0</td>\n    </tr>\n    <tr>\n      <th>28641</th>\n      <td>145351</td>\n      <td>110147082</td>\n      <td>1400</td>\n      <td>2</td>\n      <td>19</td>\n      <td>18</td>\n      <td>30</td>\n      <td>0</td>\n      <td>0.5</td>\n      <td>0</td>\n      <td>0</td>\n      <td>0.5</td>\n      <td>1399-00</td>\n      <td>8</td>\n      <td>229</td>\n      <td>0</td>\n    </tr>\n    <tr>\n      <th>28642</th>\n      <td>145352</td>\n      <td>110147082</td>\n      <td>1400</td>\n      <td>2</td>\n      <td>20</td>\n      <td>18</td>\n      <td>30</td>\n      <td>0</td>\n      <td>0.0</td>\n      <td>0</td>\n      <td>0</td>\n      <td>0.0</td>\n      <td>1399-00</td>\n      <td>8</td>\n      <td>230</td>\n      <td>0</td>\n    </tr>\n    <tr>\n      <th>28643</th>\n      <td>145353</td>\n      <td>110147082</td>\n      <td>1400</td>\n      <td>2</td>\n      <td>21</td>\n      <td>18</td>\n      <td>30</td>\n      <td>0</td>\n      <td>0.0</td>\n      <td>0</td>\n      <td>0</td>\n      <td>0.0</td>\n      <td>1399-00</td>\n      <td>8</td>\n      <td>231</td>\n      <td>0</td>\n    </tr>\n  </tbody>\n</table>\n<p>28644 rows × 16 columns</p>\n</div>"
     },
     "metadata": {},
     "execution_count": 68
    }
   ],
   "source": [
    "data"
   ]
  },
  {
   "cell_type": "code",
   "execution_count": null,
   "metadata": {},
   "outputs": [],
   "source": []
  }
 ]
}