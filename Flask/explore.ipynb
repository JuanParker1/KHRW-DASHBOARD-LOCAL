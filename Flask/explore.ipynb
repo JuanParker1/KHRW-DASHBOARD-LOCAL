{
 "metadata": {
  "language_info": {
   "codemirror_mode": {
    "name": "ipython",
    "version": 3
   },
   "file_extension": ".py",
   "mimetype": "text/x-python",
   "name": "python",
   "nbconvert_exporter": "python",
   "pygments_lexer": "ipython3",
   "version": "3.9.4"
  },
  "orig_nbformat": 2,
  "kernelspec": {
   "name": "python394jvsc74a57bd0eb1d614377ac1202e1992301045f44684d327dec4ef3fd3ccd326e7e24918a2f",
   "display_name": "Python 3.9.4 64-bit ('.venv': venv)"
  }
 },
 "nbformat": 4,
 "nbformat_minor": 2,
 "cells": [
  {
   "cell_type": "code",
   "execution_count": 1,
   "metadata": {},
   "outputs": [
    {
     "output_type": "execute_result",
     "data": {
      "text/plain": [
       "       stationCode  Year_AB_1  Year_AB_2  Month_AB  Day_AB  BARAN_6  BARF_6  \\\n",
       "0        110161006       1381         82        10       2      0.0     0.0   \n",
       "1        110161006       1381         82        10      28      0.0     0.0   \n",
       "2        110155016       1381         82         1       4      0.0     0.0   \n",
       "3        110155016       1381         82         1      26      7.0     0.0   \n",
       "4        110155016       1381         82         1      29      0.0     0.0   \n",
       "...            ...        ...        ...       ...     ...      ...     ...   \n",
       "17811    110164056       1397         98         3       9      3.0     0.0   \n",
       "17812    110164056       1397         98         3      10      0.0     0.0   \n",
       "17813    110164056       1397         98         3      11      3.0     0.0   \n",
       "17814    110164056       1397         98         3      12      1.0     0.0   \n",
       "17815    110164056       1397         98         4       7      0.0     0.0   \n",
       "\n",
       "       AB_BARF_6  BARAN_18  BARF_18  AB_BARF_18  \n",
       "0           25.0       0.0      0.0         0.0  \n",
       "1            9.0       0.0      0.0         0.0  \n",
       "2            0.0       9.0      0.0         0.0  \n",
       "3            0.0       0.0      0.0         0.0  \n",
       "4            0.0      15.0      0.0         0.0  \n",
       "...          ...       ...      ...         ...  \n",
       "17811        0.0       0.0      0.0         0.0  \n",
       "17812        0.0       3.0      0.0         0.0  \n",
       "17813        0.0       0.0      0.0         0.0  \n",
       "17814        0.0       0.0      0.0         0.0  \n",
       "17815        0.0       4.0      0.0         0.0  \n",
       "\n",
       "[17816 rows x 11 columns]"
      ],
      "text/html": "<div>\n<style scoped>\n    .dataframe tbody tr th:only-of-type {\n        vertical-align: middle;\n    }\n\n    .dataframe tbody tr th {\n        vertical-align: top;\n    }\n\n    .dataframe thead th {\n        text-align: right;\n    }\n</style>\n<table border=\"1\" class=\"dataframe\">\n  <thead>\n    <tr style=\"text-align: right;\">\n      <th></th>\n      <th>stationCode</th>\n      <th>Year_AB_1</th>\n      <th>Year_AB_2</th>\n      <th>Month_AB</th>\n      <th>Day_AB</th>\n      <th>BARAN_6</th>\n      <th>BARF_6</th>\n      <th>AB_BARF_6</th>\n      <th>BARAN_18</th>\n      <th>BARF_18</th>\n      <th>AB_BARF_18</th>\n    </tr>\n  </thead>\n  <tbody>\n    <tr>\n      <th>0</th>\n      <td>110161006</td>\n      <td>1381</td>\n      <td>82</td>\n      <td>10</td>\n      <td>2</td>\n      <td>0.0</td>\n      <td>0.0</td>\n      <td>25.0</td>\n      <td>0.0</td>\n      <td>0.0</td>\n      <td>0.0</td>\n    </tr>\n    <tr>\n      <th>1</th>\n      <td>110161006</td>\n      <td>1381</td>\n      <td>82</td>\n      <td>10</td>\n      <td>28</td>\n      <td>0.0</td>\n      <td>0.0</td>\n      <td>9.0</td>\n      <td>0.0</td>\n      <td>0.0</td>\n      <td>0.0</td>\n    </tr>\n    <tr>\n      <th>2</th>\n      <td>110155016</td>\n      <td>1381</td>\n      <td>82</td>\n      <td>1</td>\n      <td>4</td>\n      <td>0.0</td>\n      <td>0.0</td>\n      <td>0.0</td>\n      <td>9.0</td>\n      <td>0.0</td>\n      <td>0.0</td>\n    </tr>\n    <tr>\n      <th>3</th>\n      <td>110155016</td>\n      <td>1381</td>\n      <td>82</td>\n      <td>1</td>\n      <td>26</td>\n      <td>7.0</td>\n      <td>0.0</td>\n      <td>0.0</td>\n      <td>0.0</td>\n      <td>0.0</td>\n      <td>0.0</td>\n    </tr>\n    <tr>\n      <th>4</th>\n      <td>110155016</td>\n      <td>1381</td>\n      <td>82</td>\n      <td>1</td>\n      <td>29</td>\n      <td>0.0</td>\n      <td>0.0</td>\n      <td>0.0</td>\n      <td>15.0</td>\n      <td>0.0</td>\n      <td>0.0</td>\n    </tr>\n    <tr>\n      <th>...</th>\n      <td>...</td>\n      <td>...</td>\n      <td>...</td>\n      <td>...</td>\n      <td>...</td>\n      <td>...</td>\n      <td>...</td>\n      <td>...</td>\n      <td>...</td>\n      <td>...</td>\n      <td>...</td>\n    </tr>\n    <tr>\n      <th>17811</th>\n      <td>110164056</td>\n      <td>1397</td>\n      <td>98</td>\n      <td>3</td>\n      <td>9</td>\n      <td>3.0</td>\n      <td>0.0</td>\n      <td>0.0</td>\n      <td>0.0</td>\n      <td>0.0</td>\n      <td>0.0</td>\n    </tr>\n    <tr>\n      <th>17812</th>\n      <td>110164056</td>\n      <td>1397</td>\n      <td>98</td>\n      <td>3</td>\n      <td>10</td>\n      <td>0.0</td>\n      <td>0.0</td>\n      <td>0.0</td>\n      <td>3.0</td>\n      <td>0.0</td>\n      <td>0.0</td>\n    </tr>\n    <tr>\n      <th>17813</th>\n      <td>110164056</td>\n      <td>1397</td>\n      <td>98</td>\n      <td>3</td>\n      <td>11</td>\n      <td>3.0</td>\n      <td>0.0</td>\n      <td>0.0</td>\n      <td>0.0</td>\n      <td>0.0</td>\n      <td>0.0</td>\n    </tr>\n    <tr>\n      <th>17814</th>\n      <td>110164056</td>\n      <td>1397</td>\n      <td>98</td>\n      <td>3</td>\n      <td>12</td>\n      <td>1.0</td>\n      <td>0.0</td>\n      <td>0.0</td>\n      <td>0.0</td>\n      <td>0.0</td>\n      <td>0.0</td>\n    </tr>\n    <tr>\n      <th>17815</th>\n      <td>110164056</td>\n      <td>1397</td>\n      <td>98</td>\n      <td>4</td>\n      <td>7</td>\n      <td>0.0</td>\n      <td>0.0</td>\n      <td>0.0</td>\n      <td>4.0</td>\n      <td>0.0</td>\n      <td>0.0</td>\n    </tr>\n  </tbody>\n</table>\n<p>17816 rows × 11 columns</p>\n</div>"
     },
     "metadata": {},
     "execution_count": 1
    }
   ],
   "source": [
    "import pandas as pd\n",
    "\n",
    "data = pd.read_csv(\"/mnt/c/Users/POOYA/Desktop/data.csv\")\n",
    "\n",
    "data"
   ]
  },
  {
   "cell_type": "code",
   "execution_count": 2,
   "metadata": {},
   "outputs": [
    {
     "output_type": "stream",
     "name": "stderr",
     "text": [
      "<ipython-input-2-0a8cc1af3b11>:23: SettingWithCopyWarning: \n",
      "A value is trying to be set on a copy of a slice from a DataFrame.\n",
      "Try using .loc[row_indexer,col_indexer] = value instead\n",
      "\n",
      "See the caveats in the documentation: https://pandas.pydata.org/pandas-docs/stable/user_guide/indexing.html#returning-a-view-versus-a-copy\n",
      "  b6['Houre'] = 6\n",
      "<ipython-input-2-0a8cc1af3b11>:24: SettingWithCopyWarning: \n",
      "A value is trying to be set on a copy of a slice from a DataFrame.\n",
      "Try using .loc[row_indexer,col_indexer] = value instead\n",
      "\n",
      "See the caveats in the documentation: https://pandas.pydata.org/pandas-docs/stable/user_guide/indexing.html#returning-a-view-versus-a-copy\n",
      "  b6['Minute'] = 30\n",
      "<ipython-input-2-0a8cc1af3b11>:39: SettingWithCopyWarning: \n",
      "A value is trying to be set on a copy of a slice from a DataFrame.\n",
      "Try using .loc[row_indexer,col_indexer] = value instead\n",
      "\n",
      "See the caveats in the documentation: https://pandas.pydata.org/pandas-docs/stable/user_guide/indexing.html#returning-a-view-versus-a-copy\n",
      "  b18['Houre'] = 18\n",
      "<ipython-input-2-0a8cc1af3b11>:40: SettingWithCopyWarning: \n",
      "A value is trying to be set on a copy of a slice from a DataFrame.\n",
      "Try using .loc[row_indexer,col_indexer] = value instead\n",
      "\n",
      "See the caveats in the documentation: https://pandas.pydata.org/pandas-docs/stable/user_guide/indexing.html#returning-a-view-versus-a-copy\n",
      "  b18['Minute'] = 30\n"
     ]
    }
   ],
   "source": [
    "\n",
    "def convertAB(Year_AB_1, Year_AB_2, Month_AB, Day_AB, Houre, Minute, Second):\n",
    "    if Month_AB <=6 and Month_AB >=1:\n",
    "        if Year_AB_2 >= 20:\n",
    "            Year = Year_AB_2 + 1300\n",
    "        else:\n",
    "            Year = Year_AB_2 + 1400\n",
    "\n",
    "        Month = Month_AB\n",
    "        Day = Day_AB\n",
    "    elif Month_AB <=12 and Month_AB >=7:\n",
    "        Year = Year_AB_1\n",
    "        Month = Month_AB\n",
    "        Day = Day_AB\n",
    "    else:\n",
    "        Year = None\n",
    "        Month = None\n",
    "        Day = None\n",
    "    return [int(Year), int(Month), int(Day), int(Houre), int(Minute), int(Second)]\n",
    "\n",
    "\n",
    "\n",
    "b6 = data[['stationCode', 'Year_AB_1', 'Year_AB_2', 'Month_AB', 'Day_AB', 'BARAN_6', 'BARF_6', 'AB_BARF_6']]\n",
    "b6['Houre'] = 6\n",
    "b6['Minute'] = 30\n",
    "b6['Second'] = 0\n",
    "b6['JAM_BARAN'] = b6['BARAN_6'] + b6['AB_BARF_6']\n",
    "\n",
    "b6[['Date']] = b6.apply(\n",
    "    lambda row : convertAB(row[\"Year_AB_1\"], row[\"Year_AB_2\"], row[\"Month_AB\"], row[\"Day_AB\"], row[\"Houre\"], row[\"Minute\"], row[\"Second\"]),\n",
    "     axis=1\n",
    "    )\n",
    "\n",
    "b6 = b6[['stationCode', 'Date', 'BARAN_6', 'BARF_6', 'AB_BARF_6', 'JAM_BARAN']]\n",
    "b6.columns = ['stationCode', 'DATE', 'BARAN', 'BARF', 'AB_BARF', 'JAM_BARAN']\n",
    "\n",
    "\n",
    "\n",
    "b18 = data[['stationCode', 'Year_AB_1', 'Year_AB_2', 'Month_AB', 'Day_AB', 'BARAN_18', 'BARF_18', 'AB_BARF_18']]\n",
    "b18['Houre'] = 18\n",
    "b18['Minute'] = 30\n",
    "b18['Second'] = 0\n",
    "b18['JAM_BARAN'] = b18['BARAN_18'] + b18['AB_BARF_18']\n",
    "\n",
    "b18[['Date']] = b18.apply(\n",
    "    lambda row : convertAB(row[\"Year_AB_1\"], row[\"Year_AB_2\"], row[\"Month_AB\"], row[\"Day_AB\"], row[\"Houre\"], row[\"Minute\"], row[\"Second\"]),\n",
    "     axis=1\n",
    "    )\n",
    "\n",
    "b18 = b18[['stationCode', 'Date', 'BARAN_18', 'BARF_18', 'AB_BARF_18', 'JAM_BARAN']]\n",
    "b18.columns = ['stationCode', 'DATE', 'BARAN', 'BARF', 'AB_BARF', 'JAM_BARAN']\n",
    "\n",
    "\n",
    "\n",
    "\n",
    "data = pd.concat([b6, b18])\n",
    "data[['YEAR', 'MONTH', 'DAY', 'HOURE', 'MINUTE', 'SECOND']] = pd.DataFrame(data.DATE.tolist(), index= data.index)\n",
    "data['DATE'] = data['YEAR'].astype(str) + \"-\" + data['MONTH'].astype(str).str.zfill(2) + \"-\" + data['DAY'].astype(str).str.zfill(2) + \" \" + data['HOURE'].astype(str).str.zfill(2) + \":\" + data['MINUTE'].astype(str).str.zfill(2) + \":\" + data['SECOND'].astype(str).str.zfill(2) \n",
    "\n",
    "\n",
    "\n",
    "\n",
    "\n",
    "data = data[['stationCode', 'DATE', 'YEAR', 'MONTH', 'DAY', 'HOURE', 'MINUTE', 'SECOND', 'BARAN', 'BARF', 'AB_BARF', 'JAM_BARAN']]\n",
    "\n",
    "\n",
    "data.sort_values(by=['stationCode', 'YEAR', 'MONTH', 'DAY', 'HOURE', 'MINUTE', 'SECOND'], inplace=True)\n",
    "\n"
   ]
  },
  {
   "cell_type": "code",
   "execution_count": 3,
   "metadata": {},
   "outputs": [
    {
     "output_type": "execute_result",
     "data": {
      "text/plain": [
       "       stationCode                 DATE  YEAR  MONTH  DAY  HOURE  MINUTE  \\\n",
       "10957    110111003  1346-07-02 06:30:00  1346      7    2      6      30   \n",
       "10957    110111003  1346-07-02 18:30:00  1346      7    2     18      30   \n",
       "10974    110111003  1346-07-09 06:30:00  1346      7    9      6      30   \n",
       "10974    110111003  1346-07-09 18:30:00  1346      7    9     18      30   \n",
       "10977    110111003  1346-07-10 06:30:00  1346      7   10      6      30   \n",
       "...            ...                  ...   ...    ...  ...    ...     ...   \n",
       "12499    110168010  1387-03-09 18:30:00  1387      3    9     18      30   \n",
       "12492    110168010  1387-04-02 06:30:00  1387      4    2      6      30   \n",
       "12492    110168010  1387-04-02 18:30:00  1387      4    2     18      30   \n",
       "12497    110168010  1387-04-05 06:30:00  1387      4    5      6      30   \n",
       "12497    110168010  1387-04-05 18:30:00  1387      4    5     18      30   \n",
       "\n",
       "       SECOND  BARAN  BARF  AB_BARF  JAM_BARAN  \n",
       "10957       0    0.0   0.0      0.0        0.0  \n",
       "10957       0    3.0   0.0      0.0        3.0  \n",
       "10974       0    0.0   0.0      0.0        0.0  \n",
       "10974       0    1.0   0.0      0.0        1.0  \n",
       "10977       0    0.0   0.0      0.0        0.0  \n",
       "...       ...    ...   ...      ...        ...  \n",
       "12499       0    2.0   0.0      0.0        2.0  \n",
       "12492       0    0.0   0.0      0.0        0.0  \n",
       "12492       0    2.0   0.0      0.0        2.0  \n",
       "12497       0    0.0   0.0      0.0        0.0  \n",
       "12497       0    0.5   0.0      0.0        0.5  \n",
       "\n",
       "[35632 rows x 12 columns]"
      ],
      "text/html": "<div>\n<style scoped>\n    .dataframe tbody tr th:only-of-type {\n        vertical-align: middle;\n    }\n\n    .dataframe tbody tr th {\n        vertical-align: top;\n    }\n\n    .dataframe thead th {\n        text-align: right;\n    }\n</style>\n<table border=\"1\" class=\"dataframe\">\n  <thead>\n    <tr style=\"text-align: right;\">\n      <th></th>\n      <th>stationCode</th>\n      <th>DATE</th>\n      <th>YEAR</th>\n      <th>MONTH</th>\n      <th>DAY</th>\n      <th>HOURE</th>\n      <th>MINUTE</th>\n      <th>SECOND</th>\n      <th>BARAN</th>\n      <th>BARF</th>\n      <th>AB_BARF</th>\n      <th>JAM_BARAN</th>\n    </tr>\n  </thead>\n  <tbody>\n    <tr>\n      <th>10957</th>\n      <td>110111003</td>\n      <td>1346-07-02 06:30:00</td>\n      <td>1346</td>\n      <td>7</td>\n      <td>2</td>\n      <td>6</td>\n      <td>30</td>\n      <td>0</td>\n      <td>0.0</td>\n      <td>0.0</td>\n      <td>0.0</td>\n      <td>0.0</td>\n    </tr>\n    <tr>\n      <th>10957</th>\n      <td>110111003</td>\n      <td>1346-07-02 18:30:00</td>\n      <td>1346</td>\n      <td>7</td>\n      <td>2</td>\n      <td>18</td>\n      <td>30</td>\n      <td>0</td>\n      <td>3.0</td>\n      <td>0.0</td>\n      <td>0.0</td>\n      <td>3.0</td>\n    </tr>\n    <tr>\n      <th>10974</th>\n      <td>110111003</td>\n      <td>1346-07-09 06:30:00</td>\n      <td>1346</td>\n      <td>7</td>\n      <td>9</td>\n      <td>6</td>\n      <td>30</td>\n      <td>0</td>\n      <td>0.0</td>\n      <td>0.0</td>\n      <td>0.0</td>\n      <td>0.0</td>\n    </tr>\n    <tr>\n      <th>10974</th>\n      <td>110111003</td>\n      <td>1346-07-09 18:30:00</td>\n      <td>1346</td>\n      <td>7</td>\n      <td>9</td>\n      <td>18</td>\n      <td>30</td>\n      <td>0</td>\n      <td>1.0</td>\n      <td>0.0</td>\n      <td>0.0</td>\n      <td>1.0</td>\n    </tr>\n    <tr>\n      <th>10977</th>\n      <td>110111003</td>\n      <td>1346-07-10 06:30:00</td>\n      <td>1346</td>\n      <td>7</td>\n      <td>10</td>\n      <td>6</td>\n      <td>30</td>\n      <td>0</td>\n      <td>0.0</td>\n      <td>0.0</td>\n      <td>0.0</td>\n      <td>0.0</td>\n    </tr>\n    <tr>\n      <th>...</th>\n      <td>...</td>\n      <td>...</td>\n      <td>...</td>\n      <td>...</td>\n      <td>...</td>\n      <td>...</td>\n      <td>...</td>\n      <td>...</td>\n      <td>...</td>\n      <td>...</td>\n      <td>...</td>\n      <td>...</td>\n    </tr>\n    <tr>\n      <th>12499</th>\n      <td>110168010</td>\n      <td>1387-03-09 18:30:00</td>\n      <td>1387</td>\n      <td>3</td>\n      <td>9</td>\n      <td>18</td>\n      <td>30</td>\n      <td>0</td>\n      <td>2.0</td>\n      <td>0.0</td>\n      <td>0.0</td>\n      <td>2.0</td>\n    </tr>\n    <tr>\n      <th>12492</th>\n      <td>110168010</td>\n      <td>1387-04-02 06:30:00</td>\n      <td>1387</td>\n      <td>4</td>\n      <td>2</td>\n      <td>6</td>\n      <td>30</td>\n      <td>0</td>\n      <td>0.0</td>\n      <td>0.0</td>\n      <td>0.0</td>\n      <td>0.0</td>\n    </tr>\n    <tr>\n      <th>12492</th>\n      <td>110168010</td>\n      <td>1387-04-02 18:30:00</td>\n      <td>1387</td>\n      <td>4</td>\n      <td>2</td>\n      <td>18</td>\n      <td>30</td>\n      <td>0</td>\n      <td>2.0</td>\n      <td>0.0</td>\n      <td>0.0</td>\n      <td>2.0</td>\n    </tr>\n    <tr>\n      <th>12497</th>\n      <td>110168010</td>\n      <td>1387-04-05 06:30:00</td>\n      <td>1387</td>\n      <td>4</td>\n      <td>5</td>\n      <td>6</td>\n      <td>30</td>\n      <td>0</td>\n      <td>0.0</td>\n      <td>0.0</td>\n      <td>0.0</td>\n      <td>0.0</td>\n    </tr>\n    <tr>\n      <th>12497</th>\n      <td>110168010</td>\n      <td>1387-04-05 18:30:00</td>\n      <td>1387</td>\n      <td>4</td>\n      <td>5</td>\n      <td>18</td>\n      <td>30</td>\n      <td>0</td>\n      <td>0.5</td>\n      <td>0.0</td>\n      <td>0.0</td>\n      <td>0.5</td>\n    </tr>\n  </tbody>\n</table>\n<p>35632 rows × 12 columns</p>\n</div>"
     },
     "metadata": {},
     "execution_count": 3
    }
   ],
   "source": [
    "data"
   ]
  },
  {
   "cell_type": "code",
   "execution_count": 4,
   "metadata": {},
   "outputs": [],
   "source": [
    "data.to_csv(\"data.csv\", index=False)"
   ]
  },
  {
   "cell_type": "code",
   "execution_count": null,
   "metadata": {},
   "outputs": [],
   "source": []
  },
  {
   "cell_type": "code",
   "execution_count": null,
   "metadata": {},
   "outputs": [],
   "source": []
  },
  {
   "cell_type": "code",
   "execution_count": null,
   "metadata": {},
   "outputs": [],
   "source": []
  },
  {
   "cell_type": "code",
   "execution_count": null,
   "metadata": {},
   "outputs": [],
   "source": []
  },
  {
   "cell_type": "code",
   "execution_count": null,
   "metadata": {},
   "outputs": [],
   "source": []
  },
  {
   "cell_type": "code",
   "execution_count": null,
   "metadata": {},
   "outputs": [],
   "source": [
    "import pandas as pd\n",
    "import sqlite3\n",
    "db_path_precipitation = 'App/dashApp/precipitation/precipitation.sqlite'\n",
    "db_precipitation = sqlite3.connect(db_path_precipitation, check_same_thread=False)\n",
    "\n",
    "\n",
    "\n",
    "\n",
    "\n",
    "date = \"1398/3/1\"\n",
    "time = \"18:30:00\"\n",
    "data = [\n",
    "    {'stationName': 'فریمان', 'baran': 0, 'barf': 0, 'ab_barf': 0}, \n",
    "    {'stationName': 'امور آب سبزوار', 'baran': 0, 'barf': 0, 'ab_barf': 0}, \n",
    "    {'stationName': 'چناران', 'baran': 0, 'barf': 0, 'ab_barf': 0},\n",
    "]"
   ]
  },
  {
   "cell_type": "code",
   "execution_count": null,
   "metadata": {},
   "outputs": [],
   "source": [
    "        exist_precipitation_data = pd.read_sql_query(sql=\"SELECT * FROM precipitation\", con=db_precipitation)\n",
    "        exist_precipitation_data_columns = list(exist_precipitation_data.columns)\n",
    "        exist_precipitation_data['DATE'] = exist_precipitation_data['YEAR'].astype(str) + \"-\" + exist_precipitation_data['MONTH'].astype(str).str.zfill(2) + \"-\" + exist_precipitation_data['DAY'].astype(str).str.zfill(2) + \" \" + exist_precipitation_data['HOURE'].astype(str).str.zfill(2) + \":\" + exist_precipitation_data['MINUTE'].astype(str).str.zfill(2) + \":\" + exist_precipitation_data['SECOND'].astype(str).str.zfill(2)\n",
    "        exist_precipitation_data[\"uniqueCode\"] = exist_precipitation_data[\"stationCode\"].astype(str) + \"-\" + exist_precipitation_data[\"DATE\"]"
   ]
  },
  {
   "cell_type": "code",
   "execution_count": null,
   "metadata": {},
   "outputs": [],
   "source": [
    "exist_station = pd.read_sql_query(sql=\"SELECT * FROM station\", con=db_precipitation)"
   ]
  },
  {
   "cell_type": "code",
   "execution_count": null,
   "metadata": {},
   "outputs": [],
   "source": [
    "exist_station"
   ]
  },
  {
   "cell_type": "code",
   "execution_count": null,
   "metadata": {},
   "outputs": [],
   "source": [
    "df = pd.DataFrame(columns=exist_precipitation_data_columns[1:] + [\"stationName\"])\n",
    "\n",
    "date = date.split(\"/\")\n",
    "time = time.split(\":\")\n",
    "\n",
    "for i in range(len(data)):\n",
    "    df.loc[i,\"stationCode\"] = exist_station[exist_station['stationName'] == data[i][\"stationName\"]].iloc[0,1]\n",
    "    df.loc[i,\"YEAR\"] = date[0]\n",
    "    df.loc[i,\"MONTH\"] = date[1].zfill(2)\n",
    "    df.loc[i,\"DAY\"] = date[2].zfill(2)\n",
    "    df.loc[i,\"HOURE\"] = time[0].zfill(2)\n",
    "    df.loc[i,\"MINUTE\"] = time[1].zfill(2)\n",
    "    df.loc[i,\"SECOND\"] = time[2].zfill(2)\n",
    "    df.loc[i,\"BARAN\"] = data[i][\"baran\"]\n",
    "    df.loc[i,\"BARF\"] = data[i][\"barf\"]\n",
    "    df.loc[i,\"AB_BARF\"] = data[i][\"ab_barf\"]\n",
    "    df.loc[i,\"JAM_BARAN\"] = data[i][\"baran\"] + data[i][\"ab_barf\"]\n",
    "    df.loc[i,\"stationName\"] = data[i][\"stationName\"]\n",
    "\n",
    "df['DATE'] = df['YEAR'].astype(str) + \"-\" + df['MONTH'].astype(str) + \"-\" + df['DAY'].astype(str) + \" \" + df['HOURE'].astype(str) + \":\" + df['MINUTE'].astype(str) + \":\" + df['SECOND'].astype(str)\n",
    "\n",
    "df[\"uniqueCode\"] = df[\"stationCode\"].astype(str) + \"-\" + df[\"DATE\"]\n"
   ]
  },
  {
   "cell_type": "code",
   "execution_count": null,
   "metadata": {},
   "outputs": [],
   "source": [
    "df"
   ]
  },
  {
   "cell_type": "code",
   "execution_count": null,
   "metadata": {},
   "outputs": [],
   "source": [
    "df.loc[df.duplicated(subset=[\"stationName\"]),:][\"stationName\"].unique().tolist()"
   ]
  },
  {
   "cell_type": "code",
   "execution_count": null,
   "metadata": {},
   "outputs": [],
   "source": [
    "df[\"uniqueCode\"].isin(exist_precipitation_data[\"uniqueCode\"]).any()"
   ]
  },
  {
   "cell_type": "code",
   "execution_count": null,
   "metadata": {},
   "outputs": [],
   "source": [
    "df.loc[df[\"uniqueCode\"].isin(exist_precipitation_data[\"uniqueCode\"]), :]"
   ]
  },
  {
   "cell_type": "code",
   "execution_count": null,
   "metadata": {},
   "outputs": [],
   "source": [
    "from collections import Counter\n",
    "a = list((Counter(df[\"uniqueCode\"]) - Counter(exist_precipitation_data[\"uniqueCode\"])).elements())\n",
    "a"
   ]
  },
  {
   "cell_type": "code",
   "execution_count": null,
   "metadata": {},
   "outputs": [],
   "source": [
    "list(set(list(df[\"uniqueCode\"])) - set(a))"
   ]
  },
  {
   "cell_type": "code",
   "execution_count": null,
   "metadata": {},
   "outputs": [],
   "source": [
    "a"
   ]
  },
  {
   "cell_type": "code",
   "execution_count": null,
   "metadata": {},
   "outputs": [],
   "source": [
    "list(df[\"uniqueCode\"])"
   ]
  },
  {
   "cell_type": "code",
   "execution_count": null,
   "metadata": {},
   "outputs": [],
   "source": [
    "df"
   ]
  },
  {
   "cell_type": "code",
   "execution_count": null,
   "metadata": {},
   "outputs": [],
   "source": [
    "df.drop(['uniqueCode', 'DATE', 'stationName'], axis=1)"
   ]
  },
  {
   "cell_type": "code",
   "execution_count": null,
   "metadata": {},
   "outputs": [],
   "source": [
    "exist_precipitation_data"
   ]
  },
  {
   "cell_type": "code",
   "execution_count": null,
   "metadata": {},
   "outputs": [],
   "source": []
  }
 ]
}