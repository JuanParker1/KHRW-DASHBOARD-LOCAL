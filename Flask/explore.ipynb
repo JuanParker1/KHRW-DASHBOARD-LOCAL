{
 "metadata": {
  "language_info": {
   "codemirror_mode": {
    "name": "ipython",
    "version": 3
   },
   "file_extension": ".py",
   "mimetype": "text/x-python",
   "name": "python",
   "nbconvert_exporter": "python",
   "pygments_lexer": "ipython3",
   "version": "3.9.4"
  },
  "orig_nbformat": 2,
  "kernelspec": {
   "name": "python394jvsc74a57bd0eb1d614377ac1202e1992301045f44684d327dec4ef3fd3ccd326e7e24918a2f",
   "display_name": "Python 3.9.4 64-bit ('.venv': venv)"
  }
 },
 "nbformat": 4,
 "nbformat_minor": 2,
 "cells": [
  {
   "cell_type": "code",
   "execution_count": null,
   "metadata": {},
   "outputs": [],
   "source": [
    "import pandas as pd\n",
    "\n",
    "data = pd.read_csv(\"/mnt/c/Users/POOYA/Desktop/data.csv\")\n",
    "\n",
    "data"
   ]
  },
  {
   "cell_type": "code",
   "execution_count": null,
   "metadata": {},
   "outputs": [],
   "source": [
    "\n",
    "def convertAB(Year_AB_1, Year_AB_2, Month_AB, Day_AB, Houre, Minute, Second):\n",
    "    if Month_AB <=6 and Month_AB >=1:\n",
    "        if Year_AB_2 >= 20:\n",
    "            Year = Year_AB_2 + 1300\n",
    "        else:\n",
    "            Year = Year_AB_2 + 1400\n",
    "\n",
    "        Month = Month_AB\n",
    "        Day = Day_AB\n",
    "    elif Month_AB <=12 and Month_AB >=7:\n",
    "        Year = Year_AB_1\n",
    "        Month = Month_AB\n",
    "        Day = Day_AB\n",
    "    else:\n",
    "        Year = None\n",
    "        Month = None\n",
    "        Day = None\n",
    "    return [int(Year), int(Month), int(Day), int(Houre), int(Minute), int(Second)]\n",
    "\n",
    "\n",
    "\n",
    "b6 = data[['stationCode', 'Year_AB_1', 'Year_AB_2', 'Month_AB', 'Day_AB', 'BARAN_6', 'BARF_6', 'AB_BARF_6']]\n",
    "b6['Houre'] = 6\n",
    "b6['Minute'] = 30\n",
    "b6['Second'] = 0\n",
    "b6['JAM_BARAN'] = b6['BARAN_6'] + b6['AB_BARF_6']\n",
    "\n",
    "b6[['Date']] = b6.apply(\n",
    "    lambda row : convertAB(row[\"Year_AB_1\"], row[\"Year_AB_2\"], row[\"Month_AB\"], row[\"Day_AB\"], row[\"Houre\"], row[\"Minute\"], row[\"Second\"]),\n",
    "     axis=1\n",
    "    )\n",
    "\n",
    "b6 = b6[['stationCode', 'Date', 'BARAN_6', 'BARF_6', 'AB_BARF_6', 'JAM_BARAN']]\n",
    "b6.columns = ['stationCode', 'DATE', 'BARAN', 'BARF', 'AB_BARF', 'JAM_BARAN']\n",
    "\n",
    "\n",
    "\n",
    "b18 = data[['stationCode', 'Year_AB_1', 'Year_AB_2', 'Month_AB', 'Day_AB', 'BARAN_18', 'BARF_18', 'AB_BARF_18']]\n",
    "b18['Houre'] = 18\n",
    "b18['Minute'] = 30\n",
    "b18['Second'] = 0\n",
    "b18['JAM_BARAN'] = b18['BARAN_18'] + b18['AB_BARF_18']\n",
    "\n",
    "b18[['Date']] = b18.apply(\n",
    "    lambda row : convertAB(row[\"Year_AB_1\"], row[\"Year_AB_2\"], row[\"Month_AB\"], row[\"Day_AB\"], row[\"Houre\"], row[\"Minute\"], row[\"Second\"]),\n",
    "     axis=1\n",
    "    )\n",
    "\n",
    "b18 = b18[['stationCode', 'Date', 'BARAN_18', 'BARF_18', 'AB_BARF_18', 'JAM_BARAN']]\n",
    "b18.columns = ['stationCode', 'DATE', 'BARAN', 'BARF', 'AB_BARF', 'JAM_BARAN']\n",
    "\n",
    "\n",
    "\n",
    "\n",
    "data = pd.concat([b6, b18])\n",
    "data[['YEAR', 'MONTH', 'DAY', 'HOURE', 'MINUTE', 'SECOND']] = pd.DataFrame(data.DATE.tolist(), index= data.index)\n",
    "data['DATE'] = data['YEAR'].astype(str) + \"-\" + data['MONTH'].astype(str).str.zfill(2) + \"-\" + data['DAY'].astype(str).str.zfill(2) + \" \" + data['HOURE'].astype(str).str.zfill(2) + \":\" + data['MINUTE'].astype(str).str.zfill(2) + \":\" + data['SECOND'].astype(str).str.zfill(2) \n",
    "\n",
    "\n",
    "\n",
    "\n",
    "\n",
    "data = data[['stationCode', 'DATE', 'YEAR', 'MONTH', 'DAY', 'HOURE', 'MINUTE', 'SECOND', 'BARAN', 'BARF', 'AB_BARF', 'JAM_BARAN']]\n",
    "\n",
    "\n",
    "data.sort_values(by=['stationCode', 'YEAR', 'MONTH', 'DAY', 'HOURE', 'MINUTE', 'SECOND'], inplace=True)\n",
    "\n"
   ]
  },
  {
   "cell_type": "code",
   "execution_count": null,
   "metadata": {},
   "outputs": [],
   "source": [
    "data"
   ]
  },
  {
   "cell_type": "code",
   "execution_count": null,
   "metadata": {},
   "outputs": [],
   "source": [
    "data.to_csv(\"data.csv\", index=False)"
   ]
  },
  {
   "cell_type": "code",
   "execution_count": null,
   "metadata": {},
   "outputs": [],
   "source": []
  },
  {
   "cell_type": "code",
   "execution_count": null,
   "metadata": {},
   "outputs": [],
   "source": []
  },
  {
   "cell_type": "code",
   "execution_count": null,
   "metadata": {},
   "outputs": [],
   "source": []
  },
  {
   "cell_type": "code",
   "execution_count": null,
   "metadata": {},
   "outputs": [],
   "source": []
  },
  {
   "cell_type": "code",
   "execution_count": null,
   "metadata": {},
   "outputs": [],
   "source": []
  },
  {
   "cell_type": "code",
   "execution_count": null,
   "metadata": {},
   "outputs": [],
   "source": [
    "import pandas as pd\n",
    "import sqlite3\n",
    "db_path_precipitation = 'App/dashApp/precipitation/precipitation.sqlite'\n",
    "db_precipitation = sqlite3.connect(db_path_precipitation, check_same_thread=False)\n",
    "\n",
    "\n",
    "\n",
    "\n",
    "\n",
    "date = \"1398/3/1\"\n",
    "time = \"18:30:00\"\n",
    "data = [\n",
    "    {'stationName': 'فریمان', 'baran': 0, 'barf': 0, 'ab_barf': 0}, \n",
    "    {'stationName': 'امور آب سبزوار', 'baran': 0, 'barf': 0, 'ab_barf': 0}, \n",
    "    {'stationName': 'چناران', 'baran': 0, 'barf': 0, 'ab_barf': 0},\n",
    "]"
   ]
  },
  {
   "cell_type": "code",
   "execution_count": null,
   "metadata": {},
   "outputs": [],
   "source": [
    "        exist_precipitation_data = pd.read_sql_query(sql=\"SELECT * FROM precipitation\", con=db_precipitation)\n",
    "        exist_precipitation_data_columns = list(exist_precipitation_data.columns)\n",
    "        exist_precipitation_data['DATE'] = exist_precipitation_data['YEAR'].astype(str) + \"-\" + exist_precipitation_data['MONTH'].astype(str).str.zfill(2) + \"-\" + exist_precipitation_data['DAY'].astype(str).str.zfill(2) + \" \" + exist_precipitation_data['HOURE'].astype(str).str.zfill(2) + \":\" + exist_precipitation_data['MINUTE'].astype(str).str.zfill(2) + \":\" + exist_precipitation_data['SECOND'].astype(str).str.zfill(2)\n",
    "        exist_precipitation_data[\"uniqueCode\"] = exist_precipitation_data[\"stationCode\"].astype(str) + \"-\" + exist_precipitation_data[\"DATE\"]"
   ]
  },
  {
   "cell_type": "code",
   "execution_count": null,
   "metadata": {},
   "outputs": [],
   "source": [
    "exist_station = pd.read_sql_query(sql=\"SELECT * FROM station\", con=db_precipitation)"
   ]
  },
  {
   "cell_type": "code",
   "execution_count": null,
   "metadata": {},
   "outputs": [],
   "source": [
    "exist_station"
   ]
  },
  {
   "cell_type": "code",
   "execution_count": null,
   "metadata": {},
   "outputs": [],
   "source": [
    "df = pd.DataFrame(columns=exist_precipitation_data_columns[1:] + [\"stationName\"])\n",
    "\n",
    "date = date.split(\"/\")\n",
    "time = time.split(\":\")\n",
    "\n",
    "for i in range(len(data)):\n",
    "    df.loc[i,\"stationCode\"] = exist_station[exist_station['stationName'] == data[i][\"stationName\"]].iloc[0,1]\n",
    "    df.loc[i,\"YEAR\"] = date[0]\n",
    "    df.loc[i,\"MONTH\"] = date[1].zfill(2)\n",
    "    df.loc[i,\"DAY\"] = date[2].zfill(2)\n",
    "    df.loc[i,\"HOURE\"] = time[0].zfill(2)\n",
    "    df.loc[i,\"MINUTE\"] = time[1].zfill(2)\n",
    "    df.loc[i,\"SECOND\"] = time[2].zfill(2)\n",
    "    df.loc[i,\"BARAN\"] = data[i][\"baran\"]\n",
    "    df.loc[i,\"BARF\"] = data[i][\"barf\"]\n",
    "    df.loc[i,\"AB_BARF\"] = data[i][\"ab_barf\"]\n",
    "    df.loc[i,\"JAM_BARAN\"] = data[i][\"baran\"] + data[i][\"ab_barf\"]\n",
    "    df.loc[i,\"stationName\"] = data[i][\"stationName\"]\n",
    "\n",
    "df['DATE'] = df['YEAR'].astype(str) + \"-\" + df['MONTH'].astype(str) + \"-\" + df['DAY'].astype(str) + \" \" + df['HOURE'].astype(str) + \":\" + df['MINUTE'].astype(str) + \":\" + df['SECOND'].astype(str)\n",
    "\n",
    "df[\"uniqueCode\"] = df[\"stationCode\"].astype(str) + \"-\" + df[\"DATE\"]\n"
   ]
  },
  {
   "cell_type": "code",
   "execution_count": null,
   "metadata": {},
   "outputs": [],
   "source": [
    "df"
   ]
  },
  {
   "cell_type": "code",
   "execution_count": null,
   "metadata": {},
   "outputs": [],
   "source": [
    "df.loc[df.duplicated(subset=[\"stationName\"]),:][\"stationName\"].unique().tolist()"
   ]
  },
  {
   "cell_type": "code",
   "execution_count": null,
   "metadata": {},
   "outputs": [],
   "source": [
    "df[\"uniqueCode\"].isin(exist_precipitation_data[\"uniqueCode\"]).any()"
   ]
  },
  {
   "cell_type": "code",
   "execution_count": null,
   "metadata": {},
   "outputs": [],
   "source": [
    "df.loc[df[\"uniqueCode\"].isin(exist_precipitation_data[\"uniqueCode\"]), :]"
   ]
  },
  {
   "cell_type": "code",
   "execution_count": null,
   "metadata": {},
   "outputs": [],
   "source": [
    "from collections import Counter\n",
    "a = list((Counter(df[\"uniqueCode\"]) - Counter(exist_precipitation_data[\"uniqueCode\"])).elements())\n",
    "a"
   ]
  },
  {
   "cell_type": "code",
   "execution_count": null,
   "metadata": {},
   "outputs": [],
   "source": [
    "list(set(list(df[\"uniqueCode\"])) - set(a))"
   ]
  },
  {
   "cell_type": "code",
   "execution_count": null,
   "metadata": {},
   "outputs": [],
   "source": [
    "a"
   ]
  },
  {
   "cell_type": "code",
   "execution_count": null,
   "metadata": {},
   "outputs": [],
   "source": [
    "list(df[\"uniqueCode\"])"
   ]
  },
  {
   "cell_type": "code",
   "execution_count": null,
   "metadata": {},
   "outputs": [],
   "source": [
    "df"
   ]
  },
  {
   "cell_type": "code",
   "execution_count": null,
   "metadata": {},
   "outputs": [],
   "source": [
    "df.drop(['uniqueCode', 'DATE', 'stationName'], axis=1)"
   ]
  },
  {
   "cell_type": "code",
   "execution_count": null,
   "metadata": {},
   "outputs": [],
   "source": [
    "exist_precipitation_data"
   ]
  },
  {
   "source": [
    "DAILY DATA"
   ],
   "cell_type": "markdown",
   "metadata": {}
  },
  {
   "cell_type": "code",
   "execution_count": 1,
   "metadata": {},
   "outputs": [
    {
     "output_type": "execute_result",
     "data": {
      "text/plain": [
       "       YEAR  MONTH  DAY  HOURE  MINUTE  SECOND  110162006  110162090  \\\n",
       "0      1369      7    1     18      30       0        0.0        0.0   \n",
       "1      1369      7    2     18      30       0        0.0        0.0   \n",
       "2      1369      7    3     18      30       0        0.0        0.0   \n",
       "3      1369      7    4     18      30       0        0.0        0.0   \n",
       "4      1369      7    5     18      30       0        0.0        0.0   \n",
       "...     ...    ...  ...    ...     ...     ...        ...        ...   \n",
       "11176  1400      2   17     18      30       0        0.0        0.0   \n",
       "11177  1400      2   18     18      30       0        0.0        0.0   \n",
       "11178  1400      2   19     18      30       0        0.0        0.0   \n",
       "11179  1400      2   20     18      30       0        0.0        0.0   \n",
       "11180  1400      2   21     18      30       0        0.0        0.0   \n",
       "\n",
       "       110165013  110168010  ...  110164018  110161006  110111003  110147050  \\\n",
       "0            0.0        0.0  ...   0.536667        0.0        0.0        0.0   \n",
       "1            0.0        0.0  ...   0.536667        0.0        0.0        0.0   \n",
       "2            0.0        0.0  ...   0.536667        0.0        0.0        0.0   \n",
       "3            0.0        0.0  ...   0.536667        0.0        0.0        0.0   \n",
       "4            0.0        0.0  ...   0.536667        0.0        0.0        0.0   \n",
       "...          ...        ...  ...        ...        ...        ...        ...   \n",
       "11176        0.0        7.5  ...   2.800000        0.0        5.5        1.5   \n",
       "11177        0.0        4.0  ...   0.000000        0.0        7.5        0.0   \n",
       "11178        0.0        1.0  ...   0.500000        0.0        2.0        0.0   \n",
       "11179        0.0        0.0  ...   0.000000        0.0        0.5        0.0   \n",
       "11180        0.0        0.0  ...   0.000000        0.0        0.0        0.0   \n",
       "\n",
       "       110147060  110147126  110147128  110147082  110147120  110155016  \n",
       "0       0.084101        0.0        0.0        0.0        0.0   0.037085  \n",
       "1       0.084101        0.0        0.0        0.0        0.0   0.037085  \n",
       "2       0.084101        0.0        0.0        0.0        0.0   0.037085  \n",
       "3       0.084101        0.0        0.0        0.0        0.0   0.037085  \n",
       "4       0.084101        0.0        0.0        0.0        0.0   0.037085  \n",
       "...          ...        ...        ...        ...        ...        ...  \n",
       "11176   2.100000        9.5        5.5        0.0        0.0   0.000000  \n",
       "11177   1.100000        1.0        1.5        0.5        0.0   0.000000  \n",
       "11178   0.000000        2.5        0.0        0.5        0.0   0.000000  \n",
       "11179   0.000000        0.0        0.0        0.0        0.0   0.000000  \n",
       "11180   0.000000        0.0        0.0        0.0        0.0   0.000000  \n",
       "\n",
       "[11181 rows x 21 columns]"
      ],
      "text/html": "<div>\n<style scoped>\n    .dataframe tbody tr th:only-of-type {\n        vertical-align: middle;\n    }\n\n    .dataframe tbody tr th {\n        vertical-align: top;\n    }\n\n    .dataframe thead th {\n        text-align: right;\n    }\n</style>\n<table border=\"1\" class=\"dataframe\">\n  <thead>\n    <tr style=\"text-align: right;\">\n      <th></th>\n      <th>YEAR</th>\n      <th>MONTH</th>\n      <th>DAY</th>\n      <th>HOURE</th>\n      <th>MINUTE</th>\n      <th>SECOND</th>\n      <th>110162006</th>\n      <th>110162090</th>\n      <th>110165013</th>\n      <th>110168010</th>\n      <th>...</th>\n      <th>110164018</th>\n      <th>110161006</th>\n      <th>110111003</th>\n      <th>110147050</th>\n      <th>110147060</th>\n      <th>110147126</th>\n      <th>110147128</th>\n      <th>110147082</th>\n      <th>110147120</th>\n      <th>110155016</th>\n    </tr>\n  </thead>\n  <tbody>\n    <tr>\n      <th>0</th>\n      <td>1369</td>\n      <td>7</td>\n      <td>1</td>\n      <td>18</td>\n      <td>30</td>\n      <td>0</td>\n      <td>0.0</td>\n      <td>0.0</td>\n      <td>0.0</td>\n      <td>0.0</td>\n      <td>...</td>\n      <td>0.536667</td>\n      <td>0.0</td>\n      <td>0.0</td>\n      <td>0.0</td>\n      <td>0.084101</td>\n      <td>0.0</td>\n      <td>0.0</td>\n      <td>0.0</td>\n      <td>0.0</td>\n      <td>0.037085</td>\n    </tr>\n    <tr>\n      <th>1</th>\n      <td>1369</td>\n      <td>7</td>\n      <td>2</td>\n      <td>18</td>\n      <td>30</td>\n      <td>0</td>\n      <td>0.0</td>\n      <td>0.0</td>\n      <td>0.0</td>\n      <td>0.0</td>\n      <td>...</td>\n      <td>0.536667</td>\n      <td>0.0</td>\n      <td>0.0</td>\n      <td>0.0</td>\n      <td>0.084101</td>\n      <td>0.0</td>\n      <td>0.0</td>\n      <td>0.0</td>\n      <td>0.0</td>\n      <td>0.037085</td>\n    </tr>\n    <tr>\n      <th>2</th>\n      <td>1369</td>\n      <td>7</td>\n      <td>3</td>\n      <td>18</td>\n      <td>30</td>\n      <td>0</td>\n      <td>0.0</td>\n      <td>0.0</td>\n      <td>0.0</td>\n      <td>0.0</td>\n      <td>...</td>\n      <td>0.536667</td>\n      <td>0.0</td>\n      <td>0.0</td>\n      <td>0.0</td>\n      <td>0.084101</td>\n      <td>0.0</td>\n      <td>0.0</td>\n      <td>0.0</td>\n      <td>0.0</td>\n      <td>0.037085</td>\n    </tr>\n    <tr>\n      <th>3</th>\n      <td>1369</td>\n      <td>7</td>\n      <td>4</td>\n      <td>18</td>\n      <td>30</td>\n      <td>0</td>\n      <td>0.0</td>\n      <td>0.0</td>\n      <td>0.0</td>\n      <td>0.0</td>\n      <td>...</td>\n      <td>0.536667</td>\n      <td>0.0</td>\n      <td>0.0</td>\n      <td>0.0</td>\n      <td>0.084101</td>\n      <td>0.0</td>\n      <td>0.0</td>\n      <td>0.0</td>\n      <td>0.0</td>\n      <td>0.037085</td>\n    </tr>\n    <tr>\n      <th>4</th>\n      <td>1369</td>\n      <td>7</td>\n      <td>5</td>\n      <td>18</td>\n      <td>30</td>\n      <td>0</td>\n      <td>0.0</td>\n      <td>0.0</td>\n      <td>0.0</td>\n      <td>0.0</td>\n      <td>...</td>\n      <td>0.536667</td>\n      <td>0.0</td>\n      <td>0.0</td>\n      <td>0.0</td>\n      <td>0.084101</td>\n      <td>0.0</td>\n      <td>0.0</td>\n      <td>0.0</td>\n      <td>0.0</td>\n      <td>0.037085</td>\n    </tr>\n    <tr>\n      <th>...</th>\n      <td>...</td>\n      <td>...</td>\n      <td>...</td>\n      <td>...</td>\n      <td>...</td>\n      <td>...</td>\n      <td>...</td>\n      <td>...</td>\n      <td>...</td>\n      <td>...</td>\n      <td>...</td>\n      <td>...</td>\n      <td>...</td>\n      <td>...</td>\n      <td>...</td>\n      <td>...</td>\n      <td>...</td>\n      <td>...</td>\n      <td>...</td>\n      <td>...</td>\n      <td>...</td>\n    </tr>\n    <tr>\n      <th>11176</th>\n      <td>1400</td>\n      <td>2</td>\n      <td>17</td>\n      <td>18</td>\n      <td>30</td>\n      <td>0</td>\n      <td>0.0</td>\n      <td>0.0</td>\n      <td>0.0</td>\n      <td>7.5</td>\n      <td>...</td>\n      <td>2.800000</td>\n      <td>0.0</td>\n      <td>5.5</td>\n      <td>1.5</td>\n      <td>2.100000</td>\n      <td>9.5</td>\n      <td>5.5</td>\n      <td>0.0</td>\n      <td>0.0</td>\n      <td>0.000000</td>\n    </tr>\n    <tr>\n      <th>11177</th>\n      <td>1400</td>\n      <td>2</td>\n      <td>18</td>\n      <td>18</td>\n      <td>30</td>\n      <td>0</td>\n      <td>0.0</td>\n      <td>0.0</td>\n      <td>0.0</td>\n      <td>4.0</td>\n      <td>...</td>\n      <td>0.000000</td>\n      <td>0.0</td>\n      <td>7.5</td>\n      <td>0.0</td>\n      <td>1.100000</td>\n      <td>1.0</td>\n      <td>1.5</td>\n      <td>0.5</td>\n      <td>0.0</td>\n      <td>0.000000</td>\n    </tr>\n    <tr>\n      <th>11178</th>\n      <td>1400</td>\n      <td>2</td>\n      <td>19</td>\n      <td>18</td>\n      <td>30</td>\n      <td>0</td>\n      <td>0.0</td>\n      <td>0.0</td>\n      <td>0.0</td>\n      <td>1.0</td>\n      <td>...</td>\n      <td>0.500000</td>\n      <td>0.0</td>\n      <td>2.0</td>\n      <td>0.0</td>\n      <td>0.000000</td>\n      <td>2.5</td>\n      <td>0.0</td>\n      <td>0.5</td>\n      <td>0.0</td>\n      <td>0.000000</td>\n    </tr>\n    <tr>\n      <th>11179</th>\n      <td>1400</td>\n      <td>2</td>\n      <td>20</td>\n      <td>18</td>\n      <td>30</td>\n      <td>0</td>\n      <td>0.0</td>\n      <td>0.0</td>\n      <td>0.0</td>\n      <td>0.0</td>\n      <td>...</td>\n      <td>0.000000</td>\n      <td>0.0</td>\n      <td>0.5</td>\n      <td>0.0</td>\n      <td>0.000000</td>\n      <td>0.0</td>\n      <td>0.0</td>\n      <td>0.0</td>\n      <td>0.0</td>\n      <td>0.000000</td>\n    </tr>\n    <tr>\n      <th>11180</th>\n      <td>1400</td>\n      <td>2</td>\n      <td>21</td>\n      <td>18</td>\n      <td>30</td>\n      <td>0</td>\n      <td>0.0</td>\n      <td>0.0</td>\n      <td>0.0</td>\n      <td>0.0</td>\n      <td>...</td>\n      <td>0.000000</td>\n      <td>0.0</td>\n      <td>0.0</td>\n      <td>0.0</td>\n      <td>0.000000</td>\n      <td>0.0</td>\n      <td>0.0</td>\n      <td>0.0</td>\n      <td>0.0</td>\n      <td>0.000000</td>\n    </tr>\n  </tbody>\n</table>\n<p>11181 rows × 21 columns</p>\n</div>"
     },
     "metadata": {},
     "execution_count": 1
    }
   ],
   "source": [
    "import pandas as pd\n",
    "\n",
    "data = pd.read_csv(\"data1.csv\")\n",
    "\n",
    "persian_month = {\n",
    "    'فروردین': 1,\n",
    "    'اردیبهشت': 2,\n",
    "    'خرداد': 3,\n",
    "    'تیر': 4,\n",
    "    'مرداد': 5,\n",
    "    'شهریور': 6,\n",
    "    'مهر': 7,\n",
    "    'آبان': 8,\n",
    "    'آذر': 9,\n",
    "    'دی': 10,\n",
    "    'بهمن': 11,\n",
    "    'اسفند': 12,\n",
    "}\n",
    "\n",
    "data[\"MONTH\"] = data[\"MONTH\"].map(persian_month)\n",
    "\n",
    "data"
   ]
  },
  {
   "cell_type": "code",
   "execution_count": 2,
   "metadata": {},
   "outputs": [],
   "source": [
    "data = pd.melt(data, id_vars=[\"YEAR\", \"MONTH\", \"DAY\", \"HOURE\", \"MINUTE\", \"SECOND\"], var_name=\"stationCode\", value_name=\"JAM_BARAN\")\n",
    "data['stationCode'] = data['stationCode'].astype(int)\n",
    "data[\"BARAN\"] = data[\"JAM_BARAN\"]\n",
    "data[\"BARF\"] = 0.0\n",
    "data[\"AB_BARF\"] = 0.0\n",
    "data = data[[\"stationCode\", \"YEAR\", \"MONTH\", \"DAY\", \"HOURE\", \"MINUTE\", \"SECOND\", \"BARAN\", \"BARF\", \"AB_BARF\", \"JAM_BARAN\"]]\n",
    "data\n",
    "\n",
    "data.to_csv('data.csv', index=False)"
   ]
  },
  {
   "cell_type": "code",
   "execution_count": null,
   "metadata": {},
   "outputs": [],
   "source": []
  }
 ]
}