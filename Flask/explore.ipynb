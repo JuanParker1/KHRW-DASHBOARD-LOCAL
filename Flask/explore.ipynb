{
 "metadata": {
  "language_info": {
   "codemirror_mode": {
    "name": "ipython",
    "version": 3
   },
   "file_extension": ".py",
   "mimetype": "text/x-python",
   "name": "python",
   "nbconvert_exporter": "python",
   "pygments_lexer": "ipython3",
   "version": "3.9.4"
  },
  "orig_nbformat": 2,
  "kernelspec": {
   "name": "python394jvsc74a57bd0eb1d614377ac1202e1992301045f44684d327dec4ef3fd3ccd326e7e24918a2f",
   "display_name": "Python 3.9.4 64-bit ('.venv': venv)"
  }
 },
 "nbformat": 4,
 "nbformat_minor": 2,
 "cells": [
  {
   "cell_type": "code",
   "execution_count": 5,
   "metadata": {},
   "outputs": [
    {
     "output_type": "execute_result",
     "data": {
      "text/plain": [
       "      stationCode  Year_AB_1  Year_AB_2  Month_AB  Day_AB  BARAN_6  BARF_6  \\\n",
       "0       110162090       1381         82         1      29      0.0      14   \n",
       "1       110162090       1381         82         2       2      0.0       0   \n",
       "2       110162090       1381         82         2      19      0.0       0   \n",
       "3       110162090       1381         82         2      28      0.0       0   \n",
       "4       110162090       1381         82         3       2      0.0       0   \n",
       "...           ...        ...        ...       ...     ...      ...     ...   \n",
       "3522    110164056       1397         98         3       9      3.0       0   \n",
       "3523    110164056       1397         98         3      10      0.0       0   \n",
       "3524    110164056       1397         98         3      11      3.0       0   \n",
       "3525    110164056       1397         98         3      12      1.0       0   \n",
       "3526    110164056       1397         98         4       7      0.0       0   \n",
       "\n",
       "      AB_BARF_6  BARAN_18  BARF_18  AB_BARF_18  \n",
       "0           0.0       0.0      0.0        16.5  \n",
       "1           0.0       5.0      0.0         0.0  \n",
       "2           0.0       1.5      0.0         0.0  \n",
       "3           0.0       2.0      0.0         0.0  \n",
       "4           0.0       4.0      0.0         0.0  \n",
       "...         ...       ...      ...         ...  \n",
       "3522        0.0       0.0      0.0         0.0  \n",
       "3523        0.0       3.0      0.0         0.0  \n",
       "3524        0.0       0.0      0.0         0.0  \n",
       "3525        0.0       0.0      0.0         0.0  \n",
       "3526        0.0       4.0      0.0         0.0  \n",
       "\n",
       "[3527 rows x 11 columns]"
      ],
      "text/html": "<div>\n<style scoped>\n    .dataframe tbody tr th:only-of-type {\n        vertical-align: middle;\n    }\n\n    .dataframe tbody tr th {\n        vertical-align: top;\n    }\n\n    .dataframe thead th {\n        text-align: right;\n    }\n</style>\n<table border=\"1\" class=\"dataframe\">\n  <thead>\n    <tr style=\"text-align: right;\">\n      <th></th>\n      <th>stationCode</th>\n      <th>Year_AB_1</th>\n      <th>Year_AB_2</th>\n      <th>Month_AB</th>\n      <th>Day_AB</th>\n      <th>BARAN_6</th>\n      <th>BARF_6</th>\n      <th>AB_BARF_6</th>\n      <th>BARAN_18</th>\n      <th>BARF_18</th>\n      <th>AB_BARF_18</th>\n    </tr>\n  </thead>\n  <tbody>\n    <tr>\n      <th>0</th>\n      <td>110162090</td>\n      <td>1381</td>\n      <td>82</td>\n      <td>1</td>\n      <td>29</td>\n      <td>0.0</td>\n      <td>14</td>\n      <td>0.0</td>\n      <td>0.0</td>\n      <td>0.0</td>\n      <td>16.5</td>\n    </tr>\n    <tr>\n      <th>1</th>\n      <td>110162090</td>\n      <td>1381</td>\n      <td>82</td>\n      <td>2</td>\n      <td>2</td>\n      <td>0.0</td>\n      <td>0</td>\n      <td>0.0</td>\n      <td>5.0</td>\n      <td>0.0</td>\n      <td>0.0</td>\n    </tr>\n    <tr>\n      <th>2</th>\n      <td>110162090</td>\n      <td>1381</td>\n      <td>82</td>\n      <td>2</td>\n      <td>19</td>\n      <td>0.0</td>\n      <td>0</td>\n      <td>0.0</td>\n      <td>1.5</td>\n      <td>0.0</td>\n      <td>0.0</td>\n    </tr>\n    <tr>\n      <th>3</th>\n      <td>110162090</td>\n      <td>1381</td>\n      <td>82</td>\n      <td>2</td>\n      <td>28</td>\n      <td>0.0</td>\n      <td>0</td>\n      <td>0.0</td>\n      <td>2.0</td>\n      <td>0.0</td>\n      <td>0.0</td>\n    </tr>\n    <tr>\n      <th>4</th>\n      <td>110162090</td>\n      <td>1381</td>\n      <td>82</td>\n      <td>3</td>\n      <td>2</td>\n      <td>0.0</td>\n      <td>0</td>\n      <td>0.0</td>\n      <td>4.0</td>\n      <td>0.0</td>\n      <td>0.0</td>\n    </tr>\n    <tr>\n      <th>...</th>\n      <td>...</td>\n      <td>...</td>\n      <td>...</td>\n      <td>...</td>\n      <td>...</td>\n      <td>...</td>\n      <td>...</td>\n      <td>...</td>\n      <td>...</td>\n      <td>...</td>\n      <td>...</td>\n    </tr>\n    <tr>\n      <th>3522</th>\n      <td>110164056</td>\n      <td>1397</td>\n      <td>98</td>\n      <td>3</td>\n      <td>9</td>\n      <td>3.0</td>\n      <td>0</td>\n      <td>0.0</td>\n      <td>0.0</td>\n      <td>0.0</td>\n      <td>0.0</td>\n    </tr>\n    <tr>\n      <th>3523</th>\n      <td>110164056</td>\n      <td>1397</td>\n      <td>98</td>\n      <td>3</td>\n      <td>10</td>\n      <td>0.0</td>\n      <td>0</td>\n      <td>0.0</td>\n      <td>3.0</td>\n      <td>0.0</td>\n      <td>0.0</td>\n    </tr>\n    <tr>\n      <th>3524</th>\n      <td>110164056</td>\n      <td>1397</td>\n      <td>98</td>\n      <td>3</td>\n      <td>11</td>\n      <td>3.0</td>\n      <td>0</td>\n      <td>0.0</td>\n      <td>0.0</td>\n      <td>0.0</td>\n      <td>0.0</td>\n    </tr>\n    <tr>\n      <th>3525</th>\n      <td>110164056</td>\n      <td>1397</td>\n      <td>98</td>\n      <td>3</td>\n      <td>12</td>\n      <td>1.0</td>\n      <td>0</td>\n      <td>0.0</td>\n      <td>0.0</td>\n      <td>0.0</td>\n      <td>0.0</td>\n    </tr>\n    <tr>\n      <th>3526</th>\n      <td>110164056</td>\n      <td>1397</td>\n      <td>98</td>\n      <td>4</td>\n      <td>7</td>\n      <td>0.0</td>\n      <td>0</td>\n      <td>0.0</td>\n      <td>4.0</td>\n      <td>0.0</td>\n      <td>0.0</td>\n    </tr>\n  </tbody>\n</table>\n<p>3527 rows × 11 columns</p>\n</div>"
     },
     "metadata": {},
     "execution_count": 5
    }
   ],
   "source": [
    "import pandas as pd\n",
    "\n",
    "data = pd.read_csv(\"/mnt/c/Users/POOYA/Desktop/data.csv\")\n",
    "\n",
    "data"
   ]
  },
  {
   "cell_type": "code",
   "execution_count": 6,
   "metadata": {},
   "outputs": [
    {
     "output_type": "stream",
     "name": "stderr",
     "text": [
      "<ipython-input-6-c0a81134442f>:19: SettingWithCopyWarning: \n",
      "A value is trying to be set on a copy of a slice from a DataFrame.\n",
      "Try using .loc[row_indexer,col_indexer] = value instead\n",
      "\n",
      "See the caveats in the documentation: https://pandas.pydata.org/pandas-docs/stable/user_guide/indexing.html#returning-a-view-versus-a-copy\n",
      "  b6['Houre'] = 6\n",
      "<ipython-input-6-c0a81134442f>:20: SettingWithCopyWarning: \n",
      "A value is trying to be set on a copy of a slice from a DataFrame.\n",
      "Try using .loc[row_indexer,col_indexer] = value instead\n",
      "\n",
      "See the caveats in the documentation: https://pandas.pydata.org/pandas-docs/stable/user_guide/indexing.html#returning-a-view-versus-a-copy\n",
      "  b6['Minute'] = 30\n",
      "<ipython-input-6-c0a81134442f>:35: SettingWithCopyWarning: \n",
      "A value is trying to be set on a copy of a slice from a DataFrame.\n",
      "Try using .loc[row_indexer,col_indexer] = value instead\n",
      "\n",
      "See the caveats in the documentation: https://pandas.pydata.org/pandas-docs/stable/user_guide/indexing.html#returning-a-view-versus-a-copy\n",
      "  b18['Houre'] = 18\n",
      "<ipython-input-6-c0a81134442f>:36: SettingWithCopyWarning: \n",
      "A value is trying to be set on a copy of a slice from a DataFrame.\n",
      "Try using .loc[row_indexer,col_indexer] = value instead\n",
      "\n",
      "See the caveats in the documentation: https://pandas.pydata.org/pandas-docs/stable/user_guide/indexing.html#returning-a-view-versus-a-copy\n",
      "  b18['Minute'] = 30\n"
     ]
    }
   ],
   "source": [
    "\n",
    "def convertAB(Year_AB_1, Year_AB_2, Month_AB, Day_AB, Houre, Minute, Second):\n",
    "    if Month_AB <=6 and Month_AB >=1:\n",
    "        Year = Year_AB_2 + 1300\n",
    "        Month = Month_AB\n",
    "        Day = Day_AB\n",
    "    elif Month_AB <=12 and Month_AB >=7:\n",
    "        Year = Year_AB_1\n",
    "        Month = Month_AB\n",
    "        Day = Day_AB\n",
    "    else:\n",
    "        Year = None\n",
    "        Month = None\n",
    "        Day = None\n",
    "    return [int(Year), int(Month), int(Day), int(Houre), int(Minute), int(Second)]\n",
    "\n",
    "\n",
    "\n",
    "b6 = data[['stationCode', 'Year_AB_1', 'Year_AB_2', 'Month_AB', 'Day_AB', 'BARAN_6', 'BARF_6', 'AB_BARF_6']]\n",
    "b6['Houre'] = 6\n",
    "b6['Minute'] = 30\n",
    "b6['Second'] = 0\n",
    "b6['JAM_BARAN'] = b6['BARAN_6'] + b6['AB_BARF_6']\n",
    "\n",
    "b6[['Date']] = b6.apply(\n",
    "    lambda row : convertAB(row[\"Year_AB_1\"], row[\"Year_AB_2\"], row[\"Month_AB\"], row[\"Day_AB\"], row[\"Houre\"], row[\"Minute\"], row[\"Second\"]),\n",
    "     axis=1\n",
    "    )\n",
    "\n",
    "b6 = b6[['stationCode', 'Date', 'BARAN_6', 'BARF_6', 'AB_BARF_6', 'JAM_BARAN']]\n",
    "b6.columns = ['stationCode', 'DATE', 'BARAN', 'BARF', 'AB_BARF', 'JAM_BARAN']\n",
    "\n",
    "\n",
    "\n",
    "b18 = data[['stationCode', 'Year_AB_1', 'Year_AB_2', 'Month_AB', 'Day_AB', 'BARAN_18', 'BARF_18', 'AB_BARF_18']]\n",
    "b18['Houre'] = 18\n",
    "b18['Minute'] = 30\n",
    "b18['Second'] = 0\n",
    "b18['JAM_BARAN'] = b18['BARAN_18'] + b18['AB_BARF_18']\n",
    "\n",
    "b18[['Date']] = b18.apply(\n",
    "    lambda row : convertAB(row[\"Year_AB_1\"], row[\"Year_AB_2\"], row[\"Month_AB\"], row[\"Day_AB\"], row[\"Houre\"], row[\"Minute\"], row[\"Second\"]),\n",
    "     axis=1\n",
    "    )\n",
    "\n",
    "b18 = b18[['stationCode', 'Date', 'BARAN_18', 'BARF_18', 'AB_BARF_18', 'JAM_BARAN']]\n",
    "b18.columns = ['stationCode', 'DATE', 'BARAN', 'BARF', 'AB_BARF', 'JAM_BARAN']\n",
    "\n",
    "\n",
    "\n",
    "\n",
    "data = pd.concat([b6, b18])\n",
    "data[['YEAR', 'MONTH', 'DAY', 'HOURE', 'MINUTE', 'SECOND']] = pd.DataFrame(data.DATE.tolist(), index= data.index)\n",
    "data['DATE'] = data['YEAR'].astype(str) + \"-\" + data['MONTH'].astype(str).str.zfill(2) + \"-\" + data['DAY'].astype(str).str.zfill(2) + \" \" + data['HOURE'].astype(str).str.zfill(2) + \":\" + data['MINUTE'].astype(str).str.zfill(2) + \":\" + data['SECOND'].astype(str).str.zfill(2) \n",
    "\n",
    "\n",
    "\n",
    "\n",
    "\n",
    "data = data[['stationCode', 'DATE', 'YEAR', 'MONTH', 'DAY', 'HOURE', 'MINUTE', 'SECOND', 'BARAN', 'BARF', 'AB_BARF', 'JAM_BARAN']]\n",
    "\n",
    "\n",
    "data.sort_values(by=['stationCode', 'YEAR', 'MONTH', 'DAY', 'HOURE', 'MINUTE', 'SECOND'], inplace=True)\n",
    "\n"
   ]
  },
  {
   "cell_type": "code",
   "execution_count": 7,
   "metadata": {},
   "outputs": [
    {
     "output_type": "execute_result",
     "data": {
      "text/plain": [
       "      stationCode                 DATE  YEAR  MONTH  DAY  HOURE  MINUTE  \\\n",
       "1975    110147060  1360-09-10 06:30:00  1360      9   10      6      30   \n",
       "1975    110147060  1360-09-10 18:30:00  1360      9   10     18      30   \n",
       "1976    110147060  1360-10-10 06:30:00  1360     10   10      6      30   \n",
       "1976    110147060  1360-10-10 18:30:00  1360     10   10     18      30   \n",
       "1977    110147060  1360-11-17 06:30:00  1360     11   17      6      30   \n",
       "...           ...                  ...   ...    ...  ...    ...     ...   \n",
       "3524    110164056  1398-03-11 18:30:00  1398      3   11     18      30   \n",
       "3525    110164056  1398-03-12 06:30:00  1398      3   12      6      30   \n",
       "3525    110164056  1398-03-12 18:30:00  1398      3   12     18      30   \n",
       "3526    110164056  1398-04-07 06:30:00  1398      4    7      6      30   \n",
       "3526    110164056  1398-04-07 18:30:00  1398      4    7     18      30   \n",
       "\n",
       "      SECOND  BARAN  BARF  AB_BARF  JAM_BARAN  \n",
       "1975       0    0.0   0.0      0.0        0.0  \n",
       "1975       0   99.9   0.0      0.0       99.9  \n",
       "1976       0    0.0   0.0      0.0        0.0  \n",
       "1976       0    0.9   0.0      0.0        0.9  \n",
       "1977       0    0.0   0.0      0.0        0.0  \n",
       "...      ...    ...   ...      ...        ...  \n",
       "3524       0    0.0   0.0      0.0        0.0  \n",
       "3525       0    1.0   0.0      0.0        1.0  \n",
       "3525       0    0.0   0.0      0.0        0.0  \n",
       "3526       0    0.0   0.0      0.0        0.0  \n",
       "3526       0    4.0   0.0      0.0        4.0  \n",
       "\n",
       "[7054 rows x 12 columns]"
      ],
      "text/html": "<div>\n<style scoped>\n    .dataframe tbody tr th:only-of-type {\n        vertical-align: middle;\n    }\n\n    .dataframe tbody tr th {\n        vertical-align: top;\n    }\n\n    .dataframe thead th {\n        text-align: right;\n    }\n</style>\n<table border=\"1\" class=\"dataframe\">\n  <thead>\n    <tr style=\"text-align: right;\">\n      <th></th>\n      <th>stationCode</th>\n      <th>DATE</th>\n      <th>YEAR</th>\n      <th>MONTH</th>\n      <th>DAY</th>\n      <th>HOURE</th>\n      <th>MINUTE</th>\n      <th>SECOND</th>\n      <th>BARAN</th>\n      <th>BARF</th>\n      <th>AB_BARF</th>\n      <th>JAM_BARAN</th>\n    </tr>\n  </thead>\n  <tbody>\n    <tr>\n      <th>1975</th>\n      <td>110147060</td>\n      <td>1360-09-10 06:30:00</td>\n      <td>1360</td>\n      <td>9</td>\n      <td>10</td>\n      <td>6</td>\n      <td>30</td>\n      <td>0</td>\n      <td>0.0</td>\n      <td>0.0</td>\n      <td>0.0</td>\n      <td>0.0</td>\n    </tr>\n    <tr>\n      <th>1975</th>\n      <td>110147060</td>\n      <td>1360-09-10 18:30:00</td>\n      <td>1360</td>\n      <td>9</td>\n      <td>10</td>\n      <td>18</td>\n      <td>30</td>\n      <td>0</td>\n      <td>99.9</td>\n      <td>0.0</td>\n      <td>0.0</td>\n      <td>99.9</td>\n    </tr>\n    <tr>\n      <th>1976</th>\n      <td>110147060</td>\n      <td>1360-10-10 06:30:00</td>\n      <td>1360</td>\n      <td>10</td>\n      <td>10</td>\n      <td>6</td>\n      <td>30</td>\n      <td>0</td>\n      <td>0.0</td>\n      <td>0.0</td>\n      <td>0.0</td>\n      <td>0.0</td>\n    </tr>\n    <tr>\n      <th>1976</th>\n      <td>110147060</td>\n      <td>1360-10-10 18:30:00</td>\n      <td>1360</td>\n      <td>10</td>\n      <td>10</td>\n      <td>18</td>\n      <td>30</td>\n      <td>0</td>\n      <td>0.9</td>\n      <td>0.0</td>\n      <td>0.0</td>\n      <td>0.9</td>\n    </tr>\n    <tr>\n      <th>1977</th>\n      <td>110147060</td>\n      <td>1360-11-17 06:30:00</td>\n      <td>1360</td>\n      <td>11</td>\n      <td>17</td>\n      <td>6</td>\n      <td>30</td>\n      <td>0</td>\n      <td>0.0</td>\n      <td>0.0</td>\n      <td>0.0</td>\n      <td>0.0</td>\n    </tr>\n    <tr>\n      <th>...</th>\n      <td>...</td>\n      <td>...</td>\n      <td>...</td>\n      <td>...</td>\n      <td>...</td>\n      <td>...</td>\n      <td>...</td>\n      <td>...</td>\n      <td>...</td>\n      <td>...</td>\n      <td>...</td>\n      <td>...</td>\n    </tr>\n    <tr>\n      <th>3524</th>\n      <td>110164056</td>\n      <td>1398-03-11 18:30:00</td>\n      <td>1398</td>\n      <td>3</td>\n      <td>11</td>\n      <td>18</td>\n      <td>30</td>\n      <td>0</td>\n      <td>0.0</td>\n      <td>0.0</td>\n      <td>0.0</td>\n      <td>0.0</td>\n    </tr>\n    <tr>\n      <th>3525</th>\n      <td>110164056</td>\n      <td>1398-03-12 06:30:00</td>\n      <td>1398</td>\n      <td>3</td>\n      <td>12</td>\n      <td>6</td>\n      <td>30</td>\n      <td>0</td>\n      <td>1.0</td>\n      <td>0.0</td>\n      <td>0.0</td>\n      <td>1.0</td>\n    </tr>\n    <tr>\n      <th>3525</th>\n      <td>110164056</td>\n      <td>1398-03-12 18:30:00</td>\n      <td>1398</td>\n      <td>3</td>\n      <td>12</td>\n      <td>18</td>\n      <td>30</td>\n      <td>0</td>\n      <td>0.0</td>\n      <td>0.0</td>\n      <td>0.0</td>\n      <td>0.0</td>\n    </tr>\n    <tr>\n      <th>3526</th>\n      <td>110164056</td>\n      <td>1398-04-07 06:30:00</td>\n      <td>1398</td>\n      <td>4</td>\n      <td>7</td>\n      <td>6</td>\n      <td>30</td>\n      <td>0</td>\n      <td>0.0</td>\n      <td>0.0</td>\n      <td>0.0</td>\n      <td>0.0</td>\n    </tr>\n    <tr>\n      <th>3526</th>\n      <td>110164056</td>\n      <td>1398-04-07 18:30:00</td>\n      <td>1398</td>\n      <td>4</td>\n      <td>7</td>\n      <td>18</td>\n      <td>30</td>\n      <td>0</td>\n      <td>4.0</td>\n      <td>0.0</td>\n      <td>0.0</td>\n      <td>4.0</td>\n    </tr>\n  </tbody>\n</table>\n<p>7054 rows × 12 columns</p>\n</div>"
     },
     "metadata": {},
     "execution_count": 7
    }
   ],
   "source": [
    "data"
   ]
  },
  {
   "cell_type": "code",
   "execution_count": 8,
   "metadata": {},
   "outputs": [],
   "source": [
    "data.to_csv(\"data.csv\", index=False)"
   ]
  },
  {
   "cell_type": "code",
   "execution_count": null,
   "metadata": {},
   "outputs": [],
   "source": []
  }
 ]
}